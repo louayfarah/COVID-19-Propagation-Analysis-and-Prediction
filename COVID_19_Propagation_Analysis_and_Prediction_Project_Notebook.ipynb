{
  "nbformat": 4,
  "nbformat_minor": 0,
  "metadata": {
    "colab": {
      "name": "COVID-19 Propagation Analysis and Prediction-Project Notebook.ipynb",
      "provenance": [],
      "collapsed_sections": [
        "3POlArhOxRB1"
      ]
    },
    "kernelspec": {
      "name": "python3",
      "display_name": "Python 3"
    }
  },
  "cells": [
    {
      "cell_type": "markdown",
      "metadata": {
        "id": "3POlArhOxRB1"
      },
      "source": [
        "# ***COVID-19 propagation: analysis and experimentation***\n",
        "*Analysis and modeling: Louay Farah*"
      ]
    },
    {
      "cell_type": "markdown",
      "metadata": {
        "id": "9Tgd93qwiQc3"
      },
      "source": [
        "# Dataset"
      ]
    },
    {
      "cell_type": "markdown",
      "metadata": {
        "id": "n943lXFbkbdd"
      },
      "source": [
        "https://covid19.who.int/WHO-COVID-19-global-data.csv"
      ]
    },
    {
      "cell_type": "markdown",
      "metadata": {
        "id": "fa-rKXowXy8T"
      },
      "source": [
        "# Importing libraries and modules"
      ]
    },
    {
      "cell_type": "code",
      "metadata": {
        "id": "ufEZfuifYau9"
      },
      "source": [
        "import pandas as pd                  #For data exploration and preprocessing\n",
        "import numpy as np                   #For data manipulation\n",
        "import matplotlib.pyplot as plt      #For data plotting\n",
        "\n",
        "from sklearn.model_selection import train_test_split #For splitting data\n",
        "from sklearn.linear_model import LinearRegression    #For creating regression models\n",
        "from sklearn.preprocessing import PolynomialFeatures #For fitting features to polynomial regression model\n",
        "from sklearn.metrics import mean_squared_error       #For calculating MSE\n",
        "from sklearn.metrics import r2_score                 #For calculationg R-squared scores"
      ],
      "execution_count": 108,
      "outputs": []
    },
    {
      "cell_type": "markdown",
      "metadata": {
        "id": "3X_6IxKsXm4c"
      },
      "source": [
        "# Loading Dataset"
      ]
    },
    {
      "cell_type": "code",
      "metadata": {
        "id": "iu6_y6_Pr7ev"
      },
      "source": [
        "#Loading the 'WHO-COVID-19-global-data.csv' dataset that contains comma-seperated values, and saving it as a data frame called 'df'.\n",
        "df=pd.read_csv('WHO-COVID-19-global-data.csv', sep=',')    "
      ],
      "execution_count": 109,
      "outputs": []
    },
    {
      "cell_type": "code",
      "metadata": {
        "id": "kRFgqCcphGvh",
        "colab": {
          "base_uri": "https://localhost:8080/",
          "height": 419
        },
        "outputId": "f2b6f61e-47e0-4be2-a4d8-0483882f483a"
      },
      "source": [
        "#Printing a part of the dataset\n",
        "df"
      ],
      "execution_count": 110,
      "outputs": [
        {
          "output_type": "execute_result",
          "data": {
            "text/html": [
              "<div>\n",
              "<style scoped>\n",
              "    .dataframe tbody tr th:only-of-type {\n",
              "        vertical-align: middle;\n",
              "    }\n",
              "\n",
              "    .dataframe tbody tr th {\n",
              "        vertical-align: top;\n",
              "    }\n",
              "\n",
              "    .dataframe thead th {\n",
              "        text-align: right;\n",
              "    }\n",
              "</style>\n",
              "<table border=\"1\" class=\"dataframe\">\n",
              "  <thead>\n",
              "    <tr style=\"text-align: right;\">\n",
              "      <th></th>\n",
              "      <th>Date_reported</th>\n",
              "      <th>Country_code</th>\n",
              "      <th>Country</th>\n",
              "      <th>WHO_region</th>\n",
              "      <th>New_cases</th>\n",
              "      <th>Cumulative_cases</th>\n",
              "      <th>New_deaths</th>\n",
              "      <th>Cumulative_deaths</th>\n",
              "    </tr>\n",
              "  </thead>\n",
              "  <tbody>\n",
              "    <tr>\n",
              "      <th>0</th>\n",
              "      <td>2020-01-03</td>\n",
              "      <td>AF</td>\n",
              "      <td>Afghanistan</td>\n",
              "      <td>EMRO</td>\n",
              "      <td>0</td>\n",
              "      <td>0</td>\n",
              "      <td>0</td>\n",
              "      <td>0</td>\n",
              "    </tr>\n",
              "    <tr>\n",
              "      <th>1</th>\n",
              "      <td>2020-01-04</td>\n",
              "      <td>AF</td>\n",
              "      <td>Afghanistan</td>\n",
              "      <td>EMRO</td>\n",
              "      <td>0</td>\n",
              "      <td>0</td>\n",
              "      <td>0</td>\n",
              "      <td>0</td>\n",
              "    </tr>\n",
              "    <tr>\n",
              "      <th>2</th>\n",
              "      <td>2020-01-05</td>\n",
              "      <td>AF</td>\n",
              "      <td>Afghanistan</td>\n",
              "      <td>EMRO</td>\n",
              "      <td>0</td>\n",
              "      <td>0</td>\n",
              "      <td>0</td>\n",
              "      <td>0</td>\n",
              "    </tr>\n",
              "    <tr>\n",
              "      <th>3</th>\n",
              "      <td>2020-01-06</td>\n",
              "      <td>AF</td>\n",
              "      <td>Afghanistan</td>\n",
              "      <td>EMRO</td>\n",
              "      <td>0</td>\n",
              "      <td>0</td>\n",
              "      <td>0</td>\n",
              "      <td>0</td>\n",
              "    </tr>\n",
              "    <tr>\n",
              "      <th>4</th>\n",
              "      <td>2020-01-07</td>\n",
              "      <td>AF</td>\n",
              "      <td>Afghanistan</td>\n",
              "      <td>EMRO</td>\n",
              "      <td>0</td>\n",
              "      <td>0</td>\n",
              "      <td>0</td>\n",
              "      <td>0</td>\n",
              "    </tr>\n",
              "    <tr>\n",
              "      <th>...</th>\n",
              "      <td>...</td>\n",
              "      <td>...</td>\n",
              "      <td>...</td>\n",
              "      <td>...</td>\n",
              "      <td>...</td>\n",
              "      <td>...</td>\n",
              "      <td>...</td>\n",
              "      <td>...</td>\n",
              "    </tr>\n",
              "    <tr>\n",
              "      <th>149542</th>\n",
              "      <td>2021-09-20</td>\n",
              "      <td>ZW</td>\n",
              "      <td>Zimbabwe</td>\n",
              "      <td>AFRO</td>\n",
              "      <td>199</td>\n",
              "      <td>127938</td>\n",
              "      <td>4</td>\n",
              "      <td>4567</td>\n",
              "    </tr>\n",
              "    <tr>\n",
              "      <th>149543</th>\n",
              "      <td>2021-09-21</td>\n",
              "      <td>ZW</td>\n",
              "      <td>Zimbabwe</td>\n",
              "      <td>AFRO</td>\n",
              "      <td>248</td>\n",
              "      <td>128186</td>\n",
              "      <td>2</td>\n",
              "      <td>4569</td>\n",
              "    </tr>\n",
              "    <tr>\n",
              "      <th>149544</th>\n",
              "      <td>2021-09-22</td>\n",
              "      <td>ZW</td>\n",
              "      <td>Zimbabwe</td>\n",
              "      <td>AFRO</td>\n",
              "      <td>0</td>\n",
              "      <td>128186</td>\n",
              "      <td>0</td>\n",
              "      <td>4569</td>\n",
              "    </tr>\n",
              "    <tr>\n",
              "      <th>149545</th>\n",
              "      <td>2021-09-23</td>\n",
              "      <td>ZW</td>\n",
              "      <td>Zimbabwe</td>\n",
              "      <td>AFRO</td>\n",
              "      <td>618</td>\n",
              "      <td>128804</td>\n",
              "      <td>23</td>\n",
              "      <td>4592</td>\n",
              "    </tr>\n",
              "    <tr>\n",
              "      <th>149546</th>\n",
              "      <td>2021-09-24</td>\n",
              "      <td>ZW</td>\n",
              "      <td>Zimbabwe</td>\n",
              "      <td>AFRO</td>\n",
              "      <td>330</td>\n",
              "      <td>129134</td>\n",
              "      <td>8</td>\n",
              "      <td>4600</td>\n",
              "    </tr>\n",
              "  </tbody>\n",
              "</table>\n",
              "<p>149547 rows × 8 columns</p>\n",
              "</div>"
            ],
            "text/plain": [
              "       Date_reported Country_code  ... New_deaths Cumulative_deaths\n",
              "0         2020-01-03           AF  ...          0                 0\n",
              "1         2020-01-04           AF  ...          0                 0\n",
              "2         2020-01-05           AF  ...          0                 0\n",
              "3         2020-01-06           AF  ...          0                 0\n",
              "4         2020-01-07           AF  ...          0                 0\n",
              "...              ...          ...  ...        ...               ...\n",
              "149542    2021-09-20           ZW  ...          4              4567\n",
              "149543    2021-09-21           ZW  ...          2              4569\n",
              "149544    2021-09-22           ZW  ...          0              4569\n",
              "149545    2021-09-23           ZW  ...         23              4592\n",
              "149546    2021-09-24           ZW  ...          8              4600\n",
              "\n",
              "[149547 rows x 8 columns]"
            ]
          },
          "metadata": {},
          "execution_count": 110
        }
      ]
    },
    {
      "cell_type": "markdown",
      "metadata": {
        "id": "WKVTehd9izwu"
      },
      "source": [
        "# Dataset exploration and preprocessing"
      ]
    },
    {
      "cell_type": "code",
      "metadata": {
        "id": "8pfY-0V0i6Xi",
        "colab": {
          "base_uri": "https://localhost:8080/",
          "height": 204
        },
        "outputId": "5dd1d08b-6aee-422a-b076-b48bede4a75c"
      },
      "source": [
        "#printing the first 5 rows of the dataset\n",
        "df.head()     "
      ],
      "execution_count": 111,
      "outputs": [
        {
          "output_type": "execute_result",
          "data": {
            "text/html": [
              "<div>\n",
              "<style scoped>\n",
              "    .dataframe tbody tr th:only-of-type {\n",
              "        vertical-align: middle;\n",
              "    }\n",
              "\n",
              "    .dataframe tbody tr th {\n",
              "        vertical-align: top;\n",
              "    }\n",
              "\n",
              "    .dataframe thead th {\n",
              "        text-align: right;\n",
              "    }\n",
              "</style>\n",
              "<table border=\"1\" class=\"dataframe\">\n",
              "  <thead>\n",
              "    <tr style=\"text-align: right;\">\n",
              "      <th></th>\n",
              "      <th>Date_reported</th>\n",
              "      <th>Country_code</th>\n",
              "      <th>Country</th>\n",
              "      <th>WHO_region</th>\n",
              "      <th>New_cases</th>\n",
              "      <th>Cumulative_cases</th>\n",
              "      <th>New_deaths</th>\n",
              "      <th>Cumulative_deaths</th>\n",
              "    </tr>\n",
              "  </thead>\n",
              "  <tbody>\n",
              "    <tr>\n",
              "      <th>0</th>\n",
              "      <td>2020-01-03</td>\n",
              "      <td>AF</td>\n",
              "      <td>Afghanistan</td>\n",
              "      <td>EMRO</td>\n",
              "      <td>0</td>\n",
              "      <td>0</td>\n",
              "      <td>0</td>\n",
              "      <td>0</td>\n",
              "    </tr>\n",
              "    <tr>\n",
              "      <th>1</th>\n",
              "      <td>2020-01-04</td>\n",
              "      <td>AF</td>\n",
              "      <td>Afghanistan</td>\n",
              "      <td>EMRO</td>\n",
              "      <td>0</td>\n",
              "      <td>0</td>\n",
              "      <td>0</td>\n",
              "      <td>0</td>\n",
              "    </tr>\n",
              "    <tr>\n",
              "      <th>2</th>\n",
              "      <td>2020-01-05</td>\n",
              "      <td>AF</td>\n",
              "      <td>Afghanistan</td>\n",
              "      <td>EMRO</td>\n",
              "      <td>0</td>\n",
              "      <td>0</td>\n",
              "      <td>0</td>\n",
              "      <td>0</td>\n",
              "    </tr>\n",
              "    <tr>\n",
              "      <th>3</th>\n",
              "      <td>2020-01-06</td>\n",
              "      <td>AF</td>\n",
              "      <td>Afghanistan</td>\n",
              "      <td>EMRO</td>\n",
              "      <td>0</td>\n",
              "      <td>0</td>\n",
              "      <td>0</td>\n",
              "      <td>0</td>\n",
              "    </tr>\n",
              "    <tr>\n",
              "      <th>4</th>\n",
              "      <td>2020-01-07</td>\n",
              "      <td>AF</td>\n",
              "      <td>Afghanistan</td>\n",
              "      <td>EMRO</td>\n",
              "      <td>0</td>\n",
              "      <td>0</td>\n",
              "      <td>0</td>\n",
              "      <td>0</td>\n",
              "    </tr>\n",
              "  </tbody>\n",
              "</table>\n",
              "</div>"
            ],
            "text/plain": [
              "  Date_reported Country_code  ... New_deaths Cumulative_deaths\n",
              "0    2020-01-03           AF  ...          0                 0\n",
              "1    2020-01-04           AF  ...          0                 0\n",
              "2    2020-01-05           AF  ...          0                 0\n",
              "3    2020-01-06           AF  ...          0                 0\n",
              "4    2020-01-07           AF  ...          0                 0\n",
              "\n",
              "[5 rows x 8 columns]"
            ]
          },
          "metadata": {},
          "execution_count": 111
        }
      ]
    },
    {
      "cell_type": "code",
      "metadata": {
        "id": "qFLiBY8NjLlg",
        "colab": {
          "base_uri": "https://localhost:8080/",
          "height": 204
        },
        "outputId": "f6210b4c-19cf-4696-abe8-382d364efdfa"
      },
      "source": [
        "#printing the last 5 rows of the dataset\n",
        "df.tail()     "
      ],
      "execution_count": 112,
      "outputs": [
        {
          "output_type": "execute_result",
          "data": {
            "text/html": [
              "<div>\n",
              "<style scoped>\n",
              "    .dataframe tbody tr th:only-of-type {\n",
              "        vertical-align: middle;\n",
              "    }\n",
              "\n",
              "    .dataframe tbody tr th {\n",
              "        vertical-align: top;\n",
              "    }\n",
              "\n",
              "    .dataframe thead th {\n",
              "        text-align: right;\n",
              "    }\n",
              "</style>\n",
              "<table border=\"1\" class=\"dataframe\">\n",
              "  <thead>\n",
              "    <tr style=\"text-align: right;\">\n",
              "      <th></th>\n",
              "      <th>Date_reported</th>\n",
              "      <th>Country_code</th>\n",
              "      <th>Country</th>\n",
              "      <th>WHO_region</th>\n",
              "      <th>New_cases</th>\n",
              "      <th>Cumulative_cases</th>\n",
              "      <th>New_deaths</th>\n",
              "      <th>Cumulative_deaths</th>\n",
              "    </tr>\n",
              "  </thead>\n",
              "  <tbody>\n",
              "    <tr>\n",
              "      <th>149542</th>\n",
              "      <td>2021-09-20</td>\n",
              "      <td>ZW</td>\n",
              "      <td>Zimbabwe</td>\n",
              "      <td>AFRO</td>\n",
              "      <td>199</td>\n",
              "      <td>127938</td>\n",
              "      <td>4</td>\n",
              "      <td>4567</td>\n",
              "    </tr>\n",
              "    <tr>\n",
              "      <th>149543</th>\n",
              "      <td>2021-09-21</td>\n",
              "      <td>ZW</td>\n",
              "      <td>Zimbabwe</td>\n",
              "      <td>AFRO</td>\n",
              "      <td>248</td>\n",
              "      <td>128186</td>\n",
              "      <td>2</td>\n",
              "      <td>4569</td>\n",
              "    </tr>\n",
              "    <tr>\n",
              "      <th>149544</th>\n",
              "      <td>2021-09-22</td>\n",
              "      <td>ZW</td>\n",
              "      <td>Zimbabwe</td>\n",
              "      <td>AFRO</td>\n",
              "      <td>0</td>\n",
              "      <td>128186</td>\n",
              "      <td>0</td>\n",
              "      <td>4569</td>\n",
              "    </tr>\n",
              "    <tr>\n",
              "      <th>149545</th>\n",
              "      <td>2021-09-23</td>\n",
              "      <td>ZW</td>\n",
              "      <td>Zimbabwe</td>\n",
              "      <td>AFRO</td>\n",
              "      <td>618</td>\n",
              "      <td>128804</td>\n",
              "      <td>23</td>\n",
              "      <td>4592</td>\n",
              "    </tr>\n",
              "    <tr>\n",
              "      <th>149546</th>\n",
              "      <td>2021-09-24</td>\n",
              "      <td>ZW</td>\n",
              "      <td>Zimbabwe</td>\n",
              "      <td>AFRO</td>\n",
              "      <td>330</td>\n",
              "      <td>129134</td>\n",
              "      <td>8</td>\n",
              "      <td>4600</td>\n",
              "    </tr>\n",
              "  </tbody>\n",
              "</table>\n",
              "</div>"
            ],
            "text/plain": [
              "       Date_reported Country_code  ... New_deaths Cumulative_deaths\n",
              "149542    2021-09-20           ZW  ...          4              4567\n",
              "149543    2021-09-21           ZW  ...          2              4569\n",
              "149544    2021-09-22           ZW  ...          0              4569\n",
              "149545    2021-09-23           ZW  ...         23              4592\n",
              "149546    2021-09-24           ZW  ...          8              4600\n",
              "\n",
              "[5 rows x 8 columns]"
            ]
          },
          "metadata": {},
          "execution_count": 112
        }
      ]
    },
    {
      "cell_type": "code",
      "metadata": {
        "id": "SQvOx3hNjbvI",
        "colab": {
          "base_uri": "https://localhost:8080/"
        },
        "outputId": "c3f57a3e-fabc-47f9-d2d4-9b8134cd09af"
      },
      "source": [
        "#Getting informations about the dataset\n",
        "df.info()"
      ],
      "execution_count": 113,
      "outputs": [
        {
          "output_type": "stream",
          "name": "stdout",
          "text": [
            "<class 'pandas.core.frame.DataFrame'>\n",
            "RangeIndex: 149547 entries, 0 to 149546\n",
            "Data columns (total 8 columns):\n",
            " #   Column             Non-Null Count   Dtype \n",
            "---  ------             --------------   ----- \n",
            " 0   Date_reported      149547 non-null  object\n",
            " 1   Country_code       148916 non-null  object\n",
            " 2   Country            149547 non-null  object\n",
            " 3   WHO_region         149547 non-null  object\n",
            " 4   New_cases          149547 non-null  int64 \n",
            " 5   Cumulative_cases   149547 non-null  int64 \n",
            " 6   New_deaths         149547 non-null  int64 \n",
            " 7   Cumulative_deaths  149547 non-null  int64 \n",
            "dtypes: int64(4), object(4)\n",
            "memory usage: 9.1+ MB\n"
          ]
        }
      ]
    },
    {
      "cell_type": "code",
      "metadata": {
        "id": "jfzXoXbQtQnv",
        "colab": {
          "base_uri": "https://localhost:8080/"
        },
        "outputId": "d23090a6-b47e-4054-85da-bf5c319cf240"
      },
      "source": [
        "#Making sure all countries are represented with the same weight\n",
        "df.iloc[:,2].value_counts().describe() "
      ],
      "execution_count": 114,
      "outputs": [
        {
          "output_type": "execute_result",
          "data": {
            "text/plain": [
              "count    237.0\n",
              "mean     631.0\n",
              "std        0.0\n",
              "min      631.0\n",
              "25%      631.0\n",
              "50%      631.0\n",
              "75%      631.0\n",
              "max      631.0\n",
              "Name: Country, dtype: float64"
            ]
          },
          "metadata": {},
          "execution_count": 114
        }
      ]
    },
    {
      "cell_type": "code",
      "metadata": {
        "id": "4-1GSBWnujC1",
        "colab": {
          "base_uri": "https://localhost:8080/"
        },
        "outputId": "1248eae2-cc0d-4f97-cdb5-2ee6916fae78"
      },
      "source": [
        "#Showing the features that contain NaN values.\n",
        "df.isnull().sum()        \n",
        "#We can see that only the Country_code feature contains NaN values."
      ],
      "execution_count": 115,
      "outputs": [
        {
          "output_type": "execute_result",
          "data": {
            "text/plain": [
              "Date_reported          0\n",
              "Country_code         631\n",
              "Country                0\n",
              "WHO_region             0\n",
              "New_cases              0\n",
              "Cumulative_cases       0\n",
              "New_deaths             0\n",
              "Cumulative_deaths      0\n",
              "dtype: int64"
            ]
          },
          "metadata": {},
          "execution_count": 115
        }
      ]
    },
    {
      "cell_type": "code",
      "metadata": {
        "id": "08UyOoeoUeup"
      },
      "source": [
        "#Making sure all countries have the same number of observations.\n",
        "result=False\n",
        "l=df.iloc[:,2].value_counts().tolist()\n",
        "if len(l)>0:\n",
        "  result = all(elem == l[0] for elem in l)\n",
        "\n",
        "assert result    "
      ],
      "execution_count": 116,
      "outputs": []
    },
    {
      "cell_type": "code",
      "metadata": {
        "id": "CX3E3kvuvSdk",
        "colab": {
          "base_uri": "https://localhost:8080/"
        },
        "outputId": "535f4d9b-b957-44c8-a8a2-2d871194ebed"
      },
      "source": [
        "df[df.iloc[:,1].isnull()].iloc[:,2].value_counts()\n",
        "#Namibia is the only country without a country code."
      ],
      "execution_count": 117,
      "outputs": [
        {
          "output_type": "execute_result",
          "data": {
            "text/plain": [
              "Namibia    631\n",
              "Name: Country, dtype: int64"
            ]
          },
          "metadata": {},
          "execution_count": 117
        }
      ]
    },
    {
      "cell_type": "code",
      "metadata": {
        "id": "HELz8rh7wSyz",
        "colab": {
          "base_uri": "https://localhost:8080/",
          "height": 49
        },
        "outputId": "aed53b12-263b-4e3c-ed70-968fbbdc6112"
      },
      "source": [
        "#Making sure NM is not used as a country code.\n",
        "df[df.iloc[:,1]=='NM']   "
      ],
      "execution_count": 118,
      "outputs": [
        {
          "output_type": "execute_result",
          "data": {
            "text/html": [
              "<div>\n",
              "<style scoped>\n",
              "    .dataframe tbody tr th:only-of-type {\n",
              "        vertical-align: middle;\n",
              "    }\n",
              "\n",
              "    .dataframe tbody tr th {\n",
              "        vertical-align: top;\n",
              "    }\n",
              "\n",
              "    .dataframe thead th {\n",
              "        text-align: right;\n",
              "    }\n",
              "</style>\n",
              "<table border=\"1\" class=\"dataframe\">\n",
              "  <thead>\n",
              "    <tr style=\"text-align: right;\">\n",
              "      <th></th>\n",
              "      <th>Date_reported</th>\n",
              "      <th>Country_code</th>\n",
              "      <th>Country</th>\n",
              "      <th>WHO_region</th>\n",
              "      <th>New_cases</th>\n",
              "      <th>Cumulative_cases</th>\n",
              "      <th>New_deaths</th>\n",
              "      <th>Cumulative_deaths</th>\n",
              "    </tr>\n",
              "  </thead>\n",
              "  <tbody>\n",
              "  </tbody>\n",
              "</table>\n",
              "</div>"
            ],
            "text/plain": [
              "Empty DataFrame\n",
              "Columns: [Date_reported, Country_code, Country, WHO_region, New_cases, Cumulative_cases, New_deaths, Cumulative_deaths]\n",
              "Index: []"
            ]
          },
          "metadata": {},
          "execution_count": 118
        }
      ]
    },
    {
      "cell_type": "code",
      "metadata": {
        "id": "pPJhsxqzPkAu",
        "colab": {
          "base_uri": "https://localhost:8080/"
        },
        "outputId": "16e4f761-90b3-4a28-9cee-bf4dbea639c3"
      },
      "source": [
        "#Replacing NaN values in Namibia Country_code feature by 'NM'\n",
        "df.fillna('NM', inplace=True)\n",
        "df[df.iloc[:,2]=='Namibia'].iloc[:,1]"
      ],
      "execution_count": 119,
      "outputs": [
        {
          "output_type": "execute_result",
          "data": {
            "text/plain": [
              "90233    NM\n",
              "90234    NM\n",
              "90235    NM\n",
              "90236    NM\n",
              "90237    NM\n",
              "         ..\n",
              "90859    NM\n",
              "90860    NM\n",
              "90861    NM\n",
              "90862    NM\n",
              "90863    NM\n",
              "Name: Country_code, Length: 631, dtype: object"
            ]
          },
          "metadata": {},
          "execution_count": 119
        }
      ]
    },
    {
      "cell_type": "code",
      "metadata": {
        "id": "u81aIz02wmHy",
        "colab": {
          "base_uri": "https://localhost:8080/"
        },
        "outputId": "9539c3f9-f4d6-4702-a847-168b02109094"
      },
      "source": [
        "#Counting the number of regions and countries where the observations were made.\n",
        "print(df.iloc[:,3].value_counts(),'\\n')\n",
        "print('Observations have been made on {0} regions and {1} countries.'.format(len(df.iloc[:,3].value_counts().index), len(df.iloc[:,2].value_counts().index)))\n",
        "countries=len(df.iloc[:,2].value_counts().index)\n",
        "obs=(len(df)//countries)\n",
        "print('Number of observations: {}'.format(obs))"
      ],
      "execution_count": 120,
      "outputs": [
        {
          "output_type": "stream",
          "name": "stdout",
          "text": [
            "EURO     39122\n",
            "AMRO     35336\n",
            "AFRO     31550\n",
            "WPRO     22085\n",
            "EMRO     13882\n",
            "SEARO     6941\n",
            "Other      631\n",
            "Name: WHO_region, dtype: int64 \n",
            "\n",
            "Observations have been made on 7 regions and 237 countries.\n",
            "Number of observations: 631\n"
          ]
        }
      ]
    },
    {
      "cell_type": "code",
      "metadata": {
        "id": "woMUsL2hOi9M",
        "colab": {
          "base_uri": "https://localhost:8080/"
        },
        "outputId": "94d02cba-6d98-4482-99ce-f5751e1e2ece"
      },
      "source": [
        "#Making sure the is no more NaN values in the dataset.\n",
        "df.isnull().sum().sum()   "
      ],
      "execution_count": 121,
      "outputs": [
        {
          "output_type": "execute_result",
          "data": {
            "text/plain": [
              "0"
            ]
          },
          "metadata": {},
          "execution_count": 121
        }
      ]
    },
    {
      "cell_type": "markdown",
      "metadata": {
        "id": "TMNfSwFkapRs"
      },
      "source": [
        "# 1: Creating COVID-19 Global prediction models"
      ]
    },
    {
      "cell_type": "markdown",
      "metadata": {
        "id": "IEj-O9Fja0wM"
      },
      "source": [
        "**Understanding data, preprocessing and Visualization**"
      ]
    },
    {
      "cell_type": "code",
      "metadata": {
        "id": "cMUcw0jcbJuL",
        "colab": {
          "base_uri": "https://localhost:8080/",
          "height": 204
        },
        "outputId": "6db0f361-e728-4bcf-a741-c4fd65ca7b3e"
      },
      "source": [
        "#Printing the first 5 rows of the dataset.\n",
        "df.head()"
      ],
      "execution_count": 122,
      "outputs": [
        {
          "output_type": "execute_result",
          "data": {
            "text/html": [
              "<div>\n",
              "<style scoped>\n",
              "    .dataframe tbody tr th:only-of-type {\n",
              "        vertical-align: middle;\n",
              "    }\n",
              "\n",
              "    .dataframe tbody tr th {\n",
              "        vertical-align: top;\n",
              "    }\n",
              "\n",
              "    .dataframe thead th {\n",
              "        text-align: right;\n",
              "    }\n",
              "</style>\n",
              "<table border=\"1\" class=\"dataframe\">\n",
              "  <thead>\n",
              "    <tr style=\"text-align: right;\">\n",
              "      <th></th>\n",
              "      <th>Date_reported</th>\n",
              "      <th>Country_code</th>\n",
              "      <th>Country</th>\n",
              "      <th>WHO_region</th>\n",
              "      <th>New_cases</th>\n",
              "      <th>Cumulative_cases</th>\n",
              "      <th>New_deaths</th>\n",
              "      <th>Cumulative_deaths</th>\n",
              "    </tr>\n",
              "  </thead>\n",
              "  <tbody>\n",
              "    <tr>\n",
              "      <th>0</th>\n",
              "      <td>2020-01-03</td>\n",
              "      <td>AF</td>\n",
              "      <td>Afghanistan</td>\n",
              "      <td>EMRO</td>\n",
              "      <td>0</td>\n",
              "      <td>0</td>\n",
              "      <td>0</td>\n",
              "      <td>0</td>\n",
              "    </tr>\n",
              "    <tr>\n",
              "      <th>1</th>\n",
              "      <td>2020-01-04</td>\n",
              "      <td>AF</td>\n",
              "      <td>Afghanistan</td>\n",
              "      <td>EMRO</td>\n",
              "      <td>0</td>\n",
              "      <td>0</td>\n",
              "      <td>0</td>\n",
              "      <td>0</td>\n",
              "    </tr>\n",
              "    <tr>\n",
              "      <th>2</th>\n",
              "      <td>2020-01-05</td>\n",
              "      <td>AF</td>\n",
              "      <td>Afghanistan</td>\n",
              "      <td>EMRO</td>\n",
              "      <td>0</td>\n",
              "      <td>0</td>\n",
              "      <td>0</td>\n",
              "      <td>0</td>\n",
              "    </tr>\n",
              "    <tr>\n",
              "      <th>3</th>\n",
              "      <td>2020-01-06</td>\n",
              "      <td>AF</td>\n",
              "      <td>Afghanistan</td>\n",
              "      <td>EMRO</td>\n",
              "      <td>0</td>\n",
              "      <td>0</td>\n",
              "      <td>0</td>\n",
              "      <td>0</td>\n",
              "    </tr>\n",
              "    <tr>\n",
              "      <th>4</th>\n",
              "      <td>2020-01-07</td>\n",
              "      <td>AF</td>\n",
              "      <td>Afghanistan</td>\n",
              "      <td>EMRO</td>\n",
              "      <td>0</td>\n",
              "      <td>0</td>\n",
              "      <td>0</td>\n",
              "      <td>0</td>\n",
              "    </tr>\n",
              "  </tbody>\n",
              "</table>\n",
              "</div>"
            ],
            "text/plain": [
              "  Date_reported Country_code  ... New_deaths Cumulative_deaths\n",
              "0    2020-01-03           AF  ...          0                 0\n",
              "1    2020-01-04           AF  ...          0                 0\n",
              "2    2020-01-05           AF  ...          0                 0\n",
              "3    2020-01-06           AF  ...          0                 0\n",
              "4    2020-01-07           AF  ...          0                 0\n",
              "\n",
              "[5 rows x 8 columns]"
            ]
          },
          "metadata": {},
          "execution_count": 122
        }
      ]
    },
    {
      "cell_type": "code",
      "metadata": {
        "id": "clRNi0P8l6lH"
      },
      "source": [
        "#creating a data frame called 'df_nc' to store New_cases feature evolution.\n",
        "df_nc=df.iloc[:, [4,0]]"
      ],
      "execution_count": 123,
      "outputs": []
    },
    {
      "cell_type": "code",
      "metadata": {
        "id": "tr62M1KOmCqa",
        "colab": {
          "base_uri": "https://localhost:8080/",
          "height": 204
        },
        "outputId": "eaccee2d-e1ec-499d-e648-e3e46c8e9c74"
      },
      "source": [
        "#Printing the first 5 rows of 'df_nc'\n",
        "df_nc.head()"
      ],
      "execution_count": 124,
      "outputs": [
        {
          "output_type": "execute_result",
          "data": {
            "text/html": [
              "<div>\n",
              "<style scoped>\n",
              "    .dataframe tbody tr th:only-of-type {\n",
              "        vertical-align: middle;\n",
              "    }\n",
              "\n",
              "    .dataframe tbody tr th {\n",
              "        vertical-align: top;\n",
              "    }\n",
              "\n",
              "    .dataframe thead th {\n",
              "        text-align: right;\n",
              "    }\n",
              "</style>\n",
              "<table border=\"1\" class=\"dataframe\">\n",
              "  <thead>\n",
              "    <tr style=\"text-align: right;\">\n",
              "      <th></th>\n",
              "      <th>New_cases</th>\n",
              "      <th>Date_reported</th>\n",
              "    </tr>\n",
              "  </thead>\n",
              "  <tbody>\n",
              "    <tr>\n",
              "      <th>0</th>\n",
              "      <td>0</td>\n",
              "      <td>2020-01-03</td>\n",
              "    </tr>\n",
              "    <tr>\n",
              "      <th>1</th>\n",
              "      <td>0</td>\n",
              "      <td>2020-01-04</td>\n",
              "    </tr>\n",
              "    <tr>\n",
              "      <th>2</th>\n",
              "      <td>0</td>\n",
              "      <td>2020-01-05</td>\n",
              "    </tr>\n",
              "    <tr>\n",
              "      <th>3</th>\n",
              "      <td>0</td>\n",
              "      <td>2020-01-06</td>\n",
              "    </tr>\n",
              "    <tr>\n",
              "      <th>4</th>\n",
              "      <td>0</td>\n",
              "      <td>2020-01-07</td>\n",
              "    </tr>\n",
              "  </tbody>\n",
              "</table>\n",
              "</div>"
            ],
            "text/plain": [
              "   New_cases Date_reported\n",
              "0          0    2020-01-03\n",
              "1          0    2020-01-04\n",
              "2          0    2020-01-05\n",
              "3          0    2020-01-06\n",
              "4          0    2020-01-07"
            ]
          },
          "metadata": {},
          "execution_count": 124
        }
      ]
    },
    {
      "cell_type": "code",
      "metadata": {
        "id": "TkA6SH_Ap34i",
        "colab": {
          "base_uri": "https://localhost:8080/",
          "height": 297
        },
        "outputId": "3c9b1f52-9319-48cf-a242-a0c757a2c550"
      },
      "source": [
        "#Getting a description of 'df_nc'.\n",
        "df_nc.describe()"
      ],
      "execution_count": 125,
      "outputs": [
        {
          "output_type": "execute_result",
          "data": {
            "text/html": [
              "<div>\n",
              "<style scoped>\n",
              "    .dataframe tbody tr th:only-of-type {\n",
              "        vertical-align: middle;\n",
              "    }\n",
              "\n",
              "    .dataframe tbody tr th {\n",
              "        vertical-align: top;\n",
              "    }\n",
              "\n",
              "    .dataframe thead th {\n",
              "        text-align: right;\n",
              "    }\n",
              "</style>\n",
              "<table border=\"1\" class=\"dataframe\">\n",
              "  <thead>\n",
              "    <tr style=\"text-align: right;\">\n",
              "      <th></th>\n",
              "      <th>New_cases</th>\n",
              "    </tr>\n",
              "  </thead>\n",
              "  <tbody>\n",
              "    <tr>\n",
              "      <th>count</th>\n",
              "      <td>149547.000000</td>\n",
              "    </tr>\n",
              "    <tr>\n",
              "      <th>mean</th>\n",
              "      <td>1540.776151</td>\n",
              "    </tr>\n",
              "    <tr>\n",
              "      <th>std</th>\n",
              "      <td>9626.331461</td>\n",
              "    </tr>\n",
              "    <tr>\n",
              "      <th>min</th>\n",
              "      <td>-32952.000000</td>\n",
              "    </tr>\n",
              "    <tr>\n",
              "      <th>25%</th>\n",
              "      <td>0.000000</td>\n",
              "    </tr>\n",
              "    <tr>\n",
              "      <th>50%</th>\n",
              "      <td>12.000000</td>\n",
              "    </tr>\n",
              "    <tr>\n",
              "      <th>75%</th>\n",
              "      <td>366.000000</td>\n",
              "    </tr>\n",
              "    <tr>\n",
              "      <th>max</th>\n",
              "      <td>414188.000000</td>\n",
              "    </tr>\n",
              "  </tbody>\n",
              "</table>\n",
              "</div>"
            ],
            "text/plain": [
              "           New_cases\n",
              "count  149547.000000\n",
              "mean     1540.776151\n",
              "std      9626.331461\n",
              "min    -32952.000000\n",
              "25%         0.000000\n",
              "50%        12.000000\n",
              "75%       366.000000\n",
              "max    414188.000000"
            ]
          },
          "metadata": {},
          "execution_count": 125
        }
      ]
    },
    {
      "cell_type": "code",
      "metadata": {
        "id": "f3Fm-WsRnQil"
      },
      "source": [
        "#creating a data frame called 'df_cc' to store Cumulative_cases feature evolution.\n",
        "df_cc=df.iloc[:, [5,0]]"
      ],
      "execution_count": 126,
      "outputs": []
    },
    {
      "cell_type": "code",
      "metadata": {
        "id": "hfRGuY6qnV27",
        "colab": {
          "base_uri": "https://localhost:8080/",
          "height": 204
        },
        "outputId": "bc2806d5-c061-438d-8109-4c69cb0c7941"
      },
      "source": [
        "#Printing the first 5 rows of 'df_cc'\n",
        "df_cc.head()"
      ],
      "execution_count": 127,
      "outputs": [
        {
          "output_type": "execute_result",
          "data": {
            "text/html": [
              "<div>\n",
              "<style scoped>\n",
              "    .dataframe tbody tr th:only-of-type {\n",
              "        vertical-align: middle;\n",
              "    }\n",
              "\n",
              "    .dataframe tbody tr th {\n",
              "        vertical-align: top;\n",
              "    }\n",
              "\n",
              "    .dataframe thead th {\n",
              "        text-align: right;\n",
              "    }\n",
              "</style>\n",
              "<table border=\"1\" class=\"dataframe\">\n",
              "  <thead>\n",
              "    <tr style=\"text-align: right;\">\n",
              "      <th></th>\n",
              "      <th>Cumulative_cases</th>\n",
              "      <th>Date_reported</th>\n",
              "    </tr>\n",
              "  </thead>\n",
              "  <tbody>\n",
              "    <tr>\n",
              "      <th>0</th>\n",
              "      <td>0</td>\n",
              "      <td>2020-01-03</td>\n",
              "    </tr>\n",
              "    <tr>\n",
              "      <th>1</th>\n",
              "      <td>0</td>\n",
              "      <td>2020-01-04</td>\n",
              "    </tr>\n",
              "    <tr>\n",
              "      <th>2</th>\n",
              "      <td>0</td>\n",
              "      <td>2020-01-05</td>\n",
              "    </tr>\n",
              "    <tr>\n",
              "      <th>3</th>\n",
              "      <td>0</td>\n",
              "      <td>2020-01-06</td>\n",
              "    </tr>\n",
              "    <tr>\n",
              "      <th>4</th>\n",
              "      <td>0</td>\n",
              "      <td>2020-01-07</td>\n",
              "    </tr>\n",
              "  </tbody>\n",
              "</table>\n",
              "</div>"
            ],
            "text/plain": [
              "   Cumulative_cases Date_reported\n",
              "0                 0    2020-01-03\n",
              "1                 0    2020-01-04\n",
              "2                 0    2020-01-05\n",
              "3                 0    2020-01-06\n",
              "4                 0    2020-01-07"
            ]
          },
          "metadata": {},
          "execution_count": 127
        }
      ]
    },
    {
      "cell_type": "code",
      "metadata": {
        "id": "VVF8ncYtqCs7",
        "colab": {
          "base_uri": "https://localhost:8080/",
          "height": 297
        },
        "outputId": "f775cac3-cdeb-4863-854f-f66952cfbea1"
      },
      "source": [
        "#Getting a description of 'df_cc'.\n",
        "df_cc.describe()"
      ],
      "execution_count": 128,
      "outputs": [
        {
          "output_type": "execute_result",
          "data": {
            "text/html": [
              "<div>\n",
              "<style scoped>\n",
              "    .dataframe tbody tr th:only-of-type {\n",
              "        vertical-align: middle;\n",
              "    }\n",
              "\n",
              "    .dataframe tbody tr th {\n",
              "        vertical-align: top;\n",
              "    }\n",
              "\n",
              "    .dataframe thead th {\n",
              "        text-align: right;\n",
              "    }\n",
              "</style>\n",
              "<table border=\"1\" class=\"dataframe\">\n",
              "  <thead>\n",
              "    <tr style=\"text-align: right;\">\n",
              "      <th></th>\n",
              "      <th>Cumulative_cases</th>\n",
              "    </tr>\n",
              "  </thead>\n",
              "  <tbody>\n",
              "    <tr>\n",
              "      <th>count</th>\n",
              "      <td>1.495470e+05</td>\n",
              "    </tr>\n",
              "    <tr>\n",
              "      <th>mean</th>\n",
              "      <td>3.301634e+05</td>\n",
              "    </tr>\n",
              "    <tr>\n",
              "      <th>std</th>\n",
              "      <td>1.950743e+06</td>\n",
              "    </tr>\n",
              "    <tr>\n",
              "      <th>min</th>\n",
              "      <td>0.000000e+00</td>\n",
              "    </tr>\n",
              "    <tr>\n",
              "      <th>25%</th>\n",
              "      <td>3.800000e+01</td>\n",
              "    </tr>\n",
              "    <tr>\n",
              "      <th>50%</th>\n",
              "      <td>4.329000e+03</td>\n",
              "    </tr>\n",
              "    <tr>\n",
              "      <th>75%</th>\n",
              "      <td>7.892150e+04</td>\n",
              "    </tr>\n",
              "    <tr>\n",
              "      <th>max</th>\n",
              "      <td>4.230095e+07</td>\n",
              "    </tr>\n",
              "  </tbody>\n",
              "</table>\n",
              "</div>"
            ],
            "text/plain": [
              "       Cumulative_cases\n",
              "count      1.495470e+05\n",
              "mean       3.301634e+05\n",
              "std        1.950743e+06\n",
              "min        0.000000e+00\n",
              "25%        3.800000e+01\n",
              "50%        4.329000e+03\n",
              "75%        7.892150e+04\n",
              "max        4.230095e+07"
            ]
          },
          "metadata": {},
          "execution_count": 128
        }
      ]
    },
    {
      "cell_type": "code",
      "metadata": {
        "id": "6DHHCyzTmPeV"
      },
      "source": [
        "#creating a data frame called 'df_nd' to store New_deaths feature evolution.\n",
        "df_nd=df.iloc[:, [6,0]]"
      ],
      "execution_count": 129,
      "outputs": []
    },
    {
      "cell_type": "code",
      "metadata": {
        "id": "Ng9bE4x9oslp",
        "colab": {
          "base_uri": "https://localhost:8080/",
          "height": 204
        },
        "outputId": "5a520877-dcf3-4e80-c737-aea1dc839181"
      },
      "source": [
        "#Printing the first 5 rows of 'df_nd'\n",
        "df_nd.head()"
      ],
      "execution_count": 130,
      "outputs": [
        {
          "output_type": "execute_result",
          "data": {
            "text/html": [
              "<div>\n",
              "<style scoped>\n",
              "    .dataframe tbody tr th:only-of-type {\n",
              "        vertical-align: middle;\n",
              "    }\n",
              "\n",
              "    .dataframe tbody tr th {\n",
              "        vertical-align: top;\n",
              "    }\n",
              "\n",
              "    .dataframe thead th {\n",
              "        text-align: right;\n",
              "    }\n",
              "</style>\n",
              "<table border=\"1\" class=\"dataframe\">\n",
              "  <thead>\n",
              "    <tr style=\"text-align: right;\">\n",
              "      <th></th>\n",
              "      <th>New_deaths</th>\n",
              "      <th>Date_reported</th>\n",
              "    </tr>\n",
              "  </thead>\n",
              "  <tbody>\n",
              "    <tr>\n",
              "      <th>0</th>\n",
              "      <td>0</td>\n",
              "      <td>2020-01-03</td>\n",
              "    </tr>\n",
              "    <tr>\n",
              "      <th>1</th>\n",
              "      <td>0</td>\n",
              "      <td>2020-01-04</td>\n",
              "    </tr>\n",
              "    <tr>\n",
              "      <th>2</th>\n",
              "      <td>0</td>\n",
              "      <td>2020-01-05</td>\n",
              "    </tr>\n",
              "    <tr>\n",
              "      <th>3</th>\n",
              "      <td>0</td>\n",
              "      <td>2020-01-06</td>\n",
              "    </tr>\n",
              "    <tr>\n",
              "      <th>4</th>\n",
              "      <td>0</td>\n",
              "      <td>2020-01-07</td>\n",
              "    </tr>\n",
              "  </tbody>\n",
              "</table>\n",
              "</div>"
            ],
            "text/plain": [
              "   New_deaths Date_reported\n",
              "0           0    2020-01-03\n",
              "1           0    2020-01-04\n",
              "2           0    2020-01-05\n",
              "3           0    2020-01-06\n",
              "4           0    2020-01-07"
            ]
          },
          "metadata": {},
          "execution_count": 130
        }
      ]
    },
    {
      "cell_type": "code",
      "metadata": {
        "id": "KhIToW3TqN9B",
        "colab": {
          "base_uri": "https://localhost:8080/",
          "height": 297
        },
        "outputId": "2c121372-6882-4745-e297-7cf10f2a9b6f"
      },
      "source": [
        "#Getting a description of 'df_nd'.\n",
        "df_nd.describe()"
      ],
      "execution_count": 131,
      "outputs": [
        {
          "output_type": "execute_result",
          "data": {
            "text/html": [
              "<div>\n",
              "<style scoped>\n",
              "    .dataframe tbody tr th:only-of-type {\n",
              "        vertical-align: middle;\n",
              "    }\n",
              "\n",
              "    .dataframe tbody tr th {\n",
              "        vertical-align: top;\n",
              "    }\n",
              "\n",
              "    .dataframe thead th {\n",
              "        text-align: right;\n",
              "    }\n",
              "</style>\n",
              "<table border=\"1\" class=\"dataframe\">\n",
              "  <thead>\n",
              "    <tr style=\"text-align: right;\">\n",
              "      <th></th>\n",
              "      <th>New_deaths</th>\n",
              "    </tr>\n",
              "  </thead>\n",
              "  <tbody>\n",
              "    <tr>\n",
              "      <th>count</th>\n",
              "      <td>149547.000000</td>\n",
              "    </tr>\n",
              "    <tr>\n",
              "      <th>mean</th>\n",
              "      <td>31.594589</td>\n",
              "    </tr>\n",
              "    <tr>\n",
              "      <th>std</th>\n",
              "      <td>171.096376</td>\n",
              "    </tr>\n",
              "    <tr>\n",
              "      <th>min</th>\n",
              "      <td>-60.000000</td>\n",
              "    </tr>\n",
              "    <tr>\n",
              "      <th>25%</th>\n",
              "      <td>0.000000</td>\n",
              "    </tr>\n",
              "    <tr>\n",
              "      <th>50%</th>\n",
              "      <td>0.000000</td>\n",
              "    </tr>\n",
              "    <tr>\n",
              "      <th>75%</th>\n",
              "      <td>5.000000</td>\n",
              "    </tr>\n",
              "    <tr>\n",
              "      <th>max</th>\n",
              "      <td>8786.000000</td>\n",
              "    </tr>\n",
              "  </tbody>\n",
              "</table>\n",
              "</div>"
            ],
            "text/plain": [
              "          New_deaths\n",
              "count  149547.000000\n",
              "mean       31.594589\n",
              "std       171.096376\n",
              "min       -60.000000\n",
              "25%         0.000000\n",
              "50%         0.000000\n",
              "75%         5.000000\n",
              "max      8786.000000"
            ]
          },
          "metadata": {},
          "execution_count": 131
        }
      ]
    },
    {
      "cell_type": "code",
      "metadata": {
        "id": "CUX4lpg7oxbc"
      },
      "source": [
        "#creating a data frame called 'df_cd' to store Cumulative_deaths feature evolution.\n",
        "df_cd=df.iloc[:, [7,0]]"
      ],
      "execution_count": 132,
      "outputs": []
    },
    {
      "cell_type": "code",
      "metadata": {
        "id": "GJLBrVuto06_",
        "colab": {
          "base_uri": "https://localhost:8080/",
          "height": 204
        },
        "outputId": "ab2aa619-5139-496b-90b4-ebd8f9710886"
      },
      "source": [
        "#Printing the first 5 rows of 'df_cd'\n",
        "df_cd.head()"
      ],
      "execution_count": 133,
      "outputs": [
        {
          "output_type": "execute_result",
          "data": {
            "text/html": [
              "<div>\n",
              "<style scoped>\n",
              "    .dataframe tbody tr th:only-of-type {\n",
              "        vertical-align: middle;\n",
              "    }\n",
              "\n",
              "    .dataframe tbody tr th {\n",
              "        vertical-align: top;\n",
              "    }\n",
              "\n",
              "    .dataframe thead th {\n",
              "        text-align: right;\n",
              "    }\n",
              "</style>\n",
              "<table border=\"1\" class=\"dataframe\">\n",
              "  <thead>\n",
              "    <tr style=\"text-align: right;\">\n",
              "      <th></th>\n",
              "      <th>Cumulative_deaths</th>\n",
              "      <th>Date_reported</th>\n",
              "    </tr>\n",
              "  </thead>\n",
              "  <tbody>\n",
              "    <tr>\n",
              "      <th>0</th>\n",
              "      <td>0</td>\n",
              "      <td>2020-01-03</td>\n",
              "    </tr>\n",
              "    <tr>\n",
              "      <th>1</th>\n",
              "      <td>0</td>\n",
              "      <td>2020-01-04</td>\n",
              "    </tr>\n",
              "    <tr>\n",
              "      <th>2</th>\n",
              "      <td>0</td>\n",
              "      <td>2020-01-05</td>\n",
              "    </tr>\n",
              "    <tr>\n",
              "      <th>3</th>\n",
              "      <td>0</td>\n",
              "      <td>2020-01-06</td>\n",
              "    </tr>\n",
              "    <tr>\n",
              "      <th>4</th>\n",
              "      <td>0</td>\n",
              "      <td>2020-01-07</td>\n",
              "    </tr>\n",
              "  </tbody>\n",
              "</table>\n",
              "</div>"
            ],
            "text/plain": [
              "   Cumulative_deaths Date_reported\n",
              "0                  0    2020-01-03\n",
              "1                  0    2020-01-04\n",
              "2                  0    2020-01-05\n",
              "3                  0    2020-01-06\n",
              "4                  0    2020-01-07"
            ]
          },
          "metadata": {},
          "execution_count": 133
        }
      ]
    },
    {
      "cell_type": "code",
      "metadata": {
        "id": "-GpU3jKOqRuU",
        "colab": {
          "base_uri": "https://localhost:8080/",
          "height": 297
        },
        "outputId": "d111a83e-debb-40b2-f5d6-67356966bf81"
      },
      "source": [
        "#Getting a description of 'df_nd'.\n",
        "df_cd.describe()"
      ],
      "execution_count": 134,
      "outputs": [
        {
          "output_type": "execute_result",
          "data": {
            "text/html": [
              "<div>\n",
              "<style scoped>\n",
              "    .dataframe tbody tr th:only-of-type {\n",
              "        vertical-align: middle;\n",
              "    }\n",
              "\n",
              "    .dataframe tbody tr th {\n",
              "        vertical-align: top;\n",
              "    }\n",
              "\n",
              "    .dataframe thead th {\n",
              "        text-align: right;\n",
              "    }\n",
              "</style>\n",
              "<table border=\"1\" class=\"dataframe\">\n",
              "  <thead>\n",
              "    <tr style=\"text-align: right;\">\n",
              "      <th></th>\n",
              "      <th>Cumulative_deaths</th>\n",
              "    </tr>\n",
              "  </thead>\n",
              "  <tbody>\n",
              "    <tr>\n",
              "      <th>count</th>\n",
              "      <td>149547.000000</td>\n",
              "    </tr>\n",
              "    <tr>\n",
              "      <th>mean</th>\n",
              "      <td>7607.098471</td>\n",
              "    </tr>\n",
              "    <tr>\n",
              "      <th>std</th>\n",
              "      <td>38383.833747</td>\n",
              "    </tr>\n",
              "    <tr>\n",
              "      <th>min</th>\n",
              "      <td>0.000000</td>\n",
              "    </tr>\n",
              "    <tr>\n",
              "      <th>25%</th>\n",
              "      <td>0.000000</td>\n",
              "    </tr>\n",
              "    <tr>\n",
              "      <th>50%</th>\n",
              "      <td>66.000000</td>\n",
              "    </tr>\n",
              "    <tr>\n",
              "      <th>75%</th>\n",
              "      <td>1303.000000</td>\n",
              "    </tr>\n",
              "    <tr>\n",
              "      <th>max</th>\n",
              "      <td>677323.000000</td>\n",
              "    </tr>\n",
              "  </tbody>\n",
              "</table>\n",
              "</div>"
            ],
            "text/plain": [
              "       Cumulative_deaths\n",
              "count      149547.000000\n",
              "mean         7607.098471\n",
              "std         38383.833747\n",
              "min             0.000000\n",
              "25%             0.000000\n",
              "50%            66.000000\n",
              "75%          1303.000000\n",
              "max        677323.000000"
            ]
          },
          "metadata": {},
          "execution_count": 134
        }
      ]
    },
    {
      "cell_type": "code",
      "metadata": {
        "id": "weUDnkLsJ7Qu"
      },
      "source": [
        "#Writing a function that, given a data frame, gets the sum of cases or deaths of all countries, stores the information in a new data frame, and returns it. \n",
        "def sumCasesOrDeaths(df):\n",
        "  i=0\n",
        "  df1=df.iloc[i:i+obs,:]\n",
        "  i+=obs\n",
        "  for country in range(1,countries):\n",
        "    value=0\n",
        "    d={}\n",
        "    for key in range(i,i+obs):\n",
        "      d[key]=value\n",
        "      value+=1\n",
        "    df1=df1+(df.iloc[i:i+obs,:].rename(index=d))\n",
        "    i+=obs\n",
        "  return df1  "
      ],
      "execution_count": 135,
      "outputs": []
    },
    {
      "cell_type": "code",
      "metadata": {
        "id": "iTSthQlPYu26"
      },
      "source": [
        "#Creating the new 'df_nc' dataframe using the sumCasesOrDeaths function.\n",
        "df_nc1=sumCasesOrDeaths(df_nc)\n",
        "df_nc1=df_nc1.drop('Date_reported', axis = 1)\n",
        "df_nc1['day_index']=[i for i in range(1,obs+1)]"
      ],
      "execution_count": 136,
      "outputs": []
    },
    {
      "cell_type": "code",
      "metadata": {
        "id": "GqCpISq-Y9Yp",
        "colab": {
          "base_uri": "https://localhost:8080/"
        },
        "outputId": "9286d6cf-db3e-42dd-f865-7125ba215c61"
      },
      "source": [
        "print(df_nc1)"
      ],
      "execution_count": 137,
      "outputs": [
        {
          "output_type": "stream",
          "name": "stdout",
          "text": [
            "     New_cases  day_index\n",
            "0            0          1\n",
            "1            1          2\n",
            "2            0          3\n",
            "3            3          4\n",
            "4            0          5\n",
            "..         ...        ...\n",
            "626     484666        627\n",
            "627     326420        628\n",
            "628     563294        629\n",
            "629     538540        630\n",
            "630     483898        631\n",
            "\n",
            "[631 rows x 2 columns]\n"
          ]
        }
      ]
    },
    {
      "cell_type": "code",
      "metadata": {
        "id": "uwZvLcuXcZhX"
      },
      "source": [
        "#Creating the new 'df_cc' dataframe using the sumCasesOrDeaths function.\n",
        "df_cc1=sumCasesOrDeaths(df_cc)\n",
        "df_cc1=df_cc1.drop('Date_reported', axis = 1)\n",
        "df_cc1['day_index']=[i for i in range(1,obs+1)]"
      ],
      "execution_count": 138,
      "outputs": []
    },
    {
      "cell_type": "code",
      "metadata": {
        "id": "apYyLJB7cZop",
        "colab": {
          "base_uri": "https://localhost:8080/"
        },
        "outputId": "fd53d5f4-6a54-4fda-b1d6-bdee96dbd766"
      },
      "source": [
        "print(df_cc1)"
      ],
      "execution_count": 139,
      "outputs": [
        {
          "output_type": "stream",
          "name": "stdout",
          "text": [
            "     Cumulative_cases  day_index\n",
            "0                   0          1\n",
            "1                   1          2\n",
            "2                   1          3\n",
            "3                   4          4\n",
            "4                   4          5\n",
            "..                ...        ...\n",
            "626         228506299        627\n",
            "627         228832719        628\n",
            "628         229396013        629\n",
            "629         229934553        630\n",
            "630         230418451        631\n",
            "\n",
            "[631 rows x 2 columns]\n"
          ]
        }
      ]
    },
    {
      "cell_type": "code",
      "metadata": {
        "id": "ff99ALTRcZvW"
      },
      "source": [
        "#Creating the new 'df_nd' dataframe using the sumCasesOrDeaths function.\n",
        "df_nd1=sumCasesOrDeaths(df_nd)\n",
        "df_nd1=df_nd1.drop('Date_reported', axis = 1)\n",
        "df_nd1['day_index']=[i for i in range(1,obs+1)]"
      ],
      "execution_count": 140,
      "outputs": []
    },
    {
      "cell_type": "code",
      "metadata": {
        "id": "mThWiY_scZ2F",
        "colab": {
          "base_uri": "https://localhost:8080/"
        },
        "outputId": "cfee6983-ec9d-42b7-df34-3bb5069e27bd"
      },
      "source": [
        "print(df_nd1)"
      ],
      "execution_count": 141,
      "outputs": [
        {
          "output_type": "stream",
          "name": "stdout",
          "text": [
            "     New_deaths  day_index\n",
            "0             0          1\n",
            "1             0          2\n",
            "2             0          3\n",
            "3             0          4\n",
            "4             0          5\n",
            "..          ...        ...\n",
            "626        6938        627\n",
            "627        5205        628\n",
            "628        8068        629\n",
            "629       11013        630\n",
            "630        8225        631\n",
            "\n",
            "[631 rows x 2 columns]\n"
          ]
        }
      ]
    },
    {
      "cell_type": "code",
      "metadata": {
        "id": "KbxaZ3m-cZ8m"
      },
      "source": [
        "#Creating the new 'df_cd' dataframe using the sumCasesOrDeaths function.\n",
        "df_cd1=sumCasesOrDeaths(df_cd)\n",
        "df_cd1=df_cd1.drop('Date_reported', axis = 1)\n",
        "df_cd1['day_index']=[i for i in range(1,obs+1)]"
      ],
      "execution_count": 142,
      "outputs": []
    },
    {
      "cell_type": "code",
      "metadata": {
        "id": "oYqrcoDKcaCr",
        "colab": {
          "base_uri": "https://localhost:8080/"
        },
        "outputId": "c08664eb-f5cc-4bf6-84f8-fff7433bc792"
      },
      "source": [
        "print(df_cd1)"
      ],
      "execution_count": 143,
      "outputs": [
        {
          "output_type": "stream",
          "name": "stdout",
          "text": [
            "     Cumulative_deaths  day_index\n",
            "0                    0          1\n",
            "1                    0          2\n",
            "2                    0          3\n",
            "3                    0          4\n",
            "4                    0          5\n",
            "..                 ...        ...\n",
            "626            4692365        627\n",
            "627            4697570        628\n",
            "628            4705638        629\n",
            "629            4716651        630\n",
            "630            4724876        631\n",
            "\n",
            "[631 rows x 2 columns]\n"
          ]
        }
      ]
    },
    {
      "cell_type": "code",
      "metadata": {
        "id": "kP0aw9vofPsU",
        "colab": {
          "base_uri": "https://localhost:8080/",
          "height": 437
        },
        "outputId": "657382b8-bc64-4e1f-bf5e-5cc9568942ed"
      },
      "source": [
        "#Plotting New_cases and New_deaths\n",
        "fig1=plt.figure()\n",
        "ax1=fig1.add_axes([0,0,1,1])\n",
        "ax2=fig1.add_axes([0,0,1,1])\n",
        "ax1.plot(df_nc1['day_index'],df_nc1.iloc[:,0],label='new cases')\n",
        "ax2.plot(df_nd1['day_index'],df_nd1.iloc[:,0],label='new deaths')\n",
        "plt.title('New cases and new deaths (Global)')\n",
        "plt.xlabel('Days after first case')\n",
        "plt.ylabel('Case/Death')\n",
        "ax1.legend()\n",
        "ax2.legend()"
      ],
      "execution_count": 144,
      "outputs": [
        {
          "output_type": "stream",
          "name": "stderr",
          "text": [
            "/usr/local/lib/python3.7/dist-packages/ipykernel_launcher.py:4: MatplotlibDeprecationWarning: Adding an axes using the same arguments as a previous axes currently reuses the earlier instance.  In a future version, a new instance will always be created and returned.  Meanwhile, this warning can be suppressed, and the future behavior ensured, by passing a unique label to each axes instance.\n",
            "  after removing the cwd from sys.path.\n"
          ]
        },
        {
          "output_type": "execute_result",
          "data": {
            "text/plain": [
              "<matplotlib.legend.Legend at 0x7fe4c9175b10>"
            ]
          },
          "metadata": {},
          "execution_count": 144
        },
        {
          "output_type": "display_data",
          "data": {
            "image/png": "[encoded data removed]",
            "text/plain": [
              "<Figure size 432x288 with 1 Axes>"
            ]
          },
          "metadata": {
            "needs_background": "light"
          }
        }
      ]
    },
    {
      "cell_type": "code",
      "metadata": {
        "id": "Ibsu_LqOhGbQ",
        "colab": {
          "base_uri": "https://localhost:8080/",
          "height": 437
        },
        "outputId": "94761d07-3e3d-40b7-b22d-2e986e918dc1"
      },
      "source": [
        "#Plotting Cumulative_cases and Cumulative_deaths\n",
        "fig2=plt.figure()\n",
        "ax3=fig2.add_axes([0,0,1,1])\n",
        "ax4=fig2.add_axes([0,0,1,1])\n",
        "ax3.plot(df_cc1['day_index'],df_cc1.iloc[:,0],label='cumulative cases')\n",
        "ax4.plot(df_cd1['day_index'],df_cd1.iloc[:,0],label='cumulative deaths')\n",
        "plt.title('Cumulative cases and cumulative deaths (Global)')\n",
        "plt.xlabel('Days after first case')\n",
        "plt.ylabel('Case/Death')\n",
        "ax3.legend()\n",
        "ax4.legend()"
      ],
      "execution_count": 145,
      "outputs": [
        {
          "output_type": "stream",
          "name": "stderr",
          "text": [
            "/usr/local/lib/python3.7/dist-packages/ipykernel_launcher.py:4: MatplotlibDeprecationWarning: Adding an axes using the same arguments as a previous axes currently reuses the earlier instance.  In a future version, a new instance will always be created and returned.  Meanwhile, this warning can be suppressed, and the future behavior ensured, by passing a unique label to each axes instance.\n",
            "  after removing the cwd from sys.path.\n"
          ]
        },
        {
          "output_type": "execute_result",
          "data": {
            "text/plain": [
              "<matplotlib.legend.Legend at 0x7fe4c912f0d0>"
            ]
          },
          "metadata": {},
          "execution_count": 145
        },
        {
          "output_type": "display_data",
          "data": {
            "image/png": "[encoded data removed]",
            "text/plain": [
              "<Figure size 432x288 with 1 Axes>"
            ]
          },
          "metadata": {
            "needs_background": "light"
          }
        }
      ]
    },
    {
      "cell_type": "markdown",
      "metadata": {
        "id": "WlVd_qAMpJmy"
      },
      "source": [
        "**Choosing the right algorithm:**\n",
        "According to the graphs, there is a polynomial relationship between day_index feature and the targets: New_cases, New_deaths, Cumulative_cases and Cumulative_deaths."
      ]
    },
    {
      "cell_type": "markdown",
      "metadata": {
        "id": "gx7Hnof5sDfj"
      },
      "source": [
        "**Modeling:**"
      ]
    },
    {
      "cell_type": "markdown",
      "metadata": {
        "id": "7Q2AtN1rnzVo"
      },
      "source": [
        "*new cases*"
      ]
    },
    {
      "cell_type": "code",
      "metadata": {
        "id": "6DjNdM_ks-1U"
      },
      "source": [
        "#choosing the target and the feature\n",
        "x_nc=df_nc1.iloc[:,[1]].values\n",
        "y_nc=df_nc1.iloc[:,[0]].values"
      ],
      "execution_count": 146,
      "outputs": []
    },
    {
      "cell_type": "code",
      "metadata": {
        "id": "ycn266p1wkOc"
      },
      "source": [
        "#splitting the data\n",
        "x_train_nc,x_test_nc,y_train_nc,y_test_nc=train_test_split(x_nc,y_nc,test_size=0.30,random_state=40)"
      ],
      "execution_count": 147,
      "outputs": []
    },
    {
      "cell_type": "code",
      "metadata": {
        "id": "4PqR_8pYxrl8"
      },
      "source": [
        "#fitting the feature\n",
        "poly_nc=PolynomialFeatures(degree=6)\n",
        "\n",
        "x_train_nc_fit=poly_nc.fit_transform(x_train_nc)\n",
        "x_test_nc_fit=poly_nc.fit_transform(x_test_nc)"
      ],
      "execution_count": 148,
      "outputs": []
    },
    {
      "cell_type": "code",
      "metadata": {
        "id": "-xuKmgCyo3u5",
        "colab": {
          "base_uri": "https://localhost:8080/"
        },
        "outputId": "95bf47fb-a9a6-46ec-cc13-50c750e46bbd"
      },
      "source": [
        "#creating the regression model\n",
        "model_nc=LinearRegression()\n",
        "model_nc.fit(x_train_nc_fit, y_train_nc)\n",
        "\n",
        "print('score:')\n",
        "model_nc.score(x_test_nc_fit, y_test_nc)"
      ],
      "execution_count": 149,
      "outputs": [
        {
          "output_type": "stream",
          "name": "stdout",
          "text": [
            "score:\n"
          ]
        },
        {
          "output_type": "execute_result",
          "data": {
            "text/plain": [
              "0.799872827066956"
            ]
          },
          "metadata": {},
          "execution_count": 149
        }
      ]
    },
    {
      "cell_type": "code",
      "metadata": {
        "id": "8MOEyai3trA5",
        "colab": {
          "base_uri": "https://localhost:8080/"
        },
        "outputId": "403dc7fe-44db-49d4-b341-861a153aacbb"
      },
      "source": [
        "#calculating metrics\n",
        "pred_nc=model_nc.predict(x_test_nc_fit)\n",
        "print(\"MSE:\", mean_squared_error(y_test_nc,pred_nc))\n",
        "print(\"R2:\", r2_score(y_test_nc,pred_nc))"
      ],
      "execution_count": 150,
      "outputs": [
        {
          "output_type": "stream",
          "name": "stdout",
          "text": [
            "MSE: 13165648755.385094\n",
            "R2: 0.799872827066956\n"
          ]
        }
      ]
    },
    {
      "cell_type": "code",
      "metadata": {
        "id": "bcjJVdW6p2JU",
        "colab": {
          "base_uri": "https://localhost:8080/",
          "height": 312
        },
        "outputId": "52a727fc-0c06-4148-acf4-3ff685ab7827"
      },
      "source": [
        "#plotting the model\n",
        "fig3=plt.figure()\n",
        "plt.scatter(x_nc,y_nc)\n",
        "plt.title(\"Actual and predicted new cases (Global)\")\n",
        "plt.xlabel(\"Day after first observation\")\n",
        "plt.ylabel(\"New case\")\n",
        "plt.plot(x_nc, model_nc.predict(poly_nc.fit_transform(x_nc)), color=\"r\")"
      ],
      "execution_count": 151,
      "outputs": [
        {
          "output_type": "execute_result",
          "data": {
            "text/plain": [
              "[<matplotlib.lines.Line2D at 0x7fe4c90c8510>]"
            ]
          },
          "metadata": {},
          "execution_count": 151
        },
        {
          "output_type": "display_data",
          "data": {
            "image/png": "[encoded data removed]",
            "text/plain": [
              "<Figure size 432x288 with 1 Axes>"
            ]
          },
          "metadata": {
            "needs_background": "light"
          }
        }
      ]
    },
    {
      "cell_type": "markdown",
      "metadata": {
        "id": "oViNM1PEs9ha"
      },
      "source": [
        "*Cumulative cases*"
      ]
    },
    {
      "cell_type": "code",
      "metadata": {
        "id": "spuxty5OtBK0"
      },
      "source": [
        "#choosing the target and the feature\n",
        "x_cc=df_cc1.iloc[:,[1]].values\n",
        "y_cc=df_cc1.iloc[:,[0]].values"
      ],
      "execution_count": 152,
      "outputs": []
    },
    {
      "cell_type": "code",
      "metadata": {
        "id": "fwP1z1wztKaE"
      },
      "source": [
        "#splitting the data\n",
        "x_train_cc,x_test_cc,y_train_cc,y_test_cc=train_test_split(x_cc,y_cc,test_size=0.30,random_state=40)"
      ],
      "execution_count": 153,
      "outputs": []
    },
    {
      "cell_type": "code",
      "metadata": {
        "id": "62h1Js1RtVRE"
      },
      "source": [
        "#fitting the feature\n",
        "poly_cc=PolynomialFeatures(degree=2)\n",
        "\n",
        "x_train_cc_fit=poly_cc.fit_transform(x_train_cc)\n",
        "x_test_cc_fit=poly_cc.fit_transform(x_test_cc)"
      ],
      "execution_count": 154,
      "outputs": []
    },
    {
      "cell_type": "code",
      "metadata": {
        "id": "qDnkMGk0tf8U",
        "colab": {
          "base_uri": "https://localhost:8080/"
        },
        "outputId": "03061913-87d3-4a2c-aeb0-f47763ae435a"
      },
      "source": [
        "#creating the regression model\n",
        "model_cc=LinearRegression()\n",
        "model_cc.fit(x_train_cc_fit, y_train_cc)\n",
        "\n",
        "print('score:')\n",
        "model_cc.score(x_test_cc_fit, y_test_cc)"
      ],
      "execution_count": 155,
      "outputs": [
        {
          "output_type": "stream",
          "name": "stdout",
          "text": [
            "score:\n"
          ]
        },
        {
          "output_type": "execute_result",
          "data": {
            "text/plain": [
              "0.9934073302434977"
            ]
          },
          "metadata": {},
          "execution_count": 155
        }
      ]
    },
    {
      "cell_type": "code",
      "metadata": {
        "id": "7Hcvae87ubp0",
        "colab": {
          "base_uri": "https://localhost:8080/"
        },
        "outputId": "dcbb0b91-c97c-4a30-cb47-2c9686300a24"
      },
      "source": [
        "#calculating metrics\n",
        "pred_cc=model_cc.predict(x_test_cc_fit)\n",
        "print(\"MSE:\", mean_squared_error(y_test_cc,pred_cc))\n",
        "print(\"R2:\", r2_score(y_test_cc,pred_cc))"
      ],
      "execution_count": 156,
      "outputs": [
        {
          "output_type": "stream",
          "name": "stdout",
          "text": [
            "MSE: 35903590655839.17\n",
            "R2: 0.9934073302434977\n"
          ]
        }
      ]
    },
    {
      "cell_type": "code",
      "metadata": {
        "id": "K3mU4fhrupYU",
        "colab": {
          "base_uri": "https://localhost:8080/",
          "height": 312
        },
        "outputId": "e5bb19ab-98c0-48d0-ae7d-ba5f4a81eb56"
      },
      "source": [
        "#plotting the model\n",
        "fig4=plt.figure()\n",
        "plt.scatter(x_cc,y_cc, c='yellow')\n",
        "plt.title(\"Actual and predicted cumulative cases (Global)\")\n",
        "plt.xlabel(\"Day after first observation\")\n",
        "plt.ylabel(\"Cumulative case\")\n",
        "plt.plot(x_cc, model_cc.predict(poly_cc.fit_transform(x_cc)), color=\"r\")"
      ],
      "execution_count": 157,
      "outputs": [
        {
          "output_type": "execute_result",
          "data": {
            "text/plain": [
              "[<matplotlib.lines.Line2D at 0x7fe4c902c1d0>]"
            ]
          },
          "metadata": {},
          "execution_count": 157
        },
        {
          "output_type": "display_data",
          "data": {
            "image/png": "[encoded data removed]",
            "text/plain": [
              "<Figure size 432x288 with 1 Axes>"
            ]
          },
          "metadata": {
            "needs_background": "light"
          }
        }
      ]
    },
    {
      "cell_type": "markdown",
      "metadata": {
        "id": "40ESzm11yWjy"
      },
      "source": [
        "*new deaths*"
      ]
    },
    {
      "cell_type": "code",
      "metadata": {
        "id": "qMQ3VtqByq61"
      },
      "source": [
        "#choosing the target and the feature\n",
        "x_nd=df_nd1.iloc[:,[1]].values\n",
        "y_nd=df_nd1.iloc[:,[0]].values"
      ],
      "execution_count": 158,
      "outputs": []
    },
    {
      "cell_type": "code",
      "metadata": {
        "id": "TRoaiM6BzoUl"
      },
      "source": [
        "#splitting the data\n",
        "x_train_nd,x_test_nd,y_train_nd,y_test_nd=train_test_split(x_nd,y_nd,test_size=0.30,random_state=40)"
      ],
      "execution_count": 159,
      "outputs": []
    },
    {
      "cell_type": "code",
      "metadata": {
        "id": "uyoY1dg1zodY"
      },
      "source": [
        "#fitting the feature\n",
        "poly_nd=PolynomialFeatures(degree=6)\n",
        "\n",
        "x_train_nd_fit=poly_nd.fit_transform(x_train_nd)\n",
        "x_test_nd_fit=poly_nd.fit_transform(x_test_nd)"
      ],
      "execution_count": 160,
      "outputs": []
    },
    {
      "cell_type": "code",
      "metadata": {
        "id": "2KwRKnuDzol9",
        "colab": {
          "base_uri": "https://localhost:8080/"
        },
        "outputId": "b8b189ac-0005-46f6-c664-b480716c29ec"
      },
      "source": [
        "#creating the regression model\n",
        "model_nd=LinearRegression()\n",
        "model_nd.fit(x_train_nd_fit, y_train_nd)\n",
        "\n",
        "print('score:')\n",
        "model_nd.score(x_test_nd_fit, y_test_nd)"
      ],
      "execution_count": 161,
      "outputs": [
        {
          "output_type": "stream",
          "name": "stdout",
          "text": [
            "score:\n"
          ]
        },
        {
          "output_type": "execute_result",
          "data": {
            "text/plain": [
              "0.7794566470850803"
            ]
          },
          "metadata": {},
          "execution_count": 161
        }
      ]
    },
    {
      "cell_type": "code",
      "metadata": {
        "id": "lbpWMglRzoth",
        "colab": {
          "base_uri": "https://localhost:8080/"
        },
        "outputId": "b943aeba-16e8-4f1d-d31a-0a2910ca0a77"
      },
      "source": [
        "#calculating metrics\n",
        "pred_nd=model_nd.predict(x_test_nd_fit)\n",
        "print(\"MSE:\", mean_squared_error(y_test_nd,pred_nd))\n",
        "print(\"R2:\", r2_score(y_test_nd,pred_nd))"
      ],
      "execution_count": 162,
      "outputs": [
        {
          "output_type": "stream",
          "name": "stdout",
          "text": [
            "MSE: 4078578.241195019\n",
            "R2: 0.7794566470850803\n"
          ]
        }
      ]
    },
    {
      "cell_type": "code",
      "metadata": {
        "id": "gTrFg8bAzo00",
        "colab": {
          "base_uri": "https://localhost:8080/",
          "height": 312
        },
        "outputId": "c0239650-d295-49a7-f72f-327d186e0279"
      },
      "source": [
        "#plotting the model\n",
        "fig5=plt.figure()\n",
        "plt.scatter(x_nd,y_nd, c='yellow')\n",
        "plt.title(\"Actual and predicted new deaths (Global)\")\n",
        "plt.xlabel(\"Day after first observation\")\n",
        "plt.ylabel(\"New deaths\")\n",
        "plt.plot(x_nd, model_nd.predict(poly_nd.fit_transform(x_nd)), color=\"purple\")"
      ],
      "execution_count": 163,
      "outputs": [
        {
          "output_type": "execute_result",
          "data": {
            "text/plain": [
              "[<matplotlib.lines.Line2D at 0x7fe4c9520410>]"
            ]
          },
          "metadata": {},
          "execution_count": 163
        },
        {
          "output_type": "display_data",
          "data": {
            "image/png": "[encoded data removed]",
            "text/plain": [
              "<Figure size 432x288 with 1 Axes>"
            ]
          },
          "metadata": {
            "needs_background": "light"
          }
        }
      ]
    },
    {
      "cell_type": "markdown",
      "metadata": {
        "id": "805ev2EYzpMo"
      },
      "source": [
        "*Cumulative deaths*"
      ]
    },
    {
      "cell_type": "code",
      "metadata": {
        "id": "UtOgPLuFzpYL"
      },
      "source": [
        "#choosing the target and the feature\n",
        "x_cd=df_cd1.iloc[:,[1]].values\n",
        "y_cd=df_cd1.iloc[:,[0]].values"
      ],
      "execution_count": 164,
      "outputs": []
    },
    {
      "cell_type": "code",
      "metadata": {
        "id": "TLT-q5wBzpg5"
      },
      "source": [
        "#splitting the data\n",
        "x_train_cd,x_test_cd,y_train_cd,y_test_cd=train_test_split(x_cd,y_cd,test_size=0.30,random_state=40)"
      ],
      "execution_count": 165,
      "outputs": []
    },
    {
      "cell_type": "code",
      "metadata": {
        "id": "yx_JtyWhzppJ"
      },
      "source": [
        "#fitting the feature\n",
        "poly_cd=PolynomialFeatures(degree=2)\n",
        "\n",
        "x_train_cd_fit=poly_cd.fit_transform(x_train_cd)\n",
        "x_test_cd_fit=poly_cd.fit_transform(x_test_cd)"
      ],
      "execution_count": 166,
      "outputs": []
    },
    {
      "cell_type": "code",
      "metadata": {
        "id": "I9lWwHUnzqGJ",
        "colab": {
          "base_uri": "https://localhost:8080/"
        },
        "outputId": "1c2b337c-4f34-45d8-c3be-c8fc3c135b2b"
      },
      "source": [
        "#creating the regression model\n",
        "model_cd=LinearRegression()\n",
        "model_cd.fit(x_train_cd_fit, y_train_cd)\n",
        "\n",
        "print('score:')\n",
        "model_cd.score(x_test_cd_fit, y_test_cd)"
      ],
      "execution_count": 167,
      "outputs": [
        {
          "output_type": "stream",
          "name": "stdout",
          "text": [
            "score:\n"
          ]
        },
        {
          "output_type": "execute_result",
          "data": {
            "text/plain": [
              "0.9958290331754541"
            ]
          },
          "metadata": {},
          "execution_count": 167
        }
      ]
    },
    {
      "cell_type": "code",
      "metadata": {
        "id": "dJZdBx3VzqOo",
        "colab": {
          "base_uri": "https://localhost:8080/"
        },
        "outputId": "8cb7a8cb-e0b6-40b1-ab05-147a491d3376"
      },
      "source": [
        "#calculating metrics\n",
        "pred_cd=model_cd.predict(x_test_cd_fit)\n",
        "print(\"MSE:\", mean_squared_error(y_test_cd,pred_cd))\n",
        "print(\"R2:\", r2_score(y_test_cd,pred_cd))"
      ],
      "execution_count": 168,
      "outputs": [
        {
          "output_type": "stream",
          "name": "stdout",
          "text": [
            "MSE: 9417536371.702742\n",
            "R2: 0.995829033175454\n"
          ]
        }
      ]
    },
    {
      "cell_type": "code",
      "metadata": {
        "id": "KhlwTiKUzqWX",
        "colab": {
          "base_uri": "https://localhost:8080/",
          "height": 312
        },
        "outputId": "a42b7f8e-01fd-4215-aff3-752f45127795"
      },
      "source": [
        "#plotting the model\n",
        "fig6=plt.figure()\n",
        "plt.scatter(x_cd,y_cd, c='lime')\n",
        "plt.title(\"Actual and predicted cumulative deaths (Global)\")\n",
        "plt.xlabel(\"Day after first observation\")\n",
        "plt.ylabel(\"Cumulative deaths\")\n",
        "plt.plot(x_cd, model_cd.predict(poly_cd.fit_transform(x_cd)), color=\"red\")"
      ],
      "execution_count": 169,
      "outputs": [
        {
          "output_type": "execute_result",
          "data": {
            "text/plain": [
              "[<matplotlib.lines.Line2D at 0x7fe4c92a9350>]"
            ]
          },
          "metadata": {},
          "execution_count": 169
        },
        {
          "output_type": "display_data",
          "data": {
            "image/png": "[encoded data removed]",
            "text/plain": [
              "<Figure size 432x288 with 1 Axes>"
            ]
          },
          "metadata": {
            "needs_background": "light"
          }
        }
      ]
    },
    {
      "cell_type": "markdown",
      "metadata": {
        "id": "QX3VUHwPl9tV"
      },
      "source": [
        "# 2: Creating COVID-19 local prediction models (Tunisia)"
      ]
    },
    {
      "cell_type": "markdown",
      "metadata": {
        "id": "HpIjYuS7mVFa"
      },
      "source": [
        "**Understanding data, preprocessing and Visualization**"
      ]
    },
    {
      "cell_type": "code",
      "metadata": {
        "id": "9L9SB_rlnp4P",
        "colab": {
          "base_uri": "https://localhost:8080/",
          "height": 204
        },
        "outputId": "e993b9fa-68d5-4410-ba9d-ed6368b5bfd5"
      },
      "source": [
        "#Printing the first 5 rows of the dataset\n",
        "df.head()"
      ],
      "execution_count": 170,
      "outputs": [
        {
          "output_type": "execute_result",
          "data": {
            "text/html": [
              "<div>\n",
              "<style scoped>\n",
              "    .dataframe tbody tr th:only-of-type {\n",
              "        vertical-align: middle;\n",
              "    }\n",
              "\n",
              "    .dataframe tbody tr th {\n",
              "        vertical-align: top;\n",
              "    }\n",
              "\n",
              "    .dataframe thead th {\n",
              "        text-align: right;\n",
              "    }\n",
              "</style>\n",
              "<table border=\"1\" class=\"dataframe\">\n",
              "  <thead>\n",
              "    <tr style=\"text-align: right;\">\n",
              "      <th></th>\n",
              "      <th>Date_reported</th>\n",
              "      <th>Country_code</th>\n",
              "      <th>Country</th>\n",
              "      <th>WHO_region</th>\n",
              "      <th>New_cases</th>\n",
              "      <th>Cumulative_cases</th>\n",
              "      <th>New_deaths</th>\n",
              "      <th>Cumulative_deaths</th>\n",
              "    </tr>\n",
              "  </thead>\n",
              "  <tbody>\n",
              "    <tr>\n",
              "      <th>0</th>\n",
              "      <td>2020-01-03</td>\n",
              "      <td>AF</td>\n",
              "      <td>Afghanistan</td>\n",
              "      <td>EMRO</td>\n",
              "      <td>0</td>\n",
              "      <td>0</td>\n",
              "      <td>0</td>\n",
              "      <td>0</td>\n",
              "    </tr>\n",
              "    <tr>\n",
              "      <th>1</th>\n",
              "      <td>2020-01-04</td>\n",
              "      <td>AF</td>\n",
              "      <td>Afghanistan</td>\n",
              "      <td>EMRO</td>\n",
              "      <td>0</td>\n",
              "      <td>0</td>\n",
              "      <td>0</td>\n",
              "      <td>0</td>\n",
              "    </tr>\n",
              "    <tr>\n",
              "      <th>2</th>\n",
              "      <td>2020-01-05</td>\n",
              "      <td>AF</td>\n",
              "      <td>Afghanistan</td>\n",
              "      <td>EMRO</td>\n",
              "      <td>0</td>\n",
              "      <td>0</td>\n",
              "      <td>0</td>\n",
              "      <td>0</td>\n",
              "    </tr>\n",
              "    <tr>\n",
              "      <th>3</th>\n",
              "      <td>2020-01-06</td>\n",
              "      <td>AF</td>\n",
              "      <td>Afghanistan</td>\n",
              "      <td>EMRO</td>\n",
              "      <td>0</td>\n",
              "      <td>0</td>\n",
              "      <td>0</td>\n",
              "      <td>0</td>\n",
              "    </tr>\n",
              "    <tr>\n",
              "      <th>4</th>\n",
              "      <td>2020-01-07</td>\n",
              "      <td>AF</td>\n",
              "      <td>Afghanistan</td>\n",
              "      <td>EMRO</td>\n",
              "      <td>0</td>\n",
              "      <td>0</td>\n",
              "      <td>0</td>\n",
              "      <td>0</td>\n",
              "    </tr>\n",
              "  </tbody>\n",
              "</table>\n",
              "</div>"
            ],
            "text/plain": [
              "  Date_reported Country_code  ... New_deaths Cumulative_deaths\n",
              "0    2020-01-03           AF  ...          0                 0\n",
              "1    2020-01-04           AF  ...          0                 0\n",
              "2    2020-01-05           AF  ...          0                 0\n",
              "3    2020-01-06           AF  ...          0                 0\n",
              "4    2020-01-07           AF  ...          0                 0\n",
              "\n",
              "[5 rows x 8 columns]"
            ]
          },
          "metadata": {},
          "execution_count": 170
        }
      ]
    },
    {
      "cell_type": "code",
      "metadata": {
        "id": "F7Dj3QkzE1Jk",
        "colab": {
          "base_uri": "https://localhost:8080/",
          "height": 419
        },
        "outputId": "a3c4f97a-ed6b-4145-fb58-d0e864b07348"
      },
      "source": [
        "#Creating a new data frame called 'dft' that contains information about COVID-19 propagation in Tunisia.\n",
        "#Printing some rows of 'dft'\n",
        "dft=df[df.iloc[:,1]=='TN']\n",
        "dft"
      ],
      "execution_count": 171,
      "outputs": [
        {
          "output_type": "execute_result",
          "data": {
            "text/html": [
              "<div>\n",
              "<style scoped>\n",
              "    .dataframe tbody tr th:only-of-type {\n",
              "        vertical-align: middle;\n",
              "    }\n",
              "\n",
              "    .dataframe tbody tr th {\n",
              "        vertical-align: top;\n",
              "    }\n",
              "\n",
              "    .dataframe thead th {\n",
              "        text-align: right;\n",
              "    }\n",
              "</style>\n",
              "<table border=\"1\" class=\"dataframe\">\n",
              "  <thead>\n",
              "    <tr style=\"text-align: right;\">\n",
              "      <th></th>\n",
              "      <th>Date_reported</th>\n",
              "      <th>Country_code</th>\n",
              "      <th>Country</th>\n",
              "      <th>WHO_region</th>\n",
              "      <th>New_cases</th>\n",
              "      <th>Cumulative_cases</th>\n",
              "      <th>New_deaths</th>\n",
              "      <th>Cumulative_deaths</th>\n",
              "    </tr>\n",
              "  </thead>\n",
              "  <tbody>\n",
              "    <tr>\n",
              "      <th>136927</th>\n",
              "      <td>2020-01-03</td>\n",
              "      <td>TN</td>\n",
              "      <td>Tunisia</td>\n",
              "      <td>EMRO</td>\n",
              "      <td>0</td>\n",
              "      <td>0</td>\n",
              "      <td>0</td>\n",
              "      <td>0</td>\n",
              "    </tr>\n",
              "    <tr>\n",
              "      <th>136928</th>\n",
              "      <td>2020-01-04</td>\n",
              "      <td>TN</td>\n",
              "      <td>Tunisia</td>\n",
              "      <td>EMRO</td>\n",
              "      <td>0</td>\n",
              "      <td>0</td>\n",
              "      <td>0</td>\n",
              "      <td>0</td>\n",
              "    </tr>\n",
              "    <tr>\n",
              "      <th>136929</th>\n",
              "      <td>2020-01-05</td>\n",
              "      <td>TN</td>\n",
              "      <td>Tunisia</td>\n",
              "      <td>EMRO</td>\n",
              "      <td>0</td>\n",
              "      <td>0</td>\n",
              "      <td>0</td>\n",
              "      <td>0</td>\n",
              "    </tr>\n",
              "    <tr>\n",
              "      <th>136930</th>\n",
              "      <td>2020-01-06</td>\n",
              "      <td>TN</td>\n",
              "      <td>Tunisia</td>\n",
              "      <td>EMRO</td>\n",
              "      <td>0</td>\n",
              "      <td>0</td>\n",
              "      <td>0</td>\n",
              "      <td>0</td>\n",
              "    </tr>\n",
              "    <tr>\n",
              "      <th>136931</th>\n",
              "      <td>2020-01-07</td>\n",
              "      <td>TN</td>\n",
              "      <td>Tunisia</td>\n",
              "      <td>EMRO</td>\n",
              "      <td>0</td>\n",
              "      <td>0</td>\n",
              "      <td>0</td>\n",
              "      <td>0</td>\n",
              "    </tr>\n",
              "    <tr>\n",
              "      <th>...</th>\n",
              "      <td>...</td>\n",
              "      <td>...</td>\n",
              "      <td>...</td>\n",
              "      <td>...</td>\n",
              "      <td>...</td>\n",
              "      <td>...</td>\n",
              "      <td>...</td>\n",
              "      <td>...</td>\n",
              "    </tr>\n",
              "    <tr>\n",
              "      <th>137553</th>\n",
              "      <td>2021-09-20</td>\n",
              "      <td>TN</td>\n",
              "      <td>Tunisia</td>\n",
              "      <td>EMRO</td>\n",
              "      <td>472</td>\n",
              "      <td>700400</td>\n",
              "      <td>37</td>\n",
              "      <td>24527</td>\n",
              "    </tr>\n",
              "    <tr>\n",
              "      <th>137554</th>\n",
              "      <td>2021-09-21</td>\n",
              "      <td>TN</td>\n",
              "      <td>Tunisia</td>\n",
              "      <td>EMRO</td>\n",
              "      <td>407</td>\n",
              "      <td>700807</td>\n",
              "      <td>26</td>\n",
              "      <td>24553</td>\n",
              "    </tr>\n",
              "    <tr>\n",
              "      <th>137555</th>\n",
              "      <td>2021-09-22</td>\n",
              "      <td>TN</td>\n",
              "      <td>Tunisia</td>\n",
              "      <td>EMRO</td>\n",
              "      <td>1013</td>\n",
              "      <td>701820</td>\n",
              "      <td>81</td>\n",
              "      <td>24634</td>\n",
              "    </tr>\n",
              "    <tr>\n",
              "      <th>137556</th>\n",
              "      <td>2021-09-23</td>\n",
              "      <td>TN</td>\n",
              "      <td>Tunisia</td>\n",
              "      <td>EMRO</td>\n",
              "      <td>683</td>\n",
              "      <td>702503</td>\n",
              "      <td>20</td>\n",
              "      <td>24654</td>\n",
              "    </tr>\n",
              "    <tr>\n",
              "      <th>137557</th>\n",
              "      <td>2021-09-24</td>\n",
              "      <td>TN</td>\n",
              "      <td>Tunisia</td>\n",
              "      <td>EMRO</td>\n",
              "      <td>0</td>\n",
              "      <td>702503</td>\n",
              "      <td>0</td>\n",
              "      <td>24654</td>\n",
              "    </tr>\n",
              "  </tbody>\n",
              "</table>\n",
              "<p>631 rows × 8 columns</p>\n",
              "</div>"
            ],
            "text/plain": [
              "       Date_reported Country_code  ... New_deaths Cumulative_deaths\n",
              "136927    2020-01-03           TN  ...          0                 0\n",
              "136928    2020-01-04           TN  ...          0                 0\n",
              "136929    2020-01-05           TN  ...          0                 0\n",
              "136930    2020-01-06           TN  ...          0                 0\n",
              "136931    2020-01-07           TN  ...          0                 0\n",
              "...              ...          ...  ...        ...               ...\n",
              "137553    2021-09-20           TN  ...         37             24527\n",
              "137554    2021-09-21           TN  ...         26             24553\n",
              "137555    2021-09-22           TN  ...         81             24634\n",
              "137556    2021-09-23           TN  ...         20             24654\n",
              "137557    2021-09-24           TN  ...          0             24654\n",
              "\n",
              "[631 rows x 8 columns]"
            ]
          },
          "metadata": {},
          "execution_count": 171
        }
      ]
    },
    {
      "cell_type": "code",
      "metadata": {
        "id": "KqX7ybA9HM1Q"
      },
      "source": [
        "#Creating two variables 'start' and 'stop' that represent the first data frame index and the last data frame index, respectively.\n",
        "start=dft.index[0]\n",
        "stop=dft.index[-1]"
      ],
      "execution_count": 172,
      "outputs": []
    },
    {
      "cell_type": "code",
      "metadata": {
        "id": "AD9rpILqGGvf"
      },
      "source": [
        "#Creating a map called 'dt'.\n",
        "value_t=0\n",
        "dt={}\n",
        "for key in range(start, (stop+1)):\n",
        "  dt[key]=value_t\n",
        "  value_t+=1"
      ],
      "execution_count": 173,
      "outputs": []
    },
    {
      "cell_type": "code",
      "metadata": {
        "id": "_kE1yBz3G95P"
      },
      "source": [
        "#changing 'dft' indexes, by the mapped sequence contained in 'dt'.\n",
        "dft=dft.rename(index=dt)"
      ],
      "execution_count": 174,
      "outputs": []
    },
    {
      "cell_type": "code",
      "metadata": {
        "id": "zl6Pq_h5Ife2"
      },
      "source": [
        "#Creating a new feature called day_index.\n",
        "dft['day_index']=[i for i in range(1,obs+1)]"
      ],
      "execution_count": 175,
      "outputs": []
    },
    {
      "cell_type": "code",
      "metadata": {
        "id": "oCgHegAxFXc8"
      },
      "source": [
        "#creating a data frame called 'dft_nc' to store New_cases feature evolution in Tunisia.\n",
        "dft_nc=dft.iloc[:,[4,8]]"
      ],
      "execution_count": 176,
      "outputs": []
    },
    {
      "cell_type": "code",
      "metadata": {
        "id": "FDr7WNq2IHSY",
        "colab": {
          "base_uri": "https://localhost:8080/"
        },
        "outputId": "eea47a86-e03d-4b1a-be80-0e7ebf5a1d12"
      },
      "source": [
        "print(dft_nc)"
      ],
      "execution_count": 177,
      "outputs": [
        {
          "output_type": "stream",
          "name": "stdout",
          "text": [
            "     New_cases  day_index\n",
            "0            0          1\n",
            "1            0          2\n",
            "2            0          3\n",
            "3            0          4\n",
            "4            0          5\n",
            "..         ...        ...\n",
            "626        472        627\n",
            "627        407        628\n",
            "628       1013        629\n",
            "629        683        630\n",
            "630          0        631\n",
            "\n",
            "[631 rows x 2 columns]\n"
          ]
        }
      ]
    },
    {
      "cell_type": "code",
      "metadata": {
        "id": "XT9daSjXGBCs",
        "colab": {
          "base_uri": "https://localhost:8080/",
          "height": 297
        },
        "outputId": "b6eb6b89-c28c-4279-c9ee-e80ed4b68821"
      },
      "source": [
        "#Getting a description of 'dft_nc'.\n",
        "dft_nc.describe()"
      ],
      "execution_count": 178,
      "outputs": [
        {
          "output_type": "execute_result",
          "data": {
            "text/html": [
              "<div>\n",
              "<style scoped>\n",
              "    .dataframe tbody tr th:only-of-type {\n",
              "        vertical-align: middle;\n",
              "    }\n",
              "\n",
              "    .dataframe tbody tr th {\n",
              "        vertical-align: top;\n",
              "    }\n",
              "\n",
              "    .dataframe thead th {\n",
              "        text-align: right;\n",
              "    }\n",
              "</style>\n",
              "<table border=\"1\" class=\"dataframe\">\n",
              "  <thead>\n",
              "    <tr style=\"text-align: right;\">\n",
              "      <th></th>\n",
              "      <th>New_cases</th>\n",
              "      <th>day_index</th>\n",
              "    </tr>\n",
              "  </thead>\n",
              "  <tbody>\n",
              "    <tr>\n",
              "      <th>count</th>\n",
              "      <td>631.000000</td>\n",
              "      <td>631.00000</td>\n",
              "    </tr>\n",
              "    <tr>\n",
              "      <th>mean</th>\n",
              "      <td>1113.316957</td>\n",
              "      <td>316.00000</td>\n",
              "    </tr>\n",
              "    <tr>\n",
              "      <th>std</th>\n",
              "      <td>1545.552672</td>\n",
              "      <td>182.29829</td>\n",
              "    </tr>\n",
              "    <tr>\n",
              "      <th>min</th>\n",
              "      <td>-5.000000</td>\n",
              "      <td>1.00000</td>\n",
              "    </tr>\n",
              "    <tr>\n",
              "      <th>25%</th>\n",
              "      <td>5.000000</td>\n",
              "      <td>158.50000</td>\n",
              "    </tr>\n",
              "    <tr>\n",
              "      <th>50%</th>\n",
              "      <td>683.000000</td>\n",
              "      <td>316.00000</td>\n",
              "    </tr>\n",
              "    <tr>\n",
              "      <th>75%</th>\n",
              "      <td>1615.500000</td>\n",
              "      <td>473.50000</td>\n",
              "    </tr>\n",
              "    <tr>\n",
              "      <th>max</th>\n",
              "      <td>9823.000000</td>\n",
              "      <td>631.00000</td>\n",
              "    </tr>\n",
              "  </tbody>\n",
              "</table>\n",
              "</div>"
            ],
            "text/plain": [
              "         New_cases  day_index\n",
              "count   631.000000  631.00000\n",
              "mean   1113.316957  316.00000\n",
              "std    1545.552672  182.29829\n",
              "min      -5.000000    1.00000\n",
              "25%       5.000000  158.50000\n",
              "50%     683.000000  316.00000\n",
              "75%    1615.500000  473.50000\n",
              "max    9823.000000  631.00000"
            ]
          },
          "metadata": {},
          "execution_count": 178
        }
      ]
    },
    {
      "cell_type": "code",
      "metadata": {
        "id": "fEkyRN9uIrf9"
      },
      "source": [
        "#creating a data frame called 'dft_cc' to store Cumulative_cases feature evolution in Tunisia.\n",
        "dft_cc=dft.iloc[:,[5,8]]"
      ],
      "execution_count": 179,
      "outputs": []
    },
    {
      "cell_type": "code",
      "metadata": {
        "id": "wXUruFvOIuIY",
        "colab": {
          "base_uri": "https://localhost:8080/"
        },
        "outputId": "7d1cbd44-81eb-4ec8-f526-de99aae0abe8"
      },
      "source": [
        "print(dft_cc)"
      ],
      "execution_count": 180,
      "outputs": [
        {
          "output_type": "stream",
          "name": "stdout",
          "text": [
            "     Cumulative_cases  day_index\n",
            "0                   0          1\n",
            "1                   0          2\n",
            "2                   0          3\n",
            "3                   0          4\n",
            "4                   0          5\n",
            "..                ...        ...\n",
            "626            700400        627\n",
            "627            700807        628\n",
            "628            701820        629\n",
            "629            702503        630\n",
            "630            702503        631\n",
            "\n",
            "[631 rows x 2 columns]\n"
          ]
        }
      ]
    },
    {
      "cell_type": "code",
      "metadata": {
        "id": "GuUgF2EeIzKj",
        "colab": {
          "base_uri": "https://localhost:8080/",
          "height": 297
        },
        "outputId": "ca7885dc-1ef3-4c50-ebdd-37d7dafe8e32"
      },
      "source": [
        "#Getting a description of 'dft_cc'.\n",
        "dft_cc.describe()"
      ],
      "execution_count": 181,
      "outputs": [
        {
          "output_type": "execute_result",
          "data": {
            "text/html": [
              "<div>\n",
              "<style scoped>\n",
              "    .dataframe tbody tr th:only-of-type {\n",
              "        vertical-align: middle;\n",
              "    }\n",
              "\n",
              "    .dataframe tbody tr th {\n",
              "        vertical-align: top;\n",
              "    }\n",
              "\n",
              "    .dataframe thead th {\n",
              "        text-align: right;\n",
              "    }\n",
              "</style>\n",
              "<table border=\"1\" class=\"dataframe\">\n",
              "  <thead>\n",
              "    <tr style=\"text-align: right;\">\n",
              "      <th></th>\n",
              "      <th>Cumulative_cases</th>\n",
              "      <th>day_index</th>\n",
              "    </tr>\n",
              "  </thead>\n",
              "  <tbody>\n",
              "    <tr>\n",
              "      <th>count</th>\n",
              "      <td>631.000000</td>\n",
              "      <td>631.00000</td>\n",
              "    </tr>\n",
              "    <tr>\n",
              "      <th>mean</th>\n",
              "      <td>171757.529319</td>\n",
              "      <td>316.00000</td>\n",
              "    </tr>\n",
              "    <tr>\n",
              "      <th>std</th>\n",
              "      <td>210643.723360</td>\n",
              "      <td>182.29829</td>\n",
              "    </tr>\n",
              "    <tr>\n",
              "      <th>min</th>\n",
              "      <td>0.000000</td>\n",
              "      <td>1.00000</td>\n",
              "    </tr>\n",
              "    <tr>\n",
              "      <th>25%</th>\n",
              "      <td>1087.000000</td>\n",
              "      <td>158.50000</td>\n",
              "    </tr>\n",
              "    <tr>\n",
              "      <th>50%</th>\n",
              "      <td>76106.000000</td>\n",
              "      <td>316.00000</td>\n",
              "    </tr>\n",
              "    <tr>\n",
              "      <th>75%</th>\n",
              "      <td>286275.500000</td>\n",
              "      <td>473.50000</td>\n",
              "    </tr>\n",
              "    <tr>\n",
              "      <th>max</th>\n",
              "      <td>702503.000000</td>\n",
              "      <td>631.00000</td>\n",
              "    </tr>\n",
              "  </tbody>\n",
              "</table>\n",
              "</div>"
            ],
            "text/plain": [
              "       Cumulative_cases  day_index\n",
              "count        631.000000  631.00000\n",
              "mean      171757.529319  316.00000\n",
              "std       210643.723360  182.29829\n",
              "min            0.000000    1.00000\n",
              "25%         1087.000000  158.50000\n",
              "50%        76106.000000  316.00000\n",
              "75%       286275.500000  473.50000\n",
              "max       702503.000000  631.00000"
            ]
          },
          "metadata": {},
          "execution_count": 181
        }
      ]
    },
    {
      "cell_type": "code",
      "metadata": {
        "id": "qfQYdr2NI3_3"
      },
      "source": [
        "#creating a data frame called 'dft_nd' to store New_deaths feature evolution in Tunisia.\n",
        "dft_nd=dft.iloc[:,[6,8]]"
      ],
      "execution_count": 182,
      "outputs": []
    },
    {
      "cell_type": "code",
      "metadata": {
        "id": "K3HnCC-qJF_U",
        "colab": {
          "base_uri": "https://localhost:8080/"
        },
        "outputId": "ad096916-ba2b-47f2-ab7e-816809ac8d91"
      },
      "source": [
        "print(dft_nd)"
      ],
      "execution_count": 183,
      "outputs": [
        {
          "output_type": "stream",
          "name": "stdout",
          "text": [
            "     New_deaths  day_index\n",
            "0             0          1\n",
            "1             0          2\n",
            "2             0          3\n",
            "3             0          4\n",
            "4             0          5\n",
            "..          ...        ...\n",
            "626          37        627\n",
            "627          26        628\n",
            "628          81        629\n",
            "629          20        630\n",
            "630           0        631\n",
            "\n",
            "[631 rows x 2 columns]\n"
          ]
        }
      ]
    },
    {
      "cell_type": "code",
      "metadata": {
        "id": "tPWVm8-7JKA0",
        "colab": {
          "base_uri": "https://localhost:8080/",
          "height": 297
        },
        "outputId": "b8ba5860-6f40-4bca-ba80-319e405617e5"
      },
      "source": [
        "#Getting a description of 'dft_nd'.\n",
        "dft_nd.describe()"
      ],
      "execution_count": 184,
      "outputs": [
        {
          "output_type": "execute_result",
          "data": {
            "text/html": [
              "<div>\n",
              "<style scoped>\n",
              "    .dataframe tbody tr th:only-of-type {\n",
              "        vertical-align: middle;\n",
              "    }\n",
              "\n",
              "    .dataframe tbody tr th {\n",
              "        vertical-align: top;\n",
              "    }\n",
              "\n",
              "    .dataframe thead th {\n",
              "        text-align: right;\n",
              "    }\n",
              "</style>\n",
              "<table border=\"1\" class=\"dataframe\">\n",
              "  <thead>\n",
              "    <tr style=\"text-align: right;\">\n",
              "      <th></th>\n",
              "      <th>New_deaths</th>\n",
              "      <th>day_index</th>\n",
              "    </tr>\n",
              "  </thead>\n",
              "  <tbody>\n",
              "    <tr>\n",
              "      <th>count</th>\n",
              "      <td>631.000000</td>\n",
              "      <td>631.00000</td>\n",
              "    </tr>\n",
              "    <tr>\n",
              "      <th>mean</th>\n",
              "      <td>39.071315</td>\n",
              "      <td>316.00000</td>\n",
              "    </tr>\n",
              "    <tr>\n",
              "      <th>std</th>\n",
              "      <td>49.898751</td>\n",
              "      <td>182.29829</td>\n",
              "    </tr>\n",
              "    <tr>\n",
              "      <th>min</th>\n",
              "      <td>0.000000</td>\n",
              "      <td>1.00000</td>\n",
              "    </tr>\n",
              "    <tr>\n",
              "      <th>25%</th>\n",
              "      <td>0.000000</td>\n",
              "      <td>158.50000</td>\n",
              "    </tr>\n",
              "    <tr>\n",
              "      <th>50%</th>\n",
              "      <td>27.000000</td>\n",
              "      <td>316.00000</td>\n",
              "    </tr>\n",
              "    <tr>\n",
              "      <th>75%</th>\n",
              "      <td>63.000000</td>\n",
              "      <td>473.50000</td>\n",
              "    </tr>\n",
              "    <tr>\n",
              "      <th>max</th>\n",
              "      <td>348.000000</td>\n",
              "      <td>631.00000</td>\n",
              "    </tr>\n",
              "  </tbody>\n",
              "</table>\n",
              "</div>"
            ],
            "text/plain": [
              "       New_deaths  day_index\n",
              "count  631.000000  631.00000\n",
              "mean    39.071315  316.00000\n",
              "std     49.898751  182.29829\n",
              "min      0.000000    1.00000\n",
              "25%      0.000000  158.50000\n",
              "50%     27.000000  316.00000\n",
              "75%     63.000000  473.50000\n",
              "max    348.000000  631.00000"
            ]
          },
          "metadata": {},
          "execution_count": 184
        }
      ]
    },
    {
      "cell_type": "code",
      "metadata": {
        "id": "gLN-3wqSJP4G"
      },
      "source": [
        "#creating a data frame called 'dft_cd' to store Cumulative_deaths feature evolution in Tunisia.\n",
        "dft_cd=dft.iloc[:,[7,8]]"
      ],
      "execution_count": 185,
      "outputs": []
    },
    {
      "cell_type": "code",
      "metadata": {
        "id": "Y0f1lVgoJSg7",
        "colab": {
          "base_uri": "https://localhost:8080/"
        },
        "outputId": "0fbe288e-1bee-40cb-ffe6-50a08a15d09a"
      },
      "source": [
        "print(dft_cd)"
      ],
      "execution_count": 186,
      "outputs": [
        {
          "output_type": "stream",
          "name": "stdout",
          "text": [
            "     Cumulative_deaths  day_index\n",
            "0                    0          1\n",
            "1                    0          2\n",
            "2                    0          3\n",
            "3                    0          4\n",
            "4                    0          5\n",
            "..                 ...        ...\n",
            "626              24527        627\n",
            "627              24553        628\n",
            "628              24634        629\n",
            "629              24654        630\n",
            "630              24654        631\n",
            "\n",
            "[631 rows x 2 columns]\n"
          ]
        }
      ]
    },
    {
      "cell_type": "code",
      "metadata": {
        "id": "xxrnrX88JWim",
        "colab": {
          "base_uri": "https://localhost:8080/",
          "height": 297
        },
        "outputId": "ecccd533-5e77-4bd6-fa7d-18a7fa19cd94"
      },
      "source": [
        "#Getting a description of 'dft_cd'.\n",
        "dft_cd.describe()"
      ],
      "execution_count": 187,
      "outputs": [
        {
          "output_type": "execute_result",
          "data": {
            "text/html": [
              "<div>\n",
              "<style scoped>\n",
              "    .dataframe tbody tr th:only-of-type {\n",
              "        vertical-align: middle;\n",
              "    }\n",
              "\n",
              "    .dataframe tbody tr th {\n",
              "        vertical-align: top;\n",
              "    }\n",
              "\n",
              "    .dataframe thead th {\n",
              "        text-align: right;\n",
              "    }\n",
              "</style>\n",
              "<table border=\"1\" class=\"dataframe\">\n",
              "  <thead>\n",
              "    <tr style=\"text-align: right;\">\n",
              "      <th></th>\n",
              "      <th>Cumulative_deaths</th>\n",
              "      <th>day_index</th>\n",
              "    </tr>\n",
              "  </thead>\n",
              "  <tbody>\n",
              "    <tr>\n",
              "      <th>count</th>\n",
              "      <td>631.000000</td>\n",
              "      <td>631.00000</td>\n",
              "    </tr>\n",
              "    <tr>\n",
              "      <th>mean</th>\n",
              "      <td>5887.274168</td>\n",
              "      <td>316.00000</td>\n",
              "    </tr>\n",
              "    <tr>\n",
              "      <th>std</th>\n",
              "      <td>7363.916295</td>\n",
              "      <td>182.29829</td>\n",
              "    </tr>\n",
              "    <tr>\n",
              "      <th>min</th>\n",
              "      <td>0.000000</td>\n",
              "      <td>1.00000</td>\n",
              "    </tr>\n",
              "    <tr>\n",
              "      <th>25%</th>\n",
              "      <td>49.000000</td>\n",
              "      <td>158.50000</td>\n",
              "    </tr>\n",
              "    <tr>\n",
              "      <th>50%</th>\n",
              "      <td>2151.000000</td>\n",
              "      <td>316.00000</td>\n",
              "    </tr>\n",
              "    <tr>\n",
              "      <th>75%</th>\n",
              "      <td>9804.000000</td>\n",
              "      <td>473.50000</td>\n",
              "    </tr>\n",
              "    <tr>\n",
              "      <th>max</th>\n",
              "      <td>24654.000000</td>\n",
              "      <td>631.00000</td>\n",
              "    </tr>\n",
              "  </tbody>\n",
              "</table>\n",
              "</div>"
            ],
            "text/plain": [
              "       Cumulative_deaths  day_index\n",
              "count         631.000000  631.00000\n",
              "mean         5887.274168  316.00000\n",
              "std          7363.916295  182.29829\n",
              "min             0.000000    1.00000\n",
              "25%            49.000000  158.50000\n",
              "50%          2151.000000  316.00000\n",
              "75%          9804.000000  473.50000\n",
              "max         24654.000000  631.00000"
            ]
          },
          "metadata": {},
          "execution_count": 187
        }
      ]
    },
    {
      "cell_type": "code",
      "metadata": {
        "id": "P-QIPTQ4KMeB",
        "colab": {
          "base_uri": "https://localhost:8080/",
          "height": 437
        },
        "outputId": "61d7a6e1-99f3-4667-a0c5-cb35de69d2f2"
      },
      "source": [
        "#Plotting New_cases and New_deaths\n",
        "fig7=plt.figure()\n",
        "ax5=fig7.add_axes([0,0,1,1])\n",
        "ax6=fig7.add_axes([0,0,1,1])\n",
        "ax5.plot(dft_nc['day_index'],dft_nc.iloc[:,0],label='new cases')\n",
        "ax6.plot(dft_nd['day_index'],dft_nd.iloc[:,0],label='new deaths')\n",
        "plt.title('New cases and new deaths (Tunisia)')\n",
        "plt.xlabel('Days after first case')\n",
        "plt.ylabel('Case/Death')\n",
        "ax5.legend()\n",
        "ax6.legend()"
      ],
      "execution_count": 188,
      "outputs": [
        {
          "output_type": "stream",
          "name": "stderr",
          "text": [
            "/usr/local/lib/python3.7/dist-packages/ipykernel_launcher.py:4: MatplotlibDeprecationWarning: Adding an axes using the same arguments as a previous axes currently reuses the earlier instance.  In a future version, a new instance will always be created and returned.  Meanwhile, this warning can be suppressed, and the future behavior ensured, by passing a unique label to each axes instance.\n",
            "  after removing the cwd from sys.path.\n"
          ]
        },
        {
          "output_type": "execute_result",
          "data": {
            "text/plain": [
              "<matplotlib.legend.Legend at 0x7fe4c8fef910>"
            ]
          },
          "metadata": {},
          "execution_count": 188
        },
        {
          "output_type": "display_data",
          "data": {
            "image/png": "[encoded data removed]",
            "text/plain": [
              "<Figure size 432x288 with 1 Axes>"
            ]
          },
          "metadata": {
            "needs_background": "light"
          }
        }
      ]
    },
    {
      "cell_type": "code",
      "metadata": {
        "id": "pNwuGg3ZLAxE",
        "colab": {
          "base_uri": "https://localhost:8080/",
          "height": 437
        },
        "outputId": "5df9369e-d28c-42cd-e100-40f1f7d9885c"
      },
      "source": [
        "#Plotting Cumulative_cases and Cumulative_deaths\n",
        "fig8=plt.figure()\n",
        "ax7=fig8.add_axes([0,0,1,1])\n",
        "ax8=fig8.add_axes([0,0,1,1])\n",
        "ax7.plot(dft_cc['day_index'],dft_cc.iloc[:,0],label='cumulative cases')\n",
        "ax8.plot(dft_cd['day_index'],dft_cd.iloc[:,0],label='cumulative deaths')\n",
        "plt.title('Cumalative cases and cumulative deaths (Tunisia)')\n",
        "plt.xlabel('Days after first case')\n",
        "plt.ylabel('Case/Death')\n",
        "ax7.legend()\n",
        "ax8.legend()"
      ],
      "execution_count": 189,
      "outputs": [
        {
          "output_type": "stream",
          "name": "stderr",
          "text": [
            "/usr/local/lib/python3.7/dist-packages/ipykernel_launcher.py:4: MatplotlibDeprecationWarning: Adding an axes using the same arguments as a previous axes currently reuses the earlier instance.  In a future version, a new instance will always be created and returned.  Meanwhile, this warning can be suppressed, and the future behavior ensured, by passing a unique label to each axes instance.\n",
            "  after removing the cwd from sys.path.\n"
          ]
        },
        {
          "output_type": "execute_result",
          "data": {
            "text/plain": [
              "<matplotlib.legend.Legend at 0x7fe4c8e92ed0>"
            ]
          },
          "metadata": {},
          "execution_count": 189
        },
        {
          "output_type": "display_data",
          "data": {
            "image/png": "[encoded data removed]",
            "text/plain": [
              "<Figure size 432x288 with 1 Axes>"
            ]
          },
          "metadata": {
            "needs_background": "light"
          }
        }
      ]
    },
    {
      "cell_type": "markdown",
      "metadata": {
        "id": "_yVDYKuFLhRy"
      },
      "source": [
        "**Choosing the right algorithm:**\n",
        "According to the graphs, there is a polynomial relationship between day_index feature and the targets: New_cases, New_deaths, Cumulative_cases and Cumulative_deaths."
      ]
    },
    {
      "cell_type": "markdown",
      "metadata": {
        "id": "SxIne02CLj0X"
      },
      "source": [
        "**Modeling**"
      ]
    },
    {
      "cell_type": "markdown",
      "metadata": {
        "id": "V1NuzxfTLn1J"
      },
      "source": [
        "*new cases*"
      ]
    },
    {
      "cell_type": "code",
      "metadata": {
        "id": "_VYCijlTLsA6"
      },
      "source": [
        "#choosing the target and the feature\n",
        "xt_nc=dft_nc.iloc[:,[1]].values\n",
        "yt_nc=dft_nc.iloc[:,[0]].values"
      ],
      "execution_count": 190,
      "outputs": []
    },
    {
      "cell_type": "code",
      "metadata": {
        "id": "nWwusx9nMoOc"
      },
      "source": [
        "#splitting the data\n",
        "xt_train_nc,xt_test_nc,yt_train_nc,yt_test_nc=train_test_split(xt_nc,yt_nc,test_size=0.30,random_state=40)"
      ],
      "execution_count": 191,
      "outputs": []
    },
    {
      "cell_type": "code",
      "metadata": {
        "id": "QQYOTkPlM30o"
      },
      "source": [
        "#fitting the feature\n",
        "polyt_nc=PolynomialFeatures(degree=4)\n",
        "\n",
        "xt_train_nc_fit=polyt_nc.fit_transform(xt_train_nc)\n",
        "xt_test_nc_fit=polyt_nc.fit_transform(xt_test_nc)"
      ],
      "execution_count": 192,
      "outputs": []
    },
    {
      "cell_type": "code",
      "metadata": {
        "id": "Or_qMjrtNHGs",
        "colab": {
          "base_uri": "https://localhost:8080/"
        },
        "outputId": "224dd105-22f5-4b35-8b26-1ce936a90e58"
      },
      "source": [
        "#creating the regression model\n",
        "modelt_nc=LinearRegression()\n",
        "modelt_nc.fit(xt_train_nc_fit, yt_train_nc)\n",
        "\n",
        "print('score:')\n",
        "modelt_nc.score(xt_test_nc_fit, yt_test_nc)"
      ],
      "execution_count": 193,
      "outputs": [
        {
          "output_type": "stream",
          "name": "stdout",
          "text": [
            "score:\n"
          ]
        },
        {
          "output_type": "execute_result",
          "data": {
            "text/plain": [
              "0.42698594101345744"
            ]
          },
          "metadata": {},
          "execution_count": 193
        }
      ]
    },
    {
      "cell_type": "code",
      "metadata": {
        "id": "Aq3ms0mZNrN2",
        "colab": {
          "base_uri": "https://localhost:8080/"
        },
        "outputId": "6b82cc07-c9ec-4181-d38b-2fcf8b188b31"
      },
      "source": [
        "#calculating metrics\n",
        "predt_nc=modelt_nc.predict(xt_test_nc_fit)\n",
        "print(\"MSE:\", mean_squared_error(yt_test_nc,predt_nc))\n",
        "print(\"R2:\", r2_score(yt_test_nc,predt_nc))"
      ],
      "execution_count": 194,
      "outputs": [
        {
          "output_type": "stream",
          "name": "stdout",
          "text": [
            "MSE: 1360560.5318450707\n",
            "R2: 0.42698594101345744\n"
          ]
        }
      ]
    },
    {
      "cell_type": "code",
      "metadata": {
        "id": "OJZXruqIOC4N",
        "colab": {
          "base_uri": "https://localhost:8080/",
          "height": 312
        },
        "outputId": "dc1da5d2-9f0c-47f4-d750-5262e07af819"
      },
      "source": [
        "#plotting the model\n",
        "fig9=plt.figure()\n",
        "plt.scatter(xt_nc,yt_nc)\n",
        "plt.title(\"Actual and predicted new cases (Tunisia)\")\n",
        "plt.xlabel(\"Day after first observation\")\n",
        "plt.ylabel(\"New case\")\n",
        "plt.plot(xt_nc, modelt_nc.predict(polyt_nc.fit_transform(xt_nc)), color=\"r\")"
      ],
      "execution_count": 195,
      "outputs": [
        {
          "output_type": "execute_result",
          "data": {
            "text/plain": [
              "[<matplotlib.lines.Line2D at 0x7fe4c8dd4810>]"
            ]
          },
          "metadata": {},
          "execution_count": 195
        },
        {
          "output_type": "display_data",
          "data": {
            "image/png": "[encoded data removed]",
            "text/plain": [
              "<Figure size 432x288 with 1 Axes>"
            ]
          },
          "metadata": {
            "needs_background": "light"
          }
        }
      ]
    },
    {
      "cell_type": "markdown",
      "metadata": {
        "id": "QckeB7ohOmoX"
      },
      "source": [
        "*cumulative cases*"
      ]
    },
    {
      "cell_type": "code",
      "metadata": {
        "id": "i6h1J1G7Olwd"
      },
      "source": [
        "#choosing the target and the feature\n",
        "xt_cc=dft_cc.iloc[:,[1]].values\n",
        "yt_cc=dft_cc.iloc[:,[0]].values"
      ],
      "execution_count": 196,
      "outputs": []
    },
    {
      "cell_type": "code",
      "metadata": {
        "id": "jSnfUboBOp2r"
      },
      "source": [
        "#splitting the data\n",
        "xt_train_cc,xt_test_cc,yt_train_cc,yt_test_cc=train_test_split(xt_cc,yt_cc,test_size=0.30,random_state=40)"
      ],
      "execution_count": 197,
      "outputs": []
    },
    {
      "cell_type": "code",
      "metadata": {
        "id": "IZzOPGjdOp-S"
      },
      "source": [
        "#fitting the feature\n",
        "polyt_cc=PolynomialFeatures(degree=2)\n",
        "\n",
        "xt_train_cc_fit=polyt_cc.fit_transform(xt_train_cc)\n",
        "xt_test_cc_fit=polyt_cc.fit_transform(xt_test_cc)"
      ],
      "execution_count": 198,
      "outputs": []
    },
    {
      "cell_type": "code",
      "metadata": {
        "id": "jgGGhquWOqF7",
        "colab": {
          "base_uri": "https://localhost:8080/"
        },
        "outputId": "ee76e612-a8c2-44da-e91c-0f69e425602a"
      },
      "source": [
        "#creating the regression model\n",
        "modelt_cc=LinearRegression()\n",
        "modelt_cc.fit(xt_train_cc_fit, yt_train_cc)\n",
        "\n",
        "print('score:')\n",
        "modelt_cc.score(xt_test_cc_fit, yt_test_cc)"
      ],
      "execution_count": 199,
      "outputs": [
        {
          "output_type": "stream",
          "name": "stdout",
          "text": [
            "score:\n"
          ]
        },
        {
          "output_type": "execute_result",
          "data": {
            "text/plain": [
              "0.9880429176558118"
            ]
          },
          "metadata": {},
          "execution_count": 199
        }
      ]
    },
    {
      "cell_type": "code",
      "metadata": {
        "id": "yaTOK4jGOqN-",
        "colab": {
          "base_uri": "https://localhost:8080/"
        },
        "outputId": "598d9d86-49ae-4266-bb02-0a77e8be8d96"
      },
      "source": [
        "#calculating metrics\n",
        "predt_cc=modelt_cc.predict(xt_test_cc_fit)\n",
        "print(\"MSE:\", mean_squared_error(yt_test_cc,predt_cc))\n",
        "print(\"R2:\", r2_score(yt_test_cc,predt_cc))"
      ],
      "execution_count": 200,
      "outputs": [
        {
          "output_type": "stream",
          "name": "stdout",
          "text": [
            "MSE: 517231593.47860366\n",
            "R2: 0.9880429176558118\n"
          ]
        }
      ]
    },
    {
      "cell_type": "code",
      "metadata": {
        "id": "K0kNNvD5OqTN",
        "colab": {
          "base_uri": "https://localhost:8080/",
          "height": 312
        },
        "outputId": "b563fc5e-cbb3-4f2c-e7de-e76f10a6f5eb"
      },
      "source": [
        "#plotting the model\n",
        "fig10=plt.figure()\n",
        "plt.scatter(xt_cc,yt_cc, c='yellow')\n",
        "plt.title(\"Actual and predicted cumulative cases (Tunisia)\")\n",
        "plt.xlabel(\"Day after first observation\")\n",
        "plt.ylabel(\"Cumulative case\")\n",
        "plt.plot(xt_cc, modelt_cc.predict(polyt_cc.fit_transform(xt_cc)), color=\"r\")"
      ],
      "execution_count": 201,
      "outputs": [
        {
          "output_type": "execute_result",
          "data": {
            "text/plain": [
              "[<matplotlib.lines.Line2D at 0x7fe4c8d4c750>]"
            ]
          },
          "metadata": {},
          "execution_count": 201
        },
        {
          "output_type": "display_data",
          "data": {
            "image/png": "[encoded data removed]",
            "text/plain": [
              "<Figure size 432x288 with 1 Axes>"
            ]
          },
          "metadata": {
            "needs_background": "light"
          }
        }
      ]
    },
    {
      "cell_type": "markdown",
      "metadata": {
        "id": "n06zqH-aOql5"
      },
      "source": [
        "*new deaths*"
      ]
    },
    {
      "cell_type": "code",
      "metadata": {
        "id": "ecmW0pdAOvX5"
      },
      "source": [
        "#choosing the target and the feature\n",
        "xt_nd=dft_nd.iloc[:,[1]].values\n",
        "yt_nd=dft_nd.iloc[:,[0]].values"
      ],
      "execution_count": 202,
      "outputs": []
    },
    {
      "cell_type": "code",
      "metadata": {
        "id": "J_CpsPh0OvgT"
      },
      "source": [
        "#splitting the data\n",
        "xt_train_nd,xt_test_nd,yt_train_nd,yt_test_nd=train_test_split(xt_nd,yt_nd,test_size=0.30,random_state=40)"
      ],
      "execution_count": 203,
      "outputs": []
    },
    {
      "cell_type": "code",
      "metadata": {
        "id": "y_F_2yGrOvnN"
      },
      "source": [
        "#fitting the feature\n",
        "polyt_nd=PolynomialFeatures(degree=4)\n",
        "\n",
        "xt_train_nd_fit=polyt_nd.fit_transform(xt_train_nd)\n",
        "xt_test_nd_fit=polyt_nd.fit_transform(xt_test_nd)"
      ],
      "execution_count": 204,
      "outputs": []
    },
    {
      "cell_type": "code",
      "metadata": {
        "id": "5j30QP5TOvtk",
        "colab": {
          "base_uri": "https://localhost:8080/"
        },
        "outputId": "faf37fe1-aa89-478d-8dcf-467f39258689"
      },
      "source": [
        "#creating the regression model\n",
        "modelt_nd=LinearRegression()\n",
        "modelt_nd.fit(xt_train_nd_fit, yt_train_nd)\n",
        "\n",
        "print('score:')\n",
        "modelt_nd.score(xt_test_nd_fit, yt_test_nd)"
      ],
      "execution_count": 205,
      "outputs": [
        {
          "output_type": "stream",
          "name": "stdout",
          "text": [
            "score:\n"
          ]
        },
        {
          "output_type": "execute_result",
          "data": {
            "text/plain": [
              "0.5368376847840144"
            ]
          },
          "metadata": {},
          "execution_count": 205
        }
      ]
    },
    {
      "cell_type": "code",
      "metadata": {
        "id": "UeuJAXYWOv1h",
        "colab": {
          "base_uri": "https://localhost:8080/"
        },
        "outputId": "05db710e-43f3-4fe1-eb98-8a4a4bd715d6"
      },
      "source": [
        "#calculating metrics\n",
        "predt_nd=modelt_nd.predict(xt_test_nd_fit)\n",
        "print(\"MSE:\", mean_squared_error(yt_test_nd,predt_nd))\n",
        "print(\"R2:\", r2_score(yt_test_nd,predt_nd))"
      ],
      "execution_count": 206,
      "outputs": [
        {
          "output_type": "stream",
          "name": "stdout",
          "text": [
            "MSE: 1110.7019271107229\n",
            "R2: 0.5368376847840144\n"
          ]
        }
      ]
    },
    {
      "cell_type": "code",
      "metadata": {
        "id": "biKU-aCfOwKw",
        "colab": {
          "base_uri": "https://localhost:8080/",
          "height": 312
        },
        "outputId": "422b8cc9-6f8e-40ec-91ae-bfbd018c40d3"
      },
      "source": [
        "#plotting the model\n",
        "fig11=plt.figure()\n",
        "plt.scatter(xt_nd,yt_nd, c='yellow')\n",
        "plt.title(\"Actual and predicted new deaths (Tunisia)\")\n",
        "plt.xlabel(\"Day after first observation\")\n",
        "plt.ylabel(\"new death\")\n",
        "plt.plot(xt_nd, modelt_nd.predict(polyt_nd.fit_transform(xt_nd)), color=\"purple\")"
      ],
      "execution_count": 207,
      "outputs": [
        {
          "output_type": "execute_result",
          "data": {
            "text/plain": [
              "[<matplotlib.lines.Line2D at 0x7fe4c8cd14d0>]"
            ]
          },
          "metadata": {},
          "execution_count": 207
        },
        {
          "output_type": "display_data",
          "data": {
            "image/png": "[encoded data removed]",
            "text/plain": [
              "<Figure size 432x288 with 1 Axes>"
            ]
          },
          "metadata": {
            "needs_background": "light"
          }
        }
      ]
    },
    {
      "cell_type": "markdown",
      "metadata": {
        "id": "U8nCZiZFOwyy"
      },
      "source": [
        "*cumulative deaths*"
      ]
    },
    {
      "cell_type": "code",
      "metadata": {
        "id": "hFjaesOEO1P-"
      },
      "source": [
        "#choosing the target and the feature\n",
        "xt_cd=dft_cd.iloc[:,[1]].values\n",
        "yt_cd=dft_cd.iloc[:,[0]].values"
      ],
      "execution_count": 208,
      "outputs": []
    },
    {
      "cell_type": "code",
      "metadata": {
        "id": "WQRg5GsfO1Yk"
      },
      "source": [
        "#splitting the data\n",
        "xt_train_cd,xt_test_cd,yt_train_cd,yt_test_cd=train_test_split(xt_cd,yt_cd,test_size=0.30,random_state=40)"
      ],
      "execution_count": 209,
      "outputs": []
    },
    {
      "cell_type": "code",
      "metadata": {
        "id": "7lX4JzrZO1ge"
      },
      "source": [
        "#fitting the feature\n",
        "polyt_cd=PolynomialFeatures(degree=2)\n",
        "\n",
        "xt_train_cd_fit=polyt_cd.fit_transform(xt_train_cd)\n",
        "xt_test_cd_fit=polyt_cd.fit_transform(xt_test_cd)"
      ],
      "execution_count": 210,
      "outputs": []
    },
    {
      "cell_type": "code",
      "metadata": {
        "id": "cCuVmNG6O1pT",
        "colab": {
          "base_uri": "https://localhost:8080/"
        },
        "outputId": "f71971ec-69bd-4fe8-b0ec-d04a0e606540"
      },
      "source": [
        "#creating the regression model\n",
        "modelt_cd=LinearRegression()\n",
        "modelt_cd.fit(xt_train_cd_fit, yt_train_cd)\n",
        "\n",
        "print('score:')\n",
        "modelt_cd.score(xt_test_cd_fit, yt_test_cd)"
      ],
      "execution_count": 211,
      "outputs": [
        {
          "output_type": "stream",
          "name": "stdout",
          "text": [
            "score:\n"
          ]
        },
        {
          "output_type": "execute_result",
          "data": {
            "text/plain": [
              "0.988928150967059"
            ]
          },
          "metadata": {},
          "execution_count": 211
        }
      ]
    },
    {
      "cell_type": "code",
      "metadata": {
        "id": "GuVUiM4vO1xJ",
        "colab": {
          "base_uri": "https://localhost:8080/"
        },
        "outputId": "725f21c2-fd06-463c-f35d-b0fad27f55c5"
      },
      "source": [
        "#calculating metrics\n",
        "predt_cd=modelt_cd.predict(xt_test_cd_fit)\n",
        "print(\"MSE:\", mean_squared_error(yt_test_cd,predt_cd))\n",
        "print(\"R2:\", r2_score(yt_test_cd,predt_cd))"
      ],
      "execution_count": 212,
      "outputs": [
        {
          "output_type": "stream",
          "name": "stdout",
          "text": [
            "MSE: 588419.0665868205\n",
            "R2: 0.9889281509670589\n"
          ]
        }
      ]
    },
    {
      "cell_type": "code",
      "metadata": {
        "id": "-QtCJHa5O15I",
        "colab": {
          "base_uri": "https://localhost:8080/",
          "height": 312
        },
        "outputId": "6e1d9f5a-268c-4d45-876b-511b582420fd"
      },
      "source": [
        "#plotting the model\n",
        "fig12=plt.figure()\n",
        "plt.scatter(xt_cd,yt_cd, c='lime')\n",
        "plt.title(\"Actual and predicted cumulative deaths (Tunisia)\")\n",
        "plt.xlabel(\"Day after first observation\")\n",
        "plt.ylabel(\"Cumulative death\")\n",
        "plt.plot(xt_cd, modelt_cd.predict(polyt_cd.fit_transform(xt_cd)), color=\"purple\")"
      ],
      "execution_count": 213,
      "outputs": [
        {
          "output_type": "execute_result",
          "data": {
            "text/plain": [
              "[<matplotlib.lines.Line2D at 0x7fe4c8cc8190>]"
            ]
          },
          "metadata": {},
          "execution_count": 213
        },
        {
          "output_type": "display_data",
          "data": {
            "image/png": "[encoded data removed]",
            "text/plain": [
              "<Figure size 432x288 with 1 Axes>"
            ]
          },
          "metadata": {
            "needs_background": "light"
          }
        }
      ]
    },
    {
      "cell_type": "markdown",
      "metadata": {
        "id": "2ipnxUmtzrLQ"
      },
      "source": [
        "# **Experimentation**"
      ]
    },
    {
      "cell_type": "code",
      "metadata": {
        "id": "xdd4AGAbzsIT",
        "colab": {
          "base_uri": "https://localhost:8080/"
        },
        "outputId": "ba4bfee6-2725-4410-9402-ea36517b7fa9"
      },
      "source": [
        "print(90*'-')\n",
        "print('COVID-19 Propagation predictor'.center(85))\n",
        "print(90*'-', end='\\n\\n\\n')\n",
        "\n",
        "print(38*'-', 'DESCRIPTION', 39*'-', end='\\n\\n')\n",
        "print(\"\"\"Given a choice between global (g) and Tunisia (t) and an integer n,\n",
        "the predictor uses a set of regression models in order to:\n",
        ">>Predict new cases n days after the day when the last observation was made.\n",
        ">>Predict Cumulative cases n days after the day when the last observation was made.\n",
        ">>Predict new deaths n days after the day when the last observation was made.\n",
        ">>Predict cumulative deaths n days after the day when the last observation was made.\n",
        "\n",
        "NOTE: Download and use the latest dataset using the link:'https://covid19.who.int/WHO-COVID-19-global-data.csv' \n",
        "NOTE: In order to get the most precise prediction, n should be between 1 and 30 inclusive.\n",
        "\"\"\", end='\\n\\n')\n",
        "print(39*'-', 'PREDICTION', 39*'-', end='\\n\\n')\n",
        "date = df.iloc[-1, 0]\n",
        "print('Last observation was made on: {0}.'.format(date), end='\\n\\n')\n",
        "\n",
        "decision=0\n",
        "while True:\n",
        "  area=input(\"Enter g for global Covid-19 prediction, or t for local Covid-19 prediction in Tunisia: \")\n",
        "  if area in 'gG':\n",
        "    decision=1\n",
        "    break\n",
        "  elif area in 'tT':\n",
        "    decision=2\n",
        "    break\n",
        "  else:\n",
        "    print('Please, enter a valid character.')\n",
        "    continue\n",
        "\n",
        "while True:\n",
        "  try:\n",
        "    n=int(input(\"Enter an integer n where n = number of days after last observation day: \"))\n",
        "    break\n",
        "  except:\n",
        "    print('Please, enter a valid integer.')\n",
        "    continue\n",
        "\n",
        "if n<1 or n>30:\n",
        "  print(\"WARNING: The integer n should be between 1 and 30 inclusive.\")\n",
        "print('\\n\\n')\n",
        "\n",
        "if decision==1:\n",
        "  print('GLOBAL COVID-19 PREDICTION:')\n",
        "  print('New cases after {0} days from last observation: {1}'.format(n, int(model_nc.predict(poly_nc.fit_transform([[obs+n]])))))\n",
        "  print('New deaths after {0} days from last observation: {1}'.format(n, int(model_nd.predict(poly_nd.fit_transform([[obs+n]])))))\n",
        "  print('Cumulative cases after {0} days from last observation: {1} Millions'.format(n, round(int(model_cc.predict(poly_cc.fit_transform([[obs+n]])))/1000000,2)))\n",
        "  print('Cumulative deaths after {0} days from last observation: {1}K'.format(n, round(int(model_cd.predict(poly_cd.fit_transform([[obs+n]])))/1000,2)))\n",
        "else:\n",
        "  print('LOCAL COVID-19 PREDICTION (TUNISIA):')\n",
        "  print('New cases after {0} days from last observation: {1}'.format(n, int(modelt_nc.predict(polyt_nc.fit_transform([[obs+n]])))))\n",
        "  print('New deaths after {0} days from last observation: {1}'.format(n, int(modelt_nd.predict(polyt_nd.fit_transform([[obs+n]])))))\n",
        "  print('Cumulative cases after {0} days from last observation: {1}'.format(n, int(modelt_cc.predict(polyt_cc.fit_transform([[obs+n]])))))\n",
        "  print('Cumulative deaths after {0} days from last observation: {1}'.format(n, int(modelt_cd.predict(polyt_cd.fit_transform([[obs+n]])))))"
      ],
      "execution_count": 214,
      "outputs": [
        {
          "output_type": "stream",
          "name": "stdout",
          "text": [
            "------------------------------------------------------------------------------------------\n",
            "                            COVID-19 Propagation predictor                           \n",
            "------------------------------------------------------------------------------------------\n",
            "\n",
            "\n",
            "-------------------------------------- DESCRIPTION ---------------------------------------\n",
            "\n",
            "Given a choice between global (g) and Tunisia (t) and an integer n,\n",
            "the predictor uses a set of regression models in order to:\n",
            ">>Predict new cases n days after the day when the last observation was made.\n",
            ">>Predict Cumulative cases n days after the day when the last observation was made.\n",
            ">>Predict new deaths n days after the day when the last observation was made.\n",
            ">>Predict cumulative deaths n days after the day when the last observation was made.\n",
            "\n",
            "NOTE: Download and use the latest dataset using the link:'https://covid19.who.int/WHO-COVID-19-global-data.csv' \n",
            "NOTE: In order to get the most precise prediction, n should be between 1 and 30 inclusive.\n",
            "\n",
            "\n",
            "--------------------------------------- PREDICTION ---------------------------------------\n",
            "\n",
            "Last observation was made on: 2021-09-24.\n",
            "\n",
            "Enter g for global Covid-19 prediction, or t for local Covid-19 prediction in Tunisia: g\n",
            "Enter an integer n where n = number of days after last observation day: 7\n",
            "\n",
            "\n",
            "\n",
            "GLOBAL COVID-19 PREDICTION:\n",
            "New cases after 7 days from last observation: 662177\n",
            "New deaths after 7 days from last observation: 12262\n",
            "Cumulative cases after 7 days from last observation: 249.02 Millions\n",
            "Cumulative deaths after 7 days from last observation: 5113.24K\n"
          ]
        }
      ]
    }
  ]
}