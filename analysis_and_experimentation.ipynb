{
  "nbformat": 4,
  "nbformat_minor": 0,
  "metadata": {
    "colab": {
      "name": "COVID-19 propagation: analysis and experimentation.ipynb",
      "provenance": [],
      "collapsed_sections": [
        "3POlArhOxRB1"
      ],
      "toc_visible": true
    },
    "kernelspec": {
      "name": "python3",
      "display_name": "Python 3"
    }
  },
  "cells": [
    {
      "cell_type": "markdown",
      "metadata": {
        "id": "3POlArhOxRB1"
      },
      "source": [
        "# ***COVID-19 propagation: analysis and experimentation***\n",
        "*Analysis and modeling: Louay Farah*"
      ]
    },
    {
      "cell_type": "markdown",
      "metadata": {
        "id": "9Tgd93qwiQc3"
      },
      "source": [
        "# Dataset"
      ]
    },
    {
      "cell_type": "markdown",
      "metadata": {
        "id": "n943lXFbkbdd"
      },
      "source": [
        "https://covid19.who.int/WHO-COVID-19-global-data.csv"
      ]
    },
    {
      "cell_type": "markdown",
      "metadata": {
        "id": "fa-rKXowXy8T"
      },
      "source": [
        "# Importing libraries and modules"
      ]
    },
    {
      "cell_type": "code",
      "metadata": {
        "id": "ufEZfuifYau9"
      },
      "source": [
        "import pandas as pd                  #For data exploration and preprocessing\n",
        "import numpy as np                   #For data manipulation\n",
        "import matplotlib.pyplot as plt      #For data plotting\n",
        "\n",
        "from sklearn.model_selection import train_test_split #For splitting data\n",
        "from sklearn.linear_model import LinearRegression    #For creating regression models\n",
        "from sklearn.preprocessing import PolynomialFeatures #For fitting features to polynomial regression model\n",
        "from sklearn.metrics import mean_squared_error       #For calculating MSE\n",
        "from sklearn.metrics import r2_score                 #For calculationg R-squared scores"
      ],
      "execution_count": 1186,
      "outputs": []
    },
    {
      "cell_type": "markdown",
      "metadata": {
        "id": "3X_6IxKsXm4c"
      },
      "source": [
        "# Loading Dataset"
      ]
    },
    {
      "cell_type": "code",
      "metadata": {
        "id": "iu6_y6_Pr7ev"
      },
      "source": [
        "#Loading the 'WHO-COVID-19-global-data.csv' dataset that contains comma-seperated values, and saving it as a data frame called 'df'.\n",
        "df=pd.read_csv('WHO-COVID-19-global-data.csv', sep=',')    "
      ],
      "execution_count": 1187,
      "outputs": []
    },
    {
      "cell_type": "code",
      "metadata": {
        "id": "kRFgqCcphGvh",
        "colab": {
          "base_uri": "https://localhost:8080/",
          "height": 419
        },
        "outputId": "428402be-37f9-40f8-c5f2-1ab688326c57"
      },
      "source": [
        "#Printing a part of the dataset\n",
        "df"
      ],
      "execution_count": 1188,
      "outputs": [
        {
          "output_type": "execute_result",
          "data": {
            "text/html": [
              "<div>\n",
              "<style scoped>\n",
              "    .dataframe tbody tr th:only-of-type {\n",
              "        vertical-align: middle;\n",
              "    }\n",
              "\n",
              "    .dataframe tbody tr th {\n",
              "        vertical-align: top;\n",
              "    }\n",
              "\n",
              "    .dataframe thead th {\n",
              "        text-align: right;\n",
              "    }\n",
              "</style>\n",
              "<table border=\"1\" class=\"dataframe\">\n",
              "  <thead>\n",
              "    <tr style=\"text-align: right;\">\n",
              "      <th></th>\n",
              "      <th>Date_reported</th>\n",
              "      <th>Country_code</th>\n",
              "      <th>Country</th>\n",
              "      <th>WHO_region</th>\n",
              "      <th>New_cases</th>\n",
              "      <th>Cumulative_cases</th>\n",
              "      <th>New_deaths</th>\n",
              "      <th>Cumulative_deaths</th>\n",
              "    </tr>\n",
              "  </thead>\n",
              "  <tbody>\n",
              "    <tr>\n",
              "      <th>0</th>\n",
              "      <td>2020-01-03</td>\n",
              "      <td>AF</td>\n",
              "      <td>Afghanistan</td>\n",
              "      <td>EMRO</td>\n",
              "      <td>0</td>\n",
              "      <td>0</td>\n",
              "      <td>0</td>\n",
              "      <td>0</td>\n",
              "    </tr>\n",
              "    <tr>\n",
              "      <th>1</th>\n",
              "      <td>2020-01-04</td>\n",
              "      <td>AF</td>\n",
              "      <td>Afghanistan</td>\n",
              "      <td>EMRO</td>\n",
              "      <td>0</td>\n",
              "      <td>0</td>\n",
              "      <td>0</td>\n",
              "      <td>0</td>\n",
              "    </tr>\n",
              "    <tr>\n",
              "      <th>2</th>\n",
              "      <td>2020-01-05</td>\n",
              "      <td>AF</td>\n",
              "      <td>Afghanistan</td>\n",
              "      <td>EMRO</td>\n",
              "      <td>0</td>\n",
              "      <td>0</td>\n",
              "      <td>0</td>\n",
              "      <td>0</td>\n",
              "    </tr>\n",
              "    <tr>\n",
              "      <th>3</th>\n",
              "      <td>2020-01-06</td>\n",
              "      <td>AF</td>\n",
              "      <td>Afghanistan</td>\n",
              "      <td>EMRO</td>\n",
              "      <td>0</td>\n",
              "      <td>0</td>\n",
              "      <td>0</td>\n",
              "      <td>0</td>\n",
              "    </tr>\n",
              "    <tr>\n",
              "      <th>4</th>\n",
              "      <td>2020-01-07</td>\n",
              "      <td>AF</td>\n",
              "      <td>Afghanistan</td>\n",
              "      <td>EMRO</td>\n",
              "      <td>0</td>\n",
              "      <td>0</td>\n",
              "      <td>0</td>\n",
              "      <td>0</td>\n",
              "    </tr>\n",
              "    <tr>\n",
              "      <th>...</th>\n",
              "      <td>...</td>\n",
              "      <td>...</td>\n",
              "      <td>...</td>\n",
              "      <td>...</td>\n",
              "      <td>...</td>\n",
              "      <td>...</td>\n",
              "      <td>...</td>\n",
              "      <td>...</td>\n",
              "    </tr>\n",
              "    <tr>\n",
              "      <th>135322</th>\n",
              "      <td>2021-07-22</td>\n",
              "      <td>ZW</td>\n",
              "      <td>Zimbabwe</td>\n",
              "      <td>AFRO</td>\n",
              "      <td>2705</td>\n",
              "      <td>91120</td>\n",
              "      <td>62</td>\n",
              "      <td>2809</td>\n",
              "    </tr>\n",
              "    <tr>\n",
              "      <th>135323</th>\n",
              "      <td>2021-07-23</td>\n",
              "      <td>ZW</td>\n",
              "      <td>Zimbabwe</td>\n",
              "      <td>AFRO</td>\n",
              "      <td>2301</td>\n",
              "      <td>93421</td>\n",
              "      <td>61</td>\n",
              "      <td>2870</td>\n",
              "    </tr>\n",
              "    <tr>\n",
              "      <th>135324</th>\n",
              "      <td>2021-07-24</td>\n",
              "      <td>ZW</td>\n",
              "      <td>Zimbabwe</td>\n",
              "      <td>AFRO</td>\n",
              "      <td>2265</td>\n",
              "      <td>95686</td>\n",
              "      <td>91</td>\n",
              "      <td>2961</td>\n",
              "    </tr>\n",
              "    <tr>\n",
              "      <th>135325</th>\n",
              "      <td>2021-07-25</td>\n",
              "      <td>ZW</td>\n",
              "      <td>Zimbabwe</td>\n",
              "      <td>AFRO</td>\n",
              "      <td>1591</td>\n",
              "      <td>97277</td>\n",
              "      <td>89</td>\n",
              "      <td>3050</td>\n",
              "    </tr>\n",
              "    <tr>\n",
              "      <th>135326</th>\n",
              "      <td>2021-07-26</td>\n",
              "      <td>ZW</td>\n",
              "      <td>Zimbabwe</td>\n",
              "      <td>AFRO</td>\n",
              "      <td>617</td>\n",
              "      <td>97894</td>\n",
              "      <td>44</td>\n",
              "      <td>3094</td>\n",
              "    </tr>\n",
              "  </tbody>\n",
              "</table>\n",
              "<p>135327 rows × 8 columns</p>\n",
              "</div>"
            ],
            "text/plain": [
              "       Date_reported Country_code  ... New_deaths Cumulative_deaths\n",
              "0         2020-01-03           AF  ...          0                 0\n",
              "1         2020-01-04           AF  ...          0                 0\n",
              "2         2020-01-05           AF  ...          0                 0\n",
              "3         2020-01-06           AF  ...          0                 0\n",
              "4         2020-01-07           AF  ...          0                 0\n",
              "...              ...          ...  ...        ...               ...\n",
              "135322    2021-07-22           ZW  ...         62              2809\n",
              "135323    2021-07-23           ZW  ...         61              2870\n",
              "135324    2021-07-24           ZW  ...         91              2961\n",
              "135325    2021-07-25           ZW  ...         89              3050\n",
              "135326    2021-07-26           ZW  ...         44              3094\n",
              "\n",
              "[135327 rows x 8 columns]"
            ]
          },
          "metadata": {
            "tags": []
          },
          "execution_count": 1188
        }
      ]
    },
    {
      "cell_type": "markdown",
      "metadata": {
        "id": "WKVTehd9izwu"
      },
      "source": [
        "# Dataset exploration and preprocessing"
      ]
    },
    {
      "cell_type": "code",
      "metadata": {
        "id": "8pfY-0V0i6Xi",
        "colab": {
          "base_uri": "https://localhost:8080/",
          "height": 204
        },
        "outputId": "fba2bbb1-9efd-4a82-cab1-c73db5334f32"
      },
      "source": [
        "#printing the first 5 rows of the dataset\n",
        "df.head()     "
      ],
      "execution_count": 1189,
      "outputs": [
        {
          "output_type": "execute_result",
          "data": {
            "text/html": [
              "<div>\n",
              "<style scoped>\n",
              "    .dataframe tbody tr th:only-of-type {\n",
              "        vertical-align: middle;\n",
              "    }\n",
              "\n",
              "    .dataframe tbody tr th {\n",
              "        vertical-align: top;\n",
              "    }\n",
              "\n",
              "    .dataframe thead th {\n",
              "        text-align: right;\n",
              "    }\n",
              "</style>\n",
              "<table border=\"1\" class=\"dataframe\">\n",
              "  <thead>\n",
              "    <tr style=\"text-align: right;\">\n",
              "      <th></th>\n",
              "      <th>Date_reported</th>\n",
              "      <th>Country_code</th>\n",
              "      <th>Country</th>\n",
              "      <th>WHO_region</th>\n",
              "      <th>New_cases</th>\n",
              "      <th>Cumulative_cases</th>\n",
              "      <th>New_deaths</th>\n",
              "      <th>Cumulative_deaths</th>\n",
              "    </tr>\n",
              "  </thead>\n",
              "  <tbody>\n",
              "    <tr>\n",
              "      <th>0</th>\n",
              "      <td>2020-01-03</td>\n",
              "      <td>AF</td>\n",
              "      <td>Afghanistan</td>\n",
              "      <td>EMRO</td>\n",
              "      <td>0</td>\n",
              "      <td>0</td>\n",
              "      <td>0</td>\n",
              "      <td>0</td>\n",
              "    </tr>\n",
              "    <tr>\n",
              "      <th>1</th>\n",
              "      <td>2020-01-04</td>\n",
              "      <td>AF</td>\n",
              "      <td>Afghanistan</td>\n",
              "      <td>EMRO</td>\n",
              "      <td>0</td>\n",
              "      <td>0</td>\n",
              "      <td>0</td>\n",
              "      <td>0</td>\n",
              "    </tr>\n",
              "    <tr>\n",
              "      <th>2</th>\n",
              "      <td>2020-01-05</td>\n",
              "      <td>AF</td>\n",
              "      <td>Afghanistan</td>\n",
              "      <td>EMRO</td>\n",
              "      <td>0</td>\n",
              "      <td>0</td>\n",
              "      <td>0</td>\n",
              "      <td>0</td>\n",
              "    </tr>\n",
              "    <tr>\n",
              "      <th>3</th>\n",
              "      <td>2020-01-06</td>\n",
              "      <td>AF</td>\n",
              "      <td>Afghanistan</td>\n",
              "      <td>EMRO</td>\n",
              "      <td>0</td>\n",
              "      <td>0</td>\n",
              "      <td>0</td>\n",
              "      <td>0</td>\n",
              "    </tr>\n",
              "    <tr>\n",
              "      <th>4</th>\n",
              "      <td>2020-01-07</td>\n",
              "      <td>AF</td>\n",
              "      <td>Afghanistan</td>\n",
              "      <td>EMRO</td>\n",
              "      <td>0</td>\n",
              "      <td>0</td>\n",
              "      <td>0</td>\n",
              "      <td>0</td>\n",
              "    </tr>\n",
              "  </tbody>\n",
              "</table>\n",
              "</div>"
            ],
            "text/plain": [
              "  Date_reported Country_code  ... New_deaths Cumulative_deaths\n",
              "0    2020-01-03           AF  ...          0                 0\n",
              "1    2020-01-04           AF  ...          0                 0\n",
              "2    2020-01-05           AF  ...          0                 0\n",
              "3    2020-01-06           AF  ...          0                 0\n",
              "4    2020-01-07           AF  ...          0                 0\n",
              "\n",
              "[5 rows x 8 columns]"
            ]
          },
          "metadata": {
            "tags": []
          },
          "execution_count": 1189
        }
      ]
    },
    {
      "cell_type": "code",
      "metadata": {
        "id": "qFLiBY8NjLlg",
        "colab": {
          "base_uri": "https://localhost:8080/",
          "height": 204
        },
        "outputId": "8a4a32e6-c038-4620-ff91-92677b5b96ab"
      },
      "source": [
        "#printing the last 5 rows of the dataset\n",
        "df.tail()     "
      ],
      "execution_count": 1190,
      "outputs": [
        {
          "output_type": "execute_result",
          "data": {
            "text/html": [
              "<div>\n",
              "<style scoped>\n",
              "    .dataframe tbody tr th:only-of-type {\n",
              "        vertical-align: middle;\n",
              "    }\n",
              "\n",
              "    .dataframe tbody tr th {\n",
              "        vertical-align: top;\n",
              "    }\n",
              "\n",
              "    .dataframe thead th {\n",
              "        text-align: right;\n",
              "    }\n",
              "</style>\n",
              "<table border=\"1\" class=\"dataframe\">\n",
              "  <thead>\n",
              "    <tr style=\"text-align: right;\">\n",
              "      <th></th>\n",
              "      <th>Date_reported</th>\n",
              "      <th>Country_code</th>\n",
              "      <th>Country</th>\n",
              "      <th>WHO_region</th>\n",
              "      <th>New_cases</th>\n",
              "      <th>Cumulative_cases</th>\n",
              "      <th>New_deaths</th>\n",
              "      <th>Cumulative_deaths</th>\n",
              "    </tr>\n",
              "  </thead>\n",
              "  <tbody>\n",
              "    <tr>\n",
              "      <th>135322</th>\n",
              "      <td>2021-07-22</td>\n",
              "      <td>ZW</td>\n",
              "      <td>Zimbabwe</td>\n",
              "      <td>AFRO</td>\n",
              "      <td>2705</td>\n",
              "      <td>91120</td>\n",
              "      <td>62</td>\n",
              "      <td>2809</td>\n",
              "    </tr>\n",
              "    <tr>\n",
              "      <th>135323</th>\n",
              "      <td>2021-07-23</td>\n",
              "      <td>ZW</td>\n",
              "      <td>Zimbabwe</td>\n",
              "      <td>AFRO</td>\n",
              "      <td>2301</td>\n",
              "      <td>93421</td>\n",
              "      <td>61</td>\n",
              "      <td>2870</td>\n",
              "    </tr>\n",
              "    <tr>\n",
              "      <th>135324</th>\n",
              "      <td>2021-07-24</td>\n",
              "      <td>ZW</td>\n",
              "      <td>Zimbabwe</td>\n",
              "      <td>AFRO</td>\n",
              "      <td>2265</td>\n",
              "      <td>95686</td>\n",
              "      <td>91</td>\n",
              "      <td>2961</td>\n",
              "    </tr>\n",
              "    <tr>\n",
              "      <th>135325</th>\n",
              "      <td>2021-07-25</td>\n",
              "      <td>ZW</td>\n",
              "      <td>Zimbabwe</td>\n",
              "      <td>AFRO</td>\n",
              "      <td>1591</td>\n",
              "      <td>97277</td>\n",
              "      <td>89</td>\n",
              "      <td>3050</td>\n",
              "    </tr>\n",
              "    <tr>\n",
              "      <th>135326</th>\n",
              "      <td>2021-07-26</td>\n",
              "      <td>ZW</td>\n",
              "      <td>Zimbabwe</td>\n",
              "      <td>AFRO</td>\n",
              "      <td>617</td>\n",
              "      <td>97894</td>\n",
              "      <td>44</td>\n",
              "      <td>3094</td>\n",
              "    </tr>\n",
              "  </tbody>\n",
              "</table>\n",
              "</div>"
            ],
            "text/plain": [
              "       Date_reported Country_code  ... New_deaths Cumulative_deaths\n",
              "135322    2021-07-22           ZW  ...         62              2809\n",
              "135323    2021-07-23           ZW  ...         61              2870\n",
              "135324    2021-07-24           ZW  ...         91              2961\n",
              "135325    2021-07-25           ZW  ...         89              3050\n",
              "135326    2021-07-26           ZW  ...         44              3094\n",
              "\n",
              "[5 rows x 8 columns]"
            ]
          },
          "metadata": {
            "tags": []
          },
          "execution_count": 1190
        }
      ]
    },
    {
      "cell_type": "code",
      "metadata": {
        "id": "SQvOx3hNjbvI",
        "colab": {
          "base_uri": "https://localhost:8080/"
        },
        "outputId": "537a6aca-6fe1-4e06-eb04-1de2ddbada86"
      },
      "source": [
        "#Getting informations about the dataset\n",
        "df.info()"
      ],
      "execution_count": 1191,
      "outputs": [
        {
          "output_type": "stream",
          "text": [
            "<class 'pandas.core.frame.DataFrame'>\n",
            "RangeIndex: 135327 entries, 0 to 135326\n",
            "Data columns (total 8 columns):\n",
            " #   Column             Non-Null Count   Dtype \n",
            "---  ------             --------------   ----- \n",
            " 0   Date_reported      135327 non-null  object\n",
            " 1   Country_code       134756 non-null  object\n",
            " 2   Country            135327 non-null  object\n",
            " 3   WHO_region         135327 non-null  object\n",
            " 4   New_cases          135327 non-null  int64 \n",
            " 5   Cumulative_cases   135327 non-null  int64 \n",
            " 6   New_deaths         135327 non-null  int64 \n",
            " 7   Cumulative_deaths  135327 non-null  int64 \n",
            "dtypes: int64(4), object(4)\n",
            "memory usage: 8.3+ MB\n"
          ],
          "name": "stdout"
        }
      ]
    },
    {
      "cell_type": "code",
      "metadata": {
        "id": "jfzXoXbQtQnv",
        "colab": {
          "base_uri": "https://localhost:8080/"
        },
        "outputId": "338c1889-d97c-455a-a38f-35ae6a215211"
      },
      "source": [
        "#Making sure all countries are represented with the same weight\n",
        "df.iloc[:,2].value_counts().describe() "
      ],
      "execution_count": 1192,
      "outputs": [
        {
          "output_type": "execute_result",
          "data": {
            "text/plain": [
              "count    237.0\n",
              "mean     571.0\n",
              "std        0.0\n",
              "min      571.0\n",
              "25%      571.0\n",
              "50%      571.0\n",
              "75%      571.0\n",
              "max      571.0\n",
              "Name: Country, dtype: float64"
            ]
          },
          "metadata": {
            "tags": []
          },
          "execution_count": 1192
        }
      ]
    },
    {
      "cell_type": "code",
      "metadata": {
        "id": "4-1GSBWnujC1",
        "colab": {
          "base_uri": "https://localhost:8080/"
        },
        "outputId": "4751f74f-689a-4604-e31f-59b05af69633"
      },
      "source": [
        "#Showing the features that contain NaN values.\n",
        "df.isnull().sum()        \n",
        "#We can see that only the Country_code feature contains NaN values."
      ],
      "execution_count": 1193,
      "outputs": [
        {
          "output_type": "execute_result",
          "data": {
            "text/plain": [
              "Date_reported          0\n",
              "Country_code         571\n",
              "Country                0\n",
              "WHO_region             0\n",
              "New_cases              0\n",
              "Cumulative_cases       0\n",
              "New_deaths             0\n",
              "Cumulative_deaths      0\n",
              "dtype: int64"
            ]
          },
          "metadata": {
            "tags": []
          },
          "execution_count": 1193
        }
      ]
    },
    {
      "cell_type": "code",
      "metadata": {
        "id": "08UyOoeoUeup"
      },
      "source": [
        "#Making sure all countries have the same number of observations.\n",
        "result=False\n",
        "l=df.iloc[:,2].value_counts().tolist()\n",
        "if len(l)>0:\n",
        "  result = all(elem == l[0] for elem in l)\n",
        "\n",
        "assert result    "
      ],
      "execution_count": 1194,
      "outputs": []
    },
    {
      "cell_type": "code",
      "metadata": {
        "id": "CX3E3kvuvSdk",
        "colab": {
          "base_uri": "https://localhost:8080/"
        },
        "outputId": "8a3ca4e4-f796-476d-82be-7cd88077a0ff"
      },
      "source": [
        "df[df.iloc[:,1].isnull()].iloc[:,2].value_counts()\n",
        "#Namibia is the only country without a country code."
      ],
      "execution_count": 1195,
      "outputs": [
        {
          "output_type": "execute_result",
          "data": {
            "text/plain": [
              "Namibia    571\n",
              "Name: Country, dtype: int64"
            ]
          },
          "metadata": {
            "tags": []
          },
          "execution_count": 1195
        }
      ]
    },
    {
      "cell_type": "code",
      "metadata": {
        "id": "HELz8rh7wSyz",
        "colab": {
          "base_uri": "https://localhost:8080/",
          "height": 49
        },
        "outputId": "fefc5a73-6469-4e6d-bc47-5359e8f4db9c"
      },
      "source": [
        "#Making sure NM is not used as a country code.\n",
        "df[df.iloc[:,1]=='NM']   "
      ],
      "execution_count": 1196,
      "outputs": [
        {
          "output_type": "execute_result",
          "data": {
            "text/html": [
              "<div>\n",
              "<style scoped>\n",
              "    .dataframe tbody tr th:only-of-type {\n",
              "        vertical-align: middle;\n",
              "    }\n",
              "\n",
              "    .dataframe tbody tr th {\n",
              "        vertical-align: top;\n",
              "    }\n",
              "\n",
              "    .dataframe thead th {\n",
              "        text-align: right;\n",
              "    }\n",
              "</style>\n",
              "<table border=\"1\" class=\"dataframe\">\n",
              "  <thead>\n",
              "    <tr style=\"text-align: right;\">\n",
              "      <th></th>\n",
              "      <th>Date_reported</th>\n",
              "      <th>Country_code</th>\n",
              "      <th>Country</th>\n",
              "      <th>WHO_region</th>\n",
              "      <th>New_cases</th>\n",
              "      <th>Cumulative_cases</th>\n",
              "      <th>New_deaths</th>\n",
              "      <th>Cumulative_deaths</th>\n",
              "    </tr>\n",
              "  </thead>\n",
              "  <tbody>\n",
              "  </tbody>\n",
              "</table>\n",
              "</div>"
            ],
            "text/plain": [
              "Empty DataFrame\n",
              "Columns: [Date_reported, Country_code, Country, WHO_region, New_cases, Cumulative_cases, New_deaths, Cumulative_deaths]\n",
              "Index: []"
            ]
          },
          "metadata": {
            "tags": []
          },
          "execution_count": 1196
        }
      ]
    },
    {
      "cell_type": "code",
      "metadata": {
        "id": "pPJhsxqzPkAu",
        "colab": {
          "base_uri": "https://localhost:8080/"
        },
        "outputId": "7e39d818-0f61-482c-94e0-cdc3e7c3480d"
      },
      "source": [
        "#Replacing NaN values in Namibia Country_code feature by 'NM'\n",
        "df.fillna('NM', inplace=True)\n",
        "df[df.iloc[:,2]=='Namibia'].iloc[:,1]"
      ],
      "execution_count": 1197,
      "outputs": [
        {
          "output_type": "execute_result",
          "data": {
            "text/plain": [
              "81653    NM\n",
              "81654    NM\n",
              "81655    NM\n",
              "81656    NM\n",
              "81657    NM\n",
              "         ..\n",
              "82219    NM\n",
              "82220    NM\n",
              "82221    NM\n",
              "82222    NM\n",
              "82223    NM\n",
              "Name: Country_code, Length: 571, dtype: object"
            ]
          },
          "metadata": {
            "tags": []
          },
          "execution_count": 1197
        }
      ]
    },
    {
      "cell_type": "code",
      "metadata": {
        "id": "u81aIz02wmHy",
        "colab": {
          "base_uri": "https://localhost:8080/"
        },
        "outputId": "36c95422-c82a-414c-c709-bf134a620206"
      },
      "source": [
        "#Counting the number of regions and countries where the observations were made.\n",
        "print(df.iloc[:,3].value_counts(),'\\n')\n",
        "print('Observations have been made on {0} regions and {1} countries.'.format(len(df.iloc[:,3].value_counts().index), len(df.iloc[:,2].value_counts().index)))\n",
        "countries=len(df.iloc[:,2].value_counts().index)\n",
        "obs=(len(df)//countries)\n",
        "print('Number of observations: {}'.format(obs))"
      ],
      "execution_count": 1198,
      "outputs": [
        {
          "output_type": "stream",
          "text": [
            "EURO     35402\n",
            "AMRO     31976\n",
            "AFRO     28550\n",
            "WPRO     19985\n",
            "EMRO     12562\n",
            "SEARO     6281\n",
            "Other      571\n",
            "Name: WHO_region, dtype: int64 \n",
            "\n",
            "Observations have been made on 7 regions and 237 countries.\n",
            "Number of observations: 571\n"
          ],
          "name": "stdout"
        }
      ]
    },
    {
      "cell_type": "code",
      "metadata": {
        "id": "woMUsL2hOi9M",
        "colab": {
          "base_uri": "https://localhost:8080/"
        },
        "outputId": "939a1ba3-6ed7-46b9-af08-dc76ca623cfc"
      },
      "source": [
        "#Making sure the is no more NaN values in the dataset.\n",
        "df.isnull().sum().sum()   "
      ],
      "execution_count": 1199,
      "outputs": [
        {
          "output_type": "execute_result",
          "data": {
            "text/plain": [
              "0"
            ]
          },
          "metadata": {
            "tags": []
          },
          "execution_count": 1199
        }
      ]
    },
    {
      "cell_type": "markdown",
      "metadata": {
        "id": "TMNfSwFkapRs"
      },
      "source": [
        "# 1: Creating COVID-19 Global prediction models"
      ]
    },
    {
      "cell_type": "markdown",
      "metadata": {
        "id": "IEj-O9Fja0wM"
      },
      "source": [
        "**Understanding data, preprocessing and Visualization**"
      ]
    },
    {
      "cell_type": "code",
      "metadata": {
        "id": "cMUcw0jcbJuL",
        "colab": {
          "base_uri": "https://localhost:8080/",
          "height": 204
        },
        "outputId": "44daf015-5cef-4706-e411-e36088a583fc"
      },
      "source": [
        "#Printing the first 5 rows of the dataset.\n",
        "df.head()"
      ],
      "execution_count": 1200,
      "outputs": [
        {
          "output_type": "execute_result",
          "data": {
            "text/html": [
              "<div>\n",
              "<style scoped>\n",
              "    .dataframe tbody tr th:only-of-type {\n",
              "        vertical-align: middle;\n",
              "    }\n",
              "\n",
              "    .dataframe tbody tr th {\n",
              "        vertical-align: top;\n",
              "    }\n",
              "\n",
              "    .dataframe thead th {\n",
              "        text-align: right;\n",
              "    }\n",
              "</style>\n",
              "<table border=\"1\" class=\"dataframe\">\n",
              "  <thead>\n",
              "    <tr style=\"text-align: right;\">\n",
              "      <th></th>\n",
              "      <th>Date_reported</th>\n",
              "      <th>Country_code</th>\n",
              "      <th>Country</th>\n",
              "      <th>WHO_region</th>\n",
              "      <th>New_cases</th>\n",
              "      <th>Cumulative_cases</th>\n",
              "      <th>New_deaths</th>\n",
              "      <th>Cumulative_deaths</th>\n",
              "    </tr>\n",
              "  </thead>\n",
              "  <tbody>\n",
              "    <tr>\n",
              "      <th>0</th>\n",
              "      <td>2020-01-03</td>\n",
              "      <td>AF</td>\n",
              "      <td>Afghanistan</td>\n",
              "      <td>EMRO</td>\n",
              "      <td>0</td>\n",
              "      <td>0</td>\n",
              "      <td>0</td>\n",
              "      <td>0</td>\n",
              "    </tr>\n",
              "    <tr>\n",
              "      <th>1</th>\n",
              "      <td>2020-01-04</td>\n",
              "      <td>AF</td>\n",
              "      <td>Afghanistan</td>\n",
              "      <td>EMRO</td>\n",
              "      <td>0</td>\n",
              "      <td>0</td>\n",
              "      <td>0</td>\n",
              "      <td>0</td>\n",
              "    </tr>\n",
              "    <tr>\n",
              "      <th>2</th>\n",
              "      <td>2020-01-05</td>\n",
              "      <td>AF</td>\n",
              "      <td>Afghanistan</td>\n",
              "      <td>EMRO</td>\n",
              "      <td>0</td>\n",
              "      <td>0</td>\n",
              "      <td>0</td>\n",
              "      <td>0</td>\n",
              "    </tr>\n",
              "    <tr>\n",
              "      <th>3</th>\n",
              "      <td>2020-01-06</td>\n",
              "      <td>AF</td>\n",
              "      <td>Afghanistan</td>\n",
              "      <td>EMRO</td>\n",
              "      <td>0</td>\n",
              "      <td>0</td>\n",
              "      <td>0</td>\n",
              "      <td>0</td>\n",
              "    </tr>\n",
              "    <tr>\n",
              "      <th>4</th>\n",
              "      <td>2020-01-07</td>\n",
              "      <td>AF</td>\n",
              "      <td>Afghanistan</td>\n",
              "      <td>EMRO</td>\n",
              "      <td>0</td>\n",
              "      <td>0</td>\n",
              "      <td>0</td>\n",
              "      <td>0</td>\n",
              "    </tr>\n",
              "  </tbody>\n",
              "</table>\n",
              "</div>"
            ],
            "text/plain": [
              "  Date_reported Country_code  ... New_deaths Cumulative_deaths\n",
              "0    2020-01-03           AF  ...          0                 0\n",
              "1    2020-01-04           AF  ...          0                 0\n",
              "2    2020-01-05           AF  ...          0                 0\n",
              "3    2020-01-06           AF  ...          0                 0\n",
              "4    2020-01-07           AF  ...          0                 0\n",
              "\n",
              "[5 rows x 8 columns]"
            ]
          },
          "metadata": {
            "tags": []
          },
          "execution_count": 1200
        }
      ]
    },
    {
      "cell_type": "code",
      "metadata": {
        "id": "clRNi0P8l6lH"
      },
      "source": [
        "#creating a data frame called 'df_nc' to store New_cases feature evolution.\n",
        "df_nc=df.iloc[:, [4,0]]"
      ],
      "execution_count": 1201,
      "outputs": []
    },
    {
      "cell_type": "code",
      "metadata": {
        "id": "tr62M1KOmCqa",
        "colab": {
          "base_uri": "https://localhost:8080/",
          "height": 204
        },
        "outputId": "d485bef5-6435-4b33-f5a0-30341bfd9788"
      },
      "source": [
        "#Printing the first 5 rows of 'df_nc'\n",
        "df_nc.head()"
      ],
      "execution_count": 1202,
      "outputs": [
        {
          "output_type": "execute_result",
          "data": {
            "text/html": [
              "<div>\n",
              "<style scoped>\n",
              "    .dataframe tbody tr th:only-of-type {\n",
              "        vertical-align: middle;\n",
              "    }\n",
              "\n",
              "    .dataframe tbody tr th {\n",
              "        vertical-align: top;\n",
              "    }\n",
              "\n",
              "    .dataframe thead th {\n",
              "        text-align: right;\n",
              "    }\n",
              "</style>\n",
              "<table border=\"1\" class=\"dataframe\">\n",
              "  <thead>\n",
              "    <tr style=\"text-align: right;\">\n",
              "      <th></th>\n",
              "      <th>New_cases</th>\n",
              "      <th>Date_reported</th>\n",
              "    </tr>\n",
              "  </thead>\n",
              "  <tbody>\n",
              "    <tr>\n",
              "      <th>0</th>\n",
              "      <td>0</td>\n",
              "      <td>2020-01-03</td>\n",
              "    </tr>\n",
              "    <tr>\n",
              "      <th>1</th>\n",
              "      <td>0</td>\n",
              "      <td>2020-01-04</td>\n",
              "    </tr>\n",
              "    <tr>\n",
              "      <th>2</th>\n",
              "      <td>0</td>\n",
              "      <td>2020-01-05</td>\n",
              "    </tr>\n",
              "    <tr>\n",
              "      <th>3</th>\n",
              "      <td>0</td>\n",
              "      <td>2020-01-06</td>\n",
              "    </tr>\n",
              "    <tr>\n",
              "      <th>4</th>\n",
              "      <td>0</td>\n",
              "      <td>2020-01-07</td>\n",
              "    </tr>\n",
              "  </tbody>\n",
              "</table>\n",
              "</div>"
            ],
            "text/plain": [
              "   New_cases Date_reported\n",
              "0          0    2020-01-03\n",
              "1          0    2020-01-04\n",
              "2          0    2020-01-05\n",
              "3          0    2020-01-06\n",
              "4          0    2020-01-07"
            ]
          },
          "metadata": {
            "tags": []
          },
          "execution_count": 1202
        }
      ]
    },
    {
      "cell_type": "code",
      "metadata": {
        "id": "TkA6SH_Ap34i",
        "colab": {
          "base_uri": "https://localhost:8080/",
          "height": 297
        },
        "outputId": "e38e2492-87c6-421f-96fe-9c44a6346bdc"
      },
      "source": [
        "#Getting a description of 'df_nc'.\n",
        "df_nc.describe()"
      ],
      "execution_count": 1203,
      "outputs": [
        {
          "output_type": "execute_result",
          "data": {
            "text/html": [
              "<div>\n",
              "<style scoped>\n",
              "    .dataframe tbody tr th:only-of-type {\n",
              "        vertical-align: middle;\n",
              "    }\n",
              "\n",
              "    .dataframe tbody tr th {\n",
              "        vertical-align: top;\n",
              "    }\n",
              "\n",
              "    .dataframe thead th {\n",
              "        text-align: right;\n",
              "    }\n",
              "</style>\n",
              "<table border=\"1\" class=\"dataframe\">\n",
              "  <thead>\n",
              "    <tr style=\"text-align: right;\">\n",
              "      <th></th>\n",
              "      <th>New_cases</th>\n",
              "    </tr>\n",
              "  </thead>\n",
              "  <tbody>\n",
              "    <tr>\n",
              "      <th>count</th>\n",
              "      <td>135327.000000</td>\n",
              "    </tr>\n",
              "    <tr>\n",
              "      <th>mean</th>\n",
              "      <td>1434.155926</td>\n",
              "    </tr>\n",
              "    <tr>\n",
              "      <th>std</th>\n",
              "      <td>9453.335294</td>\n",
              "    </tr>\n",
              "    <tr>\n",
              "      <th>min</th>\n",
              "      <td>-32952.000000</td>\n",
              "    </tr>\n",
              "    <tr>\n",
              "      <th>25%</th>\n",
              "      <td>0.000000</td>\n",
              "    </tr>\n",
              "    <tr>\n",
              "      <th>50%</th>\n",
              "      <td>9.000000</td>\n",
              "    </tr>\n",
              "    <tr>\n",
              "      <th>75%</th>\n",
              "      <td>311.000000</td>\n",
              "    </tr>\n",
              "    <tr>\n",
              "      <th>max</th>\n",
              "      <td>414188.000000</td>\n",
              "    </tr>\n",
              "  </tbody>\n",
              "</table>\n",
              "</div>"
            ],
            "text/plain": [
              "           New_cases\n",
              "count  135327.000000\n",
              "mean     1434.155926\n",
              "std      9453.335294\n",
              "min    -32952.000000\n",
              "25%         0.000000\n",
              "50%         9.000000\n",
              "75%       311.000000\n",
              "max    414188.000000"
            ]
          },
          "metadata": {
            "tags": []
          },
          "execution_count": 1203
        }
      ]
    },
    {
      "cell_type": "code",
      "metadata": {
        "id": "f3Fm-WsRnQil"
      },
      "source": [
        "#creating a data frame called 'df_cc' to store Cumulative_cases feature evolution.\n",
        "df_cc=df.iloc[:, [5,0]]"
      ],
      "execution_count": 1204,
      "outputs": []
    },
    {
      "cell_type": "code",
      "metadata": {
        "id": "hfRGuY6qnV27",
        "colab": {
          "base_uri": "https://localhost:8080/",
          "height": 204
        },
        "outputId": "656c7d71-7cbf-4650-b598-c9188daff04e"
      },
      "source": [
        "#Printing the first 5 rows of 'df_cc'\n",
        "df_cc.head()"
      ],
      "execution_count": 1205,
      "outputs": [
        {
          "output_type": "execute_result",
          "data": {
            "text/html": [
              "<div>\n",
              "<style scoped>\n",
              "    .dataframe tbody tr th:only-of-type {\n",
              "        vertical-align: middle;\n",
              "    }\n",
              "\n",
              "    .dataframe tbody tr th {\n",
              "        vertical-align: top;\n",
              "    }\n",
              "\n",
              "    .dataframe thead th {\n",
              "        text-align: right;\n",
              "    }\n",
              "</style>\n",
              "<table border=\"1\" class=\"dataframe\">\n",
              "  <thead>\n",
              "    <tr style=\"text-align: right;\">\n",
              "      <th></th>\n",
              "      <th>Cumulative_cases</th>\n",
              "      <th>Date_reported</th>\n",
              "    </tr>\n",
              "  </thead>\n",
              "  <tbody>\n",
              "    <tr>\n",
              "      <th>0</th>\n",
              "      <td>0</td>\n",
              "      <td>2020-01-03</td>\n",
              "    </tr>\n",
              "    <tr>\n",
              "      <th>1</th>\n",
              "      <td>0</td>\n",
              "      <td>2020-01-04</td>\n",
              "    </tr>\n",
              "    <tr>\n",
              "      <th>2</th>\n",
              "      <td>0</td>\n",
              "      <td>2020-01-05</td>\n",
              "    </tr>\n",
              "    <tr>\n",
              "      <th>3</th>\n",
              "      <td>0</td>\n",
              "      <td>2020-01-06</td>\n",
              "    </tr>\n",
              "    <tr>\n",
              "      <th>4</th>\n",
              "      <td>0</td>\n",
              "      <td>2020-01-07</td>\n",
              "    </tr>\n",
              "  </tbody>\n",
              "</table>\n",
              "</div>"
            ],
            "text/plain": [
              "   Cumulative_cases Date_reported\n",
              "0                 0    2020-01-03\n",
              "1                 0    2020-01-04\n",
              "2                 0    2020-01-05\n",
              "3                 0    2020-01-06\n",
              "4                 0    2020-01-07"
            ]
          },
          "metadata": {
            "tags": []
          },
          "execution_count": 1205
        }
      ]
    },
    {
      "cell_type": "code",
      "metadata": {
        "id": "VVF8ncYtqCs7",
        "colab": {
          "base_uri": "https://localhost:8080/",
          "height": 297
        },
        "outputId": "29dd6a24-8075-497e-9d85-0fef887450f4"
      },
      "source": [
        "#Getting a description of 'df_cc'.\n",
        "df_cc.describe()"
      ],
      "execution_count": 1206,
      "outputs": [
        {
          "output_type": "execute_result",
          "data": {
            "text/html": [
              "<div>\n",
              "<style scoped>\n",
              "    .dataframe tbody tr th:only-of-type {\n",
              "        vertical-align: middle;\n",
              "    }\n",
              "\n",
              "    .dataframe tbody tr th {\n",
              "        vertical-align: top;\n",
              "    }\n",
              "\n",
              "    .dataframe thead th {\n",
              "        text-align: right;\n",
              "    }\n",
              "</style>\n",
              "<table border=\"1\" class=\"dataframe\">\n",
              "  <thead>\n",
              "    <tr style=\"text-align: right;\">\n",
              "      <th></th>\n",
              "      <th>Cumulative_cases</th>\n",
              "    </tr>\n",
              "  </thead>\n",
              "  <tbody>\n",
              "    <tr>\n",
              "      <th>count</th>\n",
              "      <td>1.353270e+05</td>\n",
              "    </tr>\n",
              "    <tr>\n",
              "      <th>mean</th>\n",
              "      <td>2.703228e+05</td>\n",
              "    </tr>\n",
              "    <tr>\n",
              "      <th>std</th>\n",
              "      <td>1.665163e+06</td>\n",
              "    </tr>\n",
              "    <tr>\n",
              "      <th>min</th>\n",
              "      <td>0.000000e+00</td>\n",
              "    </tr>\n",
              "    <tr>\n",
              "      <th>25%</th>\n",
              "      <td>2.400000e+01</td>\n",
              "    </tr>\n",
              "    <tr>\n",
              "      <th>50%</th>\n",
              "      <td>3.080000e+03</td>\n",
              "    </tr>\n",
              "    <tr>\n",
              "      <th>75%</th>\n",
              "      <td>5.801950e+04</td>\n",
              "    </tr>\n",
              "    <tr>\n",
              "      <th>max</th>\n",
              "      <td>3.422349e+07</td>\n",
              "    </tr>\n",
              "  </tbody>\n",
              "</table>\n",
              "</div>"
            ],
            "text/plain": [
              "       Cumulative_cases\n",
              "count      1.353270e+05\n",
              "mean       2.703228e+05\n",
              "std        1.665163e+06\n",
              "min        0.000000e+00\n",
              "25%        2.400000e+01\n",
              "50%        3.080000e+03\n",
              "75%        5.801950e+04\n",
              "max        3.422349e+07"
            ]
          },
          "metadata": {
            "tags": []
          },
          "execution_count": 1206
        }
      ]
    },
    {
      "cell_type": "code",
      "metadata": {
        "id": "6DHHCyzTmPeV"
      },
      "source": [
        "#creating a data frame called 'df_nd' to store New_deaths feature evolution.\n",
        "df_nd=df.iloc[:, [6,0]]"
      ],
      "execution_count": 1207,
      "outputs": []
    },
    {
      "cell_type": "code",
      "metadata": {
        "id": "Ng9bE4x9oslp",
        "colab": {
          "base_uri": "https://localhost:8080/",
          "height": 204
        },
        "outputId": "fc6940a9-6356-408b-f777-174cb8c369b2"
      },
      "source": [
        "#Printing the first 5 rows of 'df_nd'\n",
        "df_nd.head()"
      ],
      "execution_count": 1208,
      "outputs": [
        {
          "output_type": "execute_result",
          "data": {
            "text/html": [
              "<div>\n",
              "<style scoped>\n",
              "    .dataframe tbody tr th:only-of-type {\n",
              "        vertical-align: middle;\n",
              "    }\n",
              "\n",
              "    .dataframe tbody tr th {\n",
              "        vertical-align: top;\n",
              "    }\n",
              "\n",
              "    .dataframe thead th {\n",
              "        text-align: right;\n",
              "    }\n",
              "</style>\n",
              "<table border=\"1\" class=\"dataframe\">\n",
              "  <thead>\n",
              "    <tr style=\"text-align: right;\">\n",
              "      <th></th>\n",
              "      <th>New_deaths</th>\n",
              "      <th>Date_reported</th>\n",
              "    </tr>\n",
              "  </thead>\n",
              "  <tbody>\n",
              "    <tr>\n",
              "      <th>0</th>\n",
              "      <td>0</td>\n",
              "      <td>2020-01-03</td>\n",
              "    </tr>\n",
              "    <tr>\n",
              "      <th>1</th>\n",
              "      <td>0</td>\n",
              "      <td>2020-01-04</td>\n",
              "    </tr>\n",
              "    <tr>\n",
              "      <th>2</th>\n",
              "      <td>0</td>\n",
              "      <td>2020-01-05</td>\n",
              "    </tr>\n",
              "    <tr>\n",
              "      <th>3</th>\n",
              "      <td>0</td>\n",
              "      <td>2020-01-06</td>\n",
              "    </tr>\n",
              "    <tr>\n",
              "      <th>4</th>\n",
              "      <td>0</td>\n",
              "      <td>2020-01-07</td>\n",
              "    </tr>\n",
              "  </tbody>\n",
              "</table>\n",
              "</div>"
            ],
            "text/plain": [
              "   New_deaths Date_reported\n",
              "0           0    2020-01-03\n",
              "1           0    2020-01-04\n",
              "2           0    2020-01-05\n",
              "3           0    2020-01-06\n",
              "4           0    2020-01-07"
            ]
          },
          "metadata": {
            "tags": []
          },
          "execution_count": 1208
        }
      ]
    },
    {
      "cell_type": "code",
      "metadata": {
        "id": "KhIToW3TqN9B",
        "colab": {
          "base_uri": "https://localhost:8080/",
          "height": 297
        },
        "outputId": "0144e0c3-b064-4235-ab3a-b778028e0ef6"
      },
      "source": [
        "#Getting a description of 'df_nd'.\n",
        "df_nd.describe()"
      ],
      "execution_count": 1209,
      "outputs": [
        {
          "output_type": "execute_result",
          "data": {
            "text/html": [
              "<div>\n",
              "<style scoped>\n",
              "    .dataframe tbody tr th:only-of-type {\n",
              "        vertical-align: middle;\n",
              "    }\n",
              "\n",
              "    .dataframe tbody tr th {\n",
              "        vertical-align: top;\n",
              "    }\n",
              "\n",
              "    .dataframe thead th {\n",
              "        text-align: right;\n",
              "    }\n",
              "</style>\n",
              "<table border=\"1\" class=\"dataframe\">\n",
              "  <thead>\n",
              "    <tr style=\"text-align: right;\">\n",
              "      <th></th>\n",
              "      <th>New_deaths</th>\n",
              "    </tr>\n",
              "  </thead>\n",
              "  <tbody>\n",
              "    <tr>\n",
              "      <th>count</th>\n",
              "      <td>135327.000000</td>\n",
              "    </tr>\n",
              "    <tr>\n",
              "      <th>mean</th>\n",
              "      <td>30.757380</td>\n",
              "    </tr>\n",
              "    <tr>\n",
              "      <th>std</th>\n",
              "      <td>171.900704</td>\n",
              "    </tr>\n",
              "    <tr>\n",
              "      <th>min</th>\n",
              "      <td>-60.000000</td>\n",
              "    </tr>\n",
              "    <tr>\n",
              "      <th>25%</th>\n",
              "      <td>0.000000</td>\n",
              "    </tr>\n",
              "    <tr>\n",
              "      <th>50%</th>\n",
              "      <td>0.000000</td>\n",
              "    </tr>\n",
              "    <tr>\n",
              "      <th>75%</th>\n",
              "      <td>5.000000</td>\n",
              "    </tr>\n",
              "    <tr>\n",
              "      <th>max</th>\n",
              "      <td>8786.000000</td>\n",
              "    </tr>\n",
              "  </tbody>\n",
              "</table>\n",
              "</div>"
            ],
            "text/plain": [
              "          New_deaths\n",
              "count  135327.000000\n",
              "mean       30.757380\n",
              "std       171.900704\n",
              "min       -60.000000\n",
              "25%         0.000000\n",
              "50%         0.000000\n",
              "75%         5.000000\n",
              "max      8786.000000"
            ]
          },
          "metadata": {
            "tags": []
          },
          "execution_count": 1209
        }
      ]
    },
    {
      "cell_type": "code",
      "metadata": {
        "id": "CUX4lpg7oxbc"
      },
      "source": [
        "#creating a data frame called 'df_cd' to store Cumulative_deaths feature evolution.\n",
        "df_cd=df.iloc[:, [7,0]]"
      ],
      "execution_count": 1210,
      "outputs": []
    },
    {
      "cell_type": "code",
      "metadata": {
        "id": "GJLBrVuto06_",
        "colab": {
          "base_uri": "https://localhost:8080/",
          "height": 204
        },
        "outputId": "74d097ec-8c8d-4224-e338-6369f5621584"
      },
      "source": [
        "#Printing the first 5 rows of 'df_cd'\n",
        "df_cd.head()"
      ],
      "execution_count": 1211,
      "outputs": [
        {
          "output_type": "execute_result",
          "data": {
            "text/html": [
              "<div>\n",
              "<style scoped>\n",
              "    .dataframe tbody tr th:only-of-type {\n",
              "        vertical-align: middle;\n",
              "    }\n",
              "\n",
              "    .dataframe tbody tr th {\n",
              "        vertical-align: top;\n",
              "    }\n",
              "\n",
              "    .dataframe thead th {\n",
              "        text-align: right;\n",
              "    }\n",
              "</style>\n",
              "<table border=\"1\" class=\"dataframe\">\n",
              "  <thead>\n",
              "    <tr style=\"text-align: right;\">\n",
              "      <th></th>\n",
              "      <th>Cumulative_deaths</th>\n",
              "      <th>Date_reported</th>\n",
              "    </tr>\n",
              "  </thead>\n",
              "  <tbody>\n",
              "    <tr>\n",
              "      <th>0</th>\n",
              "      <td>0</td>\n",
              "      <td>2020-01-03</td>\n",
              "    </tr>\n",
              "    <tr>\n",
              "      <th>1</th>\n",
              "      <td>0</td>\n",
              "      <td>2020-01-04</td>\n",
              "    </tr>\n",
              "    <tr>\n",
              "      <th>2</th>\n",
              "      <td>0</td>\n",
              "      <td>2020-01-05</td>\n",
              "    </tr>\n",
              "    <tr>\n",
              "      <th>3</th>\n",
              "      <td>0</td>\n",
              "      <td>2020-01-06</td>\n",
              "    </tr>\n",
              "    <tr>\n",
              "      <th>4</th>\n",
              "      <td>0</td>\n",
              "      <td>2020-01-07</td>\n",
              "    </tr>\n",
              "  </tbody>\n",
              "</table>\n",
              "</div>"
            ],
            "text/plain": [
              "   Cumulative_deaths Date_reported\n",
              "0                  0    2020-01-03\n",
              "1                  0    2020-01-04\n",
              "2                  0    2020-01-05\n",
              "3                  0    2020-01-06\n",
              "4                  0    2020-01-07"
            ]
          },
          "metadata": {
            "tags": []
          },
          "execution_count": 1211
        }
      ]
    },
    {
      "cell_type": "code",
      "metadata": {
        "id": "-GpU3jKOqRuU",
        "colab": {
          "base_uri": "https://localhost:8080/",
          "height": 297
        },
        "outputId": "938318f4-d3d5-431e-a60e-52ad0197f709"
      },
      "source": [
        "#Getting a description of 'df_nd'.\n",
        "df_cd.describe()"
      ],
      "execution_count": 1212,
      "outputs": [
        {
          "output_type": "execute_result",
          "data": {
            "text/html": [
              "<div>\n",
              "<style scoped>\n",
              "    .dataframe tbody tr th:only-of-type {\n",
              "        vertical-align: middle;\n",
              "    }\n",
              "\n",
              "    .dataframe tbody tr th {\n",
              "        vertical-align: top;\n",
              "    }\n",
              "\n",
              "    .dataframe thead th {\n",
              "        text-align: right;\n",
              "    }\n",
              "</style>\n",
              "<table border=\"1\" class=\"dataframe\">\n",
              "  <thead>\n",
              "    <tr style=\"text-align: right;\">\n",
              "      <th></th>\n",
              "      <th>Cumulative_deaths</th>\n",
              "    </tr>\n",
              "  </thead>\n",
              "  <tbody>\n",
              "    <tr>\n",
              "      <th>count</th>\n",
              "      <td>135327.000000</td>\n",
              "    </tr>\n",
              "    <tr>\n",
              "      <th>mean</th>\n",
              "      <td>6435.238652</td>\n",
              "    </tr>\n",
              "    <tr>\n",
              "      <th>std</th>\n",
              "      <td>33413.271312</td>\n",
              "    </tr>\n",
              "    <tr>\n",
              "      <th>min</th>\n",
              "      <td>0.000000</td>\n",
              "    </tr>\n",
              "    <tr>\n",
              "      <th>25%</th>\n",
              "      <td>0.000000</td>\n",
              "    </tr>\n",
              "    <tr>\n",
              "      <th>50%</th>\n",
              "      <td>50.000000</td>\n",
              "    </tr>\n",
              "    <tr>\n",
              "      <th>75%</th>\n",
              "      <td>929.000000</td>\n",
              "    </tr>\n",
              "    <tr>\n",
              "      <th>max</th>\n",
              "      <td>605656.000000</td>\n",
              "    </tr>\n",
              "  </tbody>\n",
              "</table>\n",
              "</div>"
            ],
            "text/plain": [
              "       Cumulative_deaths\n",
              "count      135327.000000\n",
              "mean         6435.238652\n",
              "std         33413.271312\n",
              "min             0.000000\n",
              "25%             0.000000\n",
              "50%            50.000000\n",
              "75%           929.000000\n",
              "max        605656.000000"
            ]
          },
          "metadata": {
            "tags": []
          },
          "execution_count": 1212
        }
      ]
    },
    {
      "cell_type": "code",
      "metadata": {
        "id": "weUDnkLsJ7Qu"
      },
      "source": [
        "#Writing a function that, given a data frame, gets the sum of cases or deaths of all countries, stores the information in a new data frame, and returns it. \n",
        "def sumCasesOrDeaths(df):\n",
        "  i=0\n",
        "  df1=df.iloc[i:i+obs,:]\n",
        "  i+=obs\n",
        "  for country in range(1,countries):\n",
        "    value=0\n",
        "    d={}\n",
        "    for key in range(i,i+obs):\n",
        "      d[key]=value\n",
        "      value+=1\n",
        "    df1=df1+(df.iloc[i:i+obs,:].rename(index=d))\n",
        "    i+=obs\n",
        "  return df1  "
      ],
      "execution_count": 1213,
      "outputs": []
    },
    {
      "cell_type": "code",
      "metadata": {
        "id": "iTSthQlPYu26"
      },
      "source": [
        "#Creating the new 'df_nc' dataframe using the sumCasesOrDeaths function.\n",
        "df_nc1=sumCasesOrDeaths(df_nc)\n",
        "df_nc1=df_nc1.drop('Date_reported', axis = 1)\n",
        "df_nc1['day_index']=[i for i in range(1,obs+1)]"
      ],
      "execution_count": 1214,
      "outputs": []
    },
    {
      "cell_type": "code",
      "metadata": {
        "id": "GqCpISq-Y9Yp",
        "colab": {
          "base_uri": "https://localhost:8080/"
        },
        "outputId": "b9483ca4-8045-4762-c096-f81c780036ce"
      },
      "source": [
        "print(df_nc1)"
      ],
      "execution_count": 1215,
      "outputs": [
        {
          "output_type": "stream",
          "text": [
            "     New_cases  day_index\n",
            "0            0          1\n",
            "1            1          2\n",
            "2            0          3\n",
            "3            3          4\n",
            "4            0          5\n",
            "..         ...        ...\n",
            "566     696875        567\n",
            "567     556946        568\n",
            "568     544714        569\n",
            "569     586079        570\n",
            "570     422294        571\n",
            "\n",
            "[571 rows x 2 columns]\n"
          ],
          "name": "stdout"
        }
      ]
    },
    {
      "cell_type": "code",
      "metadata": {
        "id": "uwZvLcuXcZhX"
      },
      "source": [
        "#Creating the new 'df_cc' dataframe using the sumCasesOrDeaths function.\n",
        "df_cc1=sumCasesOrDeaths(df_cc)\n",
        "df_cc1=df_cc1.drop('Date_reported', axis = 1)\n",
        "df_cc1['day_index']=[i for i in range(1,obs+1)]"
      ],
      "execution_count": 1216,
      "outputs": []
    },
    {
      "cell_type": "code",
      "metadata": {
        "id": "apYyLJB7cZop",
        "colab": {
          "base_uri": "https://localhost:8080/"
        },
        "outputId": "effdd464-edf0-4097-cee4-765bf78854fa"
      },
      "source": [
        "print(df_cc1)"
      ],
      "execution_count": 1217,
      "outputs": [
        {
          "output_type": "stream",
          "text": [
            "     Cumulative_cases  day_index\n",
            "0                   0          1\n",
            "1                   1          2\n",
            "2                   1          3\n",
            "3                   4          4\n",
            "4                   4          5\n",
            "..                ...        ...\n",
            "566         191969986        567\n",
            "567         192526932        568\n",
            "568         193071646        569\n",
            "569         193657725        570\n",
            "570         194080019        571\n",
            "\n",
            "[571 rows x 2 columns]\n"
          ],
          "name": "stdout"
        }
      ]
    },
    {
      "cell_type": "code",
      "metadata": {
        "id": "ff99ALTRcZvW"
      },
      "source": [
        "#Creating the new 'df_nd' dataframe using the sumCasesOrDeaths function.\n",
        "df_nd1=sumCasesOrDeaths(df_nd)\n",
        "df_nd1=df_nd1.drop('Date_reported', axis = 1)\n",
        "df_nd1['day_index']=[i for i in range(1,obs+1)]"
      ],
      "execution_count": 1218,
      "outputs": []
    },
    {
      "cell_type": "code",
      "metadata": {
        "id": "mThWiY_scZ2F",
        "colab": {
          "base_uri": "https://localhost:8080/"
        },
        "outputId": "497b3b8c-21f8-4489-c40e-85f70fb7075c"
      },
      "source": [
        "print(df_nd1)"
      ],
      "execution_count": 1219,
      "outputs": [
        {
          "output_type": "stream",
          "text": [
            "     New_deaths  day_index\n",
            "0             0          1\n",
            "1             0          2\n",
            "2             0          3\n",
            "3             0          4\n",
            "4             0          5\n",
            "..          ...        ...\n",
            "566        8708        567\n",
            "567        9024        568\n",
            "568        8826        569\n",
            "569        8662        570\n",
            "570        7644        571\n",
            "\n",
            "[571 rows x 2 columns]\n"
          ],
          "name": "stdout"
        }
      ]
    },
    {
      "cell_type": "code",
      "metadata": {
        "id": "KbxaZ3m-cZ8m"
      },
      "source": [
        "#Creating the new 'df_cd' dataframe using the sumCasesOrDeaths function.\n",
        "df_cd1=sumCasesOrDeaths(df_cd)\n",
        "df_cd1=df_cd1.drop('Date_reported', axis = 1)\n",
        "df_cd1['day_index']=[i for i in range(1,obs+1)]"
      ],
      "execution_count": 1220,
      "outputs": []
    },
    {
      "cell_type": "code",
      "metadata": {
        "id": "oYqrcoDKcaCr",
        "colab": {
          "base_uri": "https://localhost:8080/"
        },
        "outputId": "84dcf5cf-bd4a-4e4a-85f8-62e495579213"
      },
      "source": [
        "print(df_cd1)"
      ],
      "execution_count": 1221,
      "outputs": [
        {
          "output_type": "stream",
          "text": [
            "     Cumulative_deaths  day_index\n",
            "0                    0          1\n",
            "1                    0          2\n",
            "2                    0          3\n",
            "3                    0          4\n",
            "4                    0          5\n",
            "..                 ...        ...\n",
            "566            4128148        567\n",
            "567            4137172        568\n",
            "568            4145998        569\n",
            "569            4154660        570\n",
            "570            4162304        571\n",
            "\n",
            "[571 rows x 2 columns]\n"
          ],
          "name": "stdout"
        }
      ]
    },
    {
      "cell_type": "code",
      "metadata": {
        "id": "kP0aw9vofPsU",
        "colab": {
          "base_uri": "https://localhost:8080/",
          "height": 437
        },
        "outputId": "484cbe80-40a4-4c15-c527-8405fa951d54"
      },
      "source": [
        "#Plotting New_cases and New_deaths\n",
        "fig1=plt.figure()\n",
        "ax1=fig1.add_axes([0,0,1,1])\n",
        "ax2=fig1.add_axes([0,0,1,1])\n",
        "ax1.plot(df_nc1['day_index'],df_nc1.iloc[:,0],label='new cases')\n",
        "ax2.plot(df_nd1['day_index'],df_nd1.iloc[:,0],label='new deaths')\n",
        "plt.title('New cases and new deaths (Global)')\n",
        "plt.xlabel('Days after first case')\n",
        "plt.ylabel('Case/Death')\n",
        "ax1.legend()\n",
        "ax2.legend()"
      ],
      "execution_count": 1222,
      "outputs": [
        {
          "output_type": "stream",
          "text": [
            "/usr/local/lib/python3.7/dist-packages/ipykernel_launcher.py:4: MatplotlibDeprecationWarning: Adding an axes using the same arguments as a previous axes currently reuses the earlier instance.  In a future version, a new instance will always be created and returned.  Meanwhile, this warning can be suppressed, and the future behavior ensured, by passing a unique label to each axes instance.\n",
            "  after removing the cwd from sys.path.\n"
          ],
          "name": "stderr"
        },
        {
          "output_type": "execute_result",
          "data": {
            "text/plain": [
              "<matplotlib.legend.Legend at 0x7f170ca13ed0>"
            ]
          },
          "metadata": {
            "tags": []
          },
          "execution_count": 1222
        },
        {
          "output_type": "display_data",
          "data": {
            "image/png": "[encoded data removed]",
            "text/plain": [
              "<Figure size 432x288 with 1 Axes>"
            ]
          },
          "metadata": {
            "tags": [],
            "needs_background": "light"
          }
        }
      ]
    },
    {
      "cell_type": "code",
      "metadata": {
        "id": "Ibsu_LqOhGbQ",
        "colab": {
          "base_uri": "https://localhost:8080/",
          "height": 437
        },
        "outputId": "d796039f-db7f-4a95-9855-28c49117011b"
      },
      "source": [
        "#Plotting Cumulative_cases and Cumulative_deaths\n",
        "fig2=plt.figure()\n",
        "ax3=fig2.add_axes([0,0,1,1])\n",
        "ax4=fig2.add_axes([0,0,1,1])\n",
        "ax3.plot(df_cc1['day_index'],df_cc1.iloc[:,0],label='cumulative cases')\n",
        "ax4.plot(df_cd1['day_index'],df_cd1.iloc[:,0],label='cumulative deaths')\n",
        "plt.title('Cumulative cases and cumulative deaths (Global)')\n",
        "plt.xlabel('Days after first case')\n",
        "plt.ylabel('Case/Death')\n",
        "ax3.legend()\n",
        "ax4.legend()"
      ],
      "execution_count": 1223,
      "outputs": [
        {
          "output_type": "stream",
          "text": [
            "/usr/local/lib/python3.7/dist-packages/ipykernel_launcher.py:4: MatplotlibDeprecationWarning: Adding an axes using the same arguments as a previous axes currently reuses the earlier instance.  In a future version, a new instance will always be created and returned.  Meanwhile, this warning can be suppressed, and the future behavior ensured, by passing a unique label to each axes instance.\n",
            "  after removing the cwd from sys.path.\n"
          ],
          "name": "stderr"
        },
        {
          "output_type": "execute_result",
          "data": {
            "text/plain": [
              "<matplotlib.legend.Legend at 0x7f170ca03490>"
            ]
          },
          "metadata": {
            "tags": []
          },
          "execution_count": 1223
        },
        {
          "output_type": "display_data",
          "data": {
            "image/png": "[encoded data removed]",
            "text/plain": [
              "<Figure size 432x288 with 1 Axes>"
            ]
          },
          "metadata": {
            "tags": [],
            "needs_background": "light"
          }
        }
      ]
    },
    {
      "cell_type": "markdown",
      "metadata": {
        "id": "WlVd_qAMpJmy"
      },
      "source": [
        "**Choosing the right algorithm:**\n",
        "According to the graphs, there is a polynomial relationship between day_index feature and the targets: New_cases, New_deaths, Cumulative_cases and Cumulative_deaths."
      ]
    },
    {
      "cell_type": "markdown",
      "metadata": {
        "id": "gx7Hnof5sDfj"
      },
      "source": [
        "**Modeling:**"
      ]
    },
    {
      "cell_type": "markdown",
      "metadata": {
        "id": "7Q2AtN1rnzVo"
      },
      "source": [
        "*new cases*"
      ]
    },
    {
      "cell_type": "code",
      "metadata": {
        "id": "6DjNdM_ks-1U"
      },
      "source": [
        "#choosing the target and the feature\n",
        "x_nc=df_nc1.iloc[:,[1]].values\n",
        "y_nc=df_nc1.iloc[:,[0]].values"
      ],
      "execution_count": 1224,
      "outputs": []
    },
    {
      "cell_type": "code",
      "metadata": {
        "id": "ycn266p1wkOc"
      },
      "source": [
        "#splitting the data\n",
        "x_train_nc,x_test_nc,y_train_nc,y_test_nc=train_test_split(x_nc,y_nc,test_size=0.30,random_state=40)"
      ],
      "execution_count": 1225,
      "outputs": []
    },
    {
      "cell_type": "code",
      "metadata": {
        "id": "4PqR_8pYxrl8"
      },
      "source": [
        "#fitting the feature\n",
        "poly_nc=PolynomialFeatures(degree=6)\n",
        "\n",
        "x_train_nc_fit=poly_nc.fit_transform(x_train_nc)\n",
        "x_test_nc_fit=poly_nc.fit_transform(x_test_nc)"
      ],
      "execution_count": 1226,
      "outputs": []
    },
    {
      "cell_type": "code",
      "metadata": {
        "id": "-xuKmgCyo3u5",
        "colab": {
          "base_uri": "https://localhost:8080/"
        },
        "outputId": "2b9f2c65-1594-446f-e42e-a3142e66e47a"
      },
      "source": [
        "#creating the regression model\n",
        "model_nc=LinearRegression()\n",
        "model_nc.fit(x_train_nc_fit, y_train_nc)\n",
        "\n",
        "print('score:')\n",
        "model_nc.score(x_test_nc_fit, y_test_nc)"
      ],
      "execution_count": 1227,
      "outputs": [
        {
          "output_type": "stream",
          "text": [
            "score:\n"
          ],
          "name": "stdout"
        },
        {
          "output_type": "execute_result",
          "data": {
            "text/plain": [
              "0.8040259915093139"
            ]
          },
          "metadata": {
            "tags": []
          },
          "execution_count": 1227
        }
      ]
    },
    {
      "cell_type": "code",
      "metadata": {
        "id": "8MOEyai3trA5",
        "colab": {
          "base_uri": "https://localhost:8080/"
        },
        "outputId": "a4d316c3-696f-4597-c09e-b87465398ece"
      },
      "source": [
        "#calculating metrics\n",
        "pred_nc=model_nc.predict(x_test_nc_fit)\n",
        "print(\"MSE:\", mean_squared_error(y_test_nc,pred_nc))\n",
        "print(\"R2:\", r2_score(y_test_nc,pred_nc))"
      ],
      "execution_count": 1228,
      "outputs": [
        {
          "output_type": "stream",
          "text": [
            "MSE: 12298336902.310383\n",
            "R2: 0.8040259915093139\n"
          ],
          "name": "stdout"
        }
      ]
    },
    {
      "cell_type": "code",
      "metadata": {
        "id": "bcjJVdW6p2JU",
        "colab": {
          "base_uri": "https://localhost:8080/",
          "height": 312
        },
        "outputId": "5a1789b7-617a-4408-97f0-df0c2ba9ba62"
      },
      "source": [
        "#plotting the model\n",
        "fig3=plt.figure()\n",
        "plt.scatter(x_nc,y_nc)\n",
        "plt.title(\"Actual and predicted new cases (Glabal)\")\n",
        "plt.xlabel(\"Day after first observation\")\n",
        "plt.ylabel(\"New case\")\n",
        "plt.plot(x_nc, model_nc.predict(poly_nc.fit_transform(x_nc)), color=\"r\")"
      ],
      "execution_count": 1229,
      "outputs": [
        {
          "output_type": "execute_result",
          "data": {
            "text/plain": [
              "[<matplotlib.lines.Line2D at 0x7f170c935b50>]"
            ]
          },
          "metadata": {
            "tags": []
          },
          "execution_count": 1229
        },
        {
          "output_type": "display_data",
          "data": {
            "image/png": "[encoded data removed]",
            "text/plain": [
              "<Figure size 432x288 with 1 Axes>"
            ]
          },
          "metadata": {
            "tags": [],
            "needs_background": "light"
          }
        }
      ]
    },
    {
      "cell_type": "markdown",
      "metadata": {
        "id": "oViNM1PEs9ha"
      },
      "source": [
        "*Cumulative cases*"
      ]
    },
    {
      "cell_type": "code",
      "metadata": {
        "id": "spuxty5OtBK0"
      },
      "source": [
        "#choosing the target and the feature\n",
        "x_cc=df_cc1.iloc[:,[1]].values\n",
        "y_cc=df_cc1.iloc[:,[0]].values"
      ],
      "execution_count": 1230,
      "outputs": []
    },
    {
      "cell_type": "code",
      "metadata": {
        "id": "fwP1z1wztKaE"
      },
      "source": [
        "#splitting the data\n",
        "x_train_cc,x_test_cc,y_train_cc,y_test_cc=train_test_split(x_cc,y_cc,test_size=0.30,random_state=40)"
      ],
      "execution_count": 1231,
      "outputs": []
    },
    {
      "cell_type": "code",
      "metadata": {
        "id": "62h1Js1RtVRE"
      },
      "source": [
        "#fitting the feature\n",
        "poly_cc=PolynomialFeatures(degree=2)\n",
        "\n",
        "x_train_cc_fit=poly_cc.fit_transform(x_train_cc)\n",
        "x_test_cc_fit=poly_cc.fit_transform(x_test_cc)"
      ],
      "execution_count": 1232,
      "outputs": []
    },
    {
      "cell_type": "code",
      "metadata": {
        "id": "qDnkMGk0tf8U",
        "colab": {
          "base_uri": "https://localhost:8080/"
        },
        "outputId": "b67ccc9e-1bcb-42a8-810d-aed0e15325ae"
      },
      "source": [
        "#creating the regression model\n",
        "model_cc=LinearRegression()\n",
        "model_cc.fit(x_train_cc_fit, y_train_cc)\n",
        "\n",
        "print('score:')\n",
        "model_cc.score(x_test_cc_fit, y_test_cc)"
      ],
      "execution_count": 1233,
      "outputs": [
        {
          "output_type": "stream",
          "text": [
            "score:\n"
          ],
          "name": "stdout"
        },
        {
          "output_type": "execute_result",
          "data": {
            "text/plain": [
              "0.9951857393896556"
            ]
          },
          "metadata": {
            "tags": []
          },
          "execution_count": 1233
        }
      ]
    },
    {
      "cell_type": "code",
      "metadata": {
        "id": "7Hcvae87ubp0",
        "colab": {
          "base_uri": "https://localhost:8080/"
        },
        "outputId": "6a57e321-79f8-4e70-cb3f-27f8f21737fc"
      },
      "source": [
        "#calculating metrics\n",
        "pred_cc=model_cc.predict(x_test_cc_fit)\n",
        "print(\"MSE:\", mean_squared_error(y_test_cc,pred_cc))\n",
        "print(\"R2:\", r2_score(y_test_cc,pred_cc))"
      ],
      "execution_count": 1234,
      "outputs": [
        {
          "output_type": "stream",
          "text": [
            "MSE: 19675769184660.504\n",
            "R2: 0.9951857393896556\n"
          ],
          "name": "stdout"
        }
      ]
    },
    {
      "cell_type": "code",
      "metadata": {
        "id": "K3mU4fhrupYU",
        "colab": {
          "base_uri": "https://localhost:8080/",
          "height": 312
        },
        "outputId": "e849a94b-b123-4aff-9567-4264729d6a91"
      },
      "source": [
        "#plotting the model\n",
        "fig4=plt.figure()\n",
        "plt.scatter(x_cc,y_cc, c='yellow')\n",
        "plt.title(\"Actual and predicted cumulative cases (Glabal)\")\n",
        "plt.xlabel(\"Day after first observation\")\n",
        "plt.ylabel(\"Cumulative case\")\n",
        "plt.plot(x_cc, model_cc.predict(poly_cc.fit_transform(x_cc)), color=\"r\")"
      ],
      "execution_count": 1235,
      "outputs": [
        {
          "output_type": "execute_result",
          "data": {
            "text/plain": [
              "[<matplotlib.lines.Line2D at 0x7f170c89d390>]"
            ]
          },
          "metadata": {
            "tags": []
          },
          "execution_count": 1235
        },
        {
          "output_type": "display_data",
          "data": {
            "image/png": "[encoded data removed]",
            "text/plain": [
              "<Figure size 432x288 with 1 Axes>"
            ]
          },
          "metadata": {
            "tags": [],
            "needs_background": "light"
          }
        }
      ]
    },
    {
      "cell_type": "markdown",
      "metadata": {
        "id": "40ESzm11yWjy"
      },
      "source": [
        "*new deaths*"
      ]
    },
    {
      "cell_type": "code",
      "metadata": {
        "id": "qMQ3VtqByq61"
      },
      "source": [
        "#choosing the target and the feature\n",
        "x_nd=df_nd1.iloc[:,[1]].values\n",
        "y_nd=df_nd1.iloc[:,[0]].values"
      ],
      "execution_count": 1236,
      "outputs": []
    },
    {
      "cell_type": "code",
      "metadata": {
        "id": "TRoaiM6BzoUl"
      },
      "source": [
        "#splitting the data\n",
        "x_train_nd,x_test_nd,y_train_nd,y_test_nd=train_test_split(x_nd,y_nd,test_size=0.30,random_state=40)"
      ],
      "execution_count": 1237,
      "outputs": []
    },
    {
      "cell_type": "code",
      "metadata": {
        "id": "uyoY1dg1zodY"
      },
      "source": [
        "#fitting the feature\n",
        "poly_nd=PolynomialFeatures(degree=6)\n",
        "\n",
        "x_train_nd_fit=poly_nd.fit_transform(x_train_nd)\n",
        "x_test_nd_fit=poly_nd.fit_transform(x_test_nd)"
      ],
      "execution_count": 1238,
      "outputs": []
    },
    {
      "cell_type": "code",
      "metadata": {
        "id": "2KwRKnuDzol9",
        "colab": {
          "base_uri": "https://localhost:8080/"
        },
        "outputId": "89629d25-f473-4741-8577-588728cf797c"
      },
      "source": [
        "#creating the regression model\n",
        "model_nd=LinearRegression()\n",
        "model_nd.fit(x_train_nd_fit, y_train_nd)\n",
        "\n",
        "print('score:')\n",
        "model_nd.score(x_test_nd_fit, y_test_nd)"
      ],
      "execution_count": 1239,
      "outputs": [
        {
          "output_type": "stream",
          "text": [
            "score:\n"
          ],
          "name": "stdout"
        },
        {
          "output_type": "execute_result",
          "data": {
            "text/plain": [
              "0.8041299170297584"
            ]
          },
          "metadata": {
            "tags": []
          },
          "execution_count": 1239
        }
      ]
    },
    {
      "cell_type": "code",
      "metadata": {
        "id": "lbpWMglRzoth",
        "colab": {
          "base_uri": "https://localhost:8080/"
        },
        "outputId": "4e9d4f8b-a2bd-4b69-cbb5-8d5e383b8e53"
      },
      "source": [
        "#calculating metrics\n",
        "pred_nd=model_nd.predict(x_test_nd_fit)\n",
        "print(\"MSE:\", mean_squared_error(y_test_nd,pred_nd))\n",
        "print(\"R2:\", r2_score(y_test_nd,pred_nd))"
      ],
      "execution_count": 1240,
      "outputs": [
        {
          "output_type": "stream",
          "text": [
            "MSE: 3487498.763821405\n",
            "R2: 0.8041299170297584\n"
          ],
          "name": "stdout"
        }
      ]
    },
    {
      "cell_type": "code",
      "metadata": {
        "id": "gTrFg8bAzo00",
        "colab": {
          "base_uri": "https://localhost:8080/",
          "height": 312
        },
        "outputId": "05a99583-e493-4b1f-87ae-53380a557e62"
      },
      "source": [
        "#plotting the model\n",
        "fig5=plt.figure()\n",
        "plt.scatter(x_nd,y_nd, c='yellow')\n",
        "plt.title(\"Actual and predicted new deaths (Glabal)\")\n",
        "plt.xlabel(\"Day after first observation\")\n",
        "plt.ylabel(\"New deaths\")\n",
        "plt.plot(x_nd, model_nd.predict(poly_nd.fit_transform(x_nd)), color=\"purple\")"
      ],
      "execution_count": 1241,
      "outputs": [
        {
          "output_type": "execute_result",
          "data": {
            "text/plain": [
              "[<matplotlib.lines.Line2D at 0x7f170c879bd0>]"
            ]
          },
          "metadata": {
            "tags": []
          },
          "execution_count": 1241
        },
        {
          "output_type": "display_data",
          "data": {
            "image/png": "[encoded data removed]",
            "text/plain": [
              "<Figure size 432x288 with 1 Axes>"
            ]
          },
          "metadata": {
            "tags": [],
            "needs_background": "light"
          }
        }
      ]
    },
    {
      "cell_type": "markdown",
      "metadata": {
        "id": "805ev2EYzpMo"
      },
      "source": [
        "*Cumulative deaths*"
      ]
    },
    {
      "cell_type": "code",
      "metadata": {
        "id": "UtOgPLuFzpYL"
      },
      "source": [
        "#choosing the target and the feature\n",
        "x_cd=df_cd1.iloc[:,[1]].values\n",
        "y_cd=df_cd1.iloc[:,[0]].values"
      ],
      "execution_count": 1242,
      "outputs": []
    },
    {
      "cell_type": "code",
      "metadata": {
        "id": "TLT-q5wBzpg5"
      },
      "source": [
        "#splitting the data\n",
        "x_train_cd,x_test_cd,y_train_cd,y_test_cd=train_test_split(x_cd,y_cd,test_size=0.30,random_state=40)"
      ],
      "execution_count": 1243,
      "outputs": []
    },
    {
      "cell_type": "code",
      "metadata": {
        "id": "yx_JtyWhzppJ"
      },
      "source": [
        "#fitting the feature\n",
        "poly_cd=PolynomialFeatures(degree=2)\n",
        "\n",
        "x_train_cd_fit=poly_cd.fit_transform(x_train_cd)\n",
        "x_test_cd_fit=poly_cd.fit_transform(x_test_cd)"
      ],
      "execution_count": 1244,
      "outputs": []
    },
    {
      "cell_type": "code",
      "metadata": {
        "id": "I9lWwHUnzqGJ",
        "colab": {
          "base_uri": "https://localhost:8080/"
        },
        "outputId": "f5f71c84-a298-4079-cf83-0c20d061731d"
      },
      "source": [
        "#creating the regression model\n",
        "model_cd=LinearRegression()\n",
        "model_cd.fit(x_train_cd_fit, y_train_cd)\n",
        "\n",
        "print('score:')\n",
        "model_cd.score(x_test_cd_fit, y_test_cd)"
      ],
      "execution_count": 1245,
      "outputs": [
        {
          "output_type": "stream",
          "text": [
            "score:\n"
          ],
          "name": "stdout"
        },
        {
          "output_type": "execute_result",
          "data": {
            "text/plain": [
              "0.9976738946963961"
            ]
          },
          "metadata": {
            "tags": []
          },
          "execution_count": 1245
        }
      ]
    },
    {
      "cell_type": "code",
      "metadata": {
        "id": "dJZdBx3VzqOo",
        "colab": {
          "base_uri": "https://localhost:8080/"
        },
        "outputId": "6c1f1cd1-850c-485a-cb00-da0cee3441bc"
      },
      "source": [
        "#calculating metrics\n",
        "pred_cd=model_cd.predict(x_test_cd_fit)\n",
        "print(\"MSE:\", mean_squared_error(y_test_cd,pred_cd))\n",
        "print(\"R2:\", r2_score(y_test_cd,pred_cd))"
      ],
      "execution_count": 1246,
      "outputs": [
        {
          "output_type": "stream",
          "text": [
            "MSE: 4099600955.0486917\n",
            "R2: 0.9976738946963961\n"
          ],
          "name": "stdout"
        }
      ]
    },
    {
      "cell_type": "code",
      "metadata": {
        "id": "KhlwTiKUzqWX",
        "colab": {
          "base_uri": "https://localhost:8080/",
          "height": 312
        },
        "outputId": "ca6c3e26-1842-4b37-ba99-b1e87d4270ae"
      },
      "source": [
        "#plotting the model\n",
        "fig6=plt.figure()\n",
        "plt.scatter(x_cd,y_cd, c='lime')\n",
        "plt.title(\"Actual and predicted cumulative deaths (Glabal)\")\n",
        "plt.xlabel(\"Day after first observation\")\n",
        "plt.ylabel(\"Cumulative deaths\")\n",
        "plt.plot(x_cd, model_cd.predict(poly_cd.fit_transform(x_cd)), color=\"red\")"
      ],
      "execution_count": 1247,
      "outputs": [
        {
          "output_type": "execute_result",
          "data": {
            "text/plain": [
              "[<matplotlib.lines.Line2D at 0x7f170c7e82d0>]"
            ]
          },
          "metadata": {
            "tags": []
          },
          "execution_count": 1247
        },
        {
          "output_type": "display_data",
          "data": {
            "image/png": "[encoded data removed]",
            "text/plain": [
              "<Figure size 432x288 with 1 Axes>"
            ]
          },
          "metadata": {
            "tags": [],
            "needs_background": "light"
          }
        }
      ]
    },
    {
      "cell_type": "markdown",
      "metadata": {
        "id": "QX3VUHwPl9tV"
      },
      "source": [
        "# 2: Creating COVID-19 local prediction models (Tunisia)"
      ]
    },
    {
      "cell_type": "markdown",
      "metadata": {
        "id": "HpIjYuS7mVFa"
      },
      "source": [
        "**Understanding data, preprocessing and Visualization**"
      ]
    },
    {
      "cell_type": "code",
      "metadata": {
        "id": "9L9SB_rlnp4P",
        "colab": {
          "base_uri": "https://localhost:8080/",
          "height": 204
        },
        "outputId": "ce4ef684-c628-41fa-eb67-3e2ff39710d9"
      },
      "source": [
        "#Printing the first 5 rows of the dataset\n",
        "df.head()"
      ],
      "execution_count": 1248,
      "outputs": [
        {
          "output_type": "execute_result",
          "data": {
            "text/html": [
              "<div>\n",
              "<style scoped>\n",
              "    .dataframe tbody tr th:only-of-type {\n",
              "        vertical-align: middle;\n",
              "    }\n",
              "\n",
              "    .dataframe tbody tr th {\n",
              "        vertical-align: top;\n",
              "    }\n",
              "\n",
              "    .dataframe thead th {\n",
              "        text-align: right;\n",
              "    }\n",
              "</style>\n",
              "<table border=\"1\" class=\"dataframe\">\n",
              "  <thead>\n",
              "    <tr style=\"text-align: right;\">\n",
              "      <th></th>\n",
              "      <th>Date_reported</th>\n",
              "      <th>Country_code</th>\n",
              "      <th>Country</th>\n",
              "      <th>WHO_region</th>\n",
              "      <th>New_cases</th>\n",
              "      <th>Cumulative_cases</th>\n",
              "      <th>New_deaths</th>\n",
              "      <th>Cumulative_deaths</th>\n",
              "    </tr>\n",
              "  </thead>\n",
              "  <tbody>\n",
              "    <tr>\n",
              "      <th>0</th>\n",
              "      <td>2020-01-03</td>\n",
              "      <td>AF</td>\n",
              "      <td>Afghanistan</td>\n",
              "      <td>EMRO</td>\n",
              "      <td>0</td>\n",
              "      <td>0</td>\n",
              "      <td>0</td>\n",
              "      <td>0</td>\n",
              "    </tr>\n",
              "    <tr>\n",
              "      <th>1</th>\n",
              "      <td>2020-01-04</td>\n",
              "      <td>AF</td>\n",
              "      <td>Afghanistan</td>\n",
              "      <td>EMRO</td>\n",
              "      <td>0</td>\n",
              "      <td>0</td>\n",
              "      <td>0</td>\n",
              "      <td>0</td>\n",
              "    </tr>\n",
              "    <tr>\n",
              "      <th>2</th>\n",
              "      <td>2020-01-05</td>\n",
              "      <td>AF</td>\n",
              "      <td>Afghanistan</td>\n",
              "      <td>EMRO</td>\n",
              "      <td>0</td>\n",
              "      <td>0</td>\n",
              "      <td>0</td>\n",
              "      <td>0</td>\n",
              "    </tr>\n",
              "    <tr>\n",
              "      <th>3</th>\n",
              "      <td>2020-01-06</td>\n",
              "      <td>AF</td>\n",
              "      <td>Afghanistan</td>\n",
              "      <td>EMRO</td>\n",
              "      <td>0</td>\n",
              "      <td>0</td>\n",
              "      <td>0</td>\n",
              "      <td>0</td>\n",
              "    </tr>\n",
              "    <tr>\n",
              "      <th>4</th>\n",
              "      <td>2020-01-07</td>\n",
              "      <td>AF</td>\n",
              "      <td>Afghanistan</td>\n",
              "      <td>EMRO</td>\n",
              "      <td>0</td>\n",
              "      <td>0</td>\n",
              "      <td>0</td>\n",
              "      <td>0</td>\n",
              "    </tr>\n",
              "  </tbody>\n",
              "</table>\n",
              "</div>"
            ],
            "text/plain": [
              "  Date_reported Country_code  ... New_deaths Cumulative_deaths\n",
              "0    2020-01-03           AF  ...          0                 0\n",
              "1    2020-01-04           AF  ...          0                 0\n",
              "2    2020-01-05           AF  ...          0                 0\n",
              "3    2020-01-06           AF  ...          0                 0\n",
              "4    2020-01-07           AF  ...          0                 0\n",
              "\n",
              "[5 rows x 8 columns]"
            ]
          },
          "metadata": {
            "tags": []
          },
          "execution_count": 1248
        }
      ]
    },
    {
      "cell_type": "code",
      "metadata": {
        "id": "F7Dj3QkzE1Jk",
        "colab": {
          "base_uri": "https://localhost:8080/",
          "height": 419
        },
        "outputId": "5bc09bb1-d925-4cd6-ea54-87b0661f279f"
      },
      "source": [
        "#Creating a new data frame called 'dft' that contains information about COVID-19 propagation in Tunisia.\n",
        "#Printing some rows of 'dft'\n",
        "dft=df[df.iloc[:,1]=='TN']\n",
        "dft"
      ],
      "execution_count": 1249,
      "outputs": [
        {
          "output_type": "execute_result",
          "data": {
            "text/html": [
              "<div>\n",
              "<style scoped>\n",
              "    .dataframe tbody tr th:only-of-type {\n",
              "        vertical-align: middle;\n",
              "    }\n",
              "\n",
              "    .dataframe tbody tr th {\n",
              "        vertical-align: top;\n",
              "    }\n",
              "\n",
              "    .dataframe thead th {\n",
              "        text-align: right;\n",
              "    }\n",
              "</style>\n",
              "<table border=\"1\" class=\"dataframe\">\n",
              "  <thead>\n",
              "    <tr style=\"text-align: right;\">\n",
              "      <th></th>\n",
              "      <th>Date_reported</th>\n",
              "      <th>Country_code</th>\n",
              "      <th>Country</th>\n",
              "      <th>WHO_region</th>\n",
              "      <th>New_cases</th>\n",
              "      <th>Cumulative_cases</th>\n",
              "      <th>New_deaths</th>\n",
              "      <th>Cumulative_deaths</th>\n",
              "    </tr>\n",
              "  </thead>\n",
              "  <tbody>\n",
              "    <tr>\n",
              "      <th>123907</th>\n",
              "      <td>2020-01-03</td>\n",
              "      <td>TN</td>\n",
              "      <td>Tunisia</td>\n",
              "      <td>EMRO</td>\n",
              "      <td>0</td>\n",
              "      <td>0</td>\n",
              "      <td>0</td>\n",
              "      <td>0</td>\n",
              "    </tr>\n",
              "    <tr>\n",
              "      <th>123908</th>\n",
              "      <td>2020-01-04</td>\n",
              "      <td>TN</td>\n",
              "      <td>Tunisia</td>\n",
              "      <td>EMRO</td>\n",
              "      <td>0</td>\n",
              "      <td>0</td>\n",
              "      <td>0</td>\n",
              "      <td>0</td>\n",
              "    </tr>\n",
              "    <tr>\n",
              "      <th>123909</th>\n",
              "      <td>2020-01-05</td>\n",
              "      <td>TN</td>\n",
              "      <td>Tunisia</td>\n",
              "      <td>EMRO</td>\n",
              "      <td>0</td>\n",
              "      <td>0</td>\n",
              "      <td>0</td>\n",
              "      <td>0</td>\n",
              "    </tr>\n",
              "    <tr>\n",
              "      <th>123910</th>\n",
              "      <td>2020-01-06</td>\n",
              "      <td>TN</td>\n",
              "      <td>Tunisia</td>\n",
              "      <td>EMRO</td>\n",
              "      <td>0</td>\n",
              "      <td>0</td>\n",
              "      <td>0</td>\n",
              "      <td>0</td>\n",
              "    </tr>\n",
              "    <tr>\n",
              "      <th>123911</th>\n",
              "      <td>2020-01-07</td>\n",
              "      <td>TN</td>\n",
              "      <td>Tunisia</td>\n",
              "      <td>EMRO</td>\n",
              "      <td>0</td>\n",
              "      <td>0</td>\n",
              "      <td>0</td>\n",
              "      <td>0</td>\n",
              "    </tr>\n",
              "    <tr>\n",
              "      <th>...</th>\n",
              "      <td>...</td>\n",
              "      <td>...</td>\n",
              "      <td>...</td>\n",
              "      <td>...</td>\n",
              "      <td>...</td>\n",
              "      <td>...</td>\n",
              "      <td>...</td>\n",
              "      <td>...</td>\n",
              "    </tr>\n",
              "    <tr>\n",
              "      <th>124473</th>\n",
              "      <td>2021-07-22</td>\n",
              "      <td>TN</td>\n",
              "      <td>Tunisia</td>\n",
              "      <td>EMRO</td>\n",
              "      <td>1086</td>\n",
              "      <td>555997</td>\n",
              "      <td>92</td>\n",
              "      <td>17913</td>\n",
              "    </tr>\n",
              "    <tr>\n",
              "      <th>124474</th>\n",
              "      <td>2021-07-23</td>\n",
              "      <td>TN</td>\n",
              "      <td>Tunisia</td>\n",
              "      <td>EMRO</td>\n",
              "      <td>2309</td>\n",
              "      <td>558306</td>\n",
              "      <td>139</td>\n",
              "      <td>18052</td>\n",
              "    </tr>\n",
              "    <tr>\n",
              "      <th>124475</th>\n",
              "      <td>2021-07-24</td>\n",
              "      <td>TN</td>\n",
              "      <td>Tunisia</td>\n",
              "      <td>EMRO</td>\n",
              "      <td>5624</td>\n",
              "      <td>563930</td>\n",
              "      <td>317</td>\n",
              "      <td>18369</td>\n",
              "    </tr>\n",
              "    <tr>\n",
              "      <th>124476</th>\n",
              "      <td>2021-07-25</td>\n",
              "      <td>TN</td>\n",
              "      <td>Tunisia</td>\n",
              "      <td>EMRO</td>\n",
              "      <td>5359</td>\n",
              "      <td>569289</td>\n",
              "      <td>231</td>\n",
              "      <td>18600</td>\n",
              "    </tr>\n",
              "    <tr>\n",
              "      <th>124477</th>\n",
              "      <td>2021-07-26</td>\n",
              "      <td>TN</td>\n",
              "      <td>Tunisia</td>\n",
              "      <td>EMRO</td>\n",
              "      <td>0</td>\n",
              "      <td>569289</td>\n",
              "      <td>0</td>\n",
              "      <td>18600</td>\n",
              "    </tr>\n",
              "  </tbody>\n",
              "</table>\n",
              "<p>571 rows × 8 columns</p>\n",
              "</div>"
            ],
            "text/plain": [
              "       Date_reported Country_code  ... New_deaths Cumulative_deaths\n",
              "123907    2020-01-03           TN  ...          0                 0\n",
              "123908    2020-01-04           TN  ...          0                 0\n",
              "123909    2020-01-05           TN  ...          0                 0\n",
              "123910    2020-01-06           TN  ...          0                 0\n",
              "123911    2020-01-07           TN  ...          0                 0\n",
              "...              ...          ...  ...        ...               ...\n",
              "124473    2021-07-22           TN  ...         92             17913\n",
              "124474    2021-07-23           TN  ...        139             18052\n",
              "124475    2021-07-24           TN  ...        317             18369\n",
              "124476    2021-07-25           TN  ...        231             18600\n",
              "124477    2021-07-26           TN  ...          0             18600\n",
              "\n",
              "[571 rows x 8 columns]"
            ]
          },
          "metadata": {
            "tags": []
          },
          "execution_count": 1249
        }
      ]
    },
    {
      "cell_type": "code",
      "metadata": {
        "id": "KqX7ybA9HM1Q"
      },
      "source": [
        "#Creating two variables 'start' and 'stop' that represent the first data frame index and the last data frame index, respectively.\n",
        "start=dft.index[0]\n",
        "stop=dft.index[-1]"
      ],
      "execution_count": 1250,
      "outputs": []
    },
    {
      "cell_type": "code",
      "metadata": {
        "id": "AD9rpILqGGvf"
      },
      "source": [
        "#Creating a map called 'dt'.\n",
        "value_t=0\n",
        "dt={}\n",
        "for key in range(start, (stop+1)):\n",
        "  dt[key]=value_t\n",
        "  value_t+=1"
      ],
      "execution_count": 1251,
      "outputs": []
    },
    {
      "cell_type": "code",
      "metadata": {
        "id": "_kE1yBz3G95P"
      },
      "source": [
        "#changing 'dft' indexes, by the mapped sequence contained in 'dt'.\n",
        "dft=dft.rename(index=dt)"
      ],
      "execution_count": 1252,
      "outputs": []
    },
    {
      "cell_type": "code",
      "metadata": {
        "id": "zl6Pq_h5Ife2"
      },
      "source": [
        "#Creating a new feature called day_index.\n",
        "dft['day_index']=[i for i in range(1,obs+1)]"
      ],
      "execution_count": 1253,
      "outputs": []
    },
    {
      "cell_type": "code",
      "metadata": {
        "id": "oCgHegAxFXc8"
      },
      "source": [
        "#creating a data frame called 'dft_nc' to store New_cases feature evolution in Tunisia.\n",
        "dft_nc=dft.iloc[:,[4,8]]"
      ],
      "execution_count": 1254,
      "outputs": []
    },
    {
      "cell_type": "code",
      "metadata": {
        "id": "FDr7WNq2IHSY",
        "colab": {
          "base_uri": "https://localhost:8080/"
        },
        "outputId": "e79d7d73-4b21-4c1d-f464-44b34a2038c6"
      },
      "source": [
        "print(dft_nc)"
      ],
      "execution_count": 1255,
      "outputs": [
        {
          "output_type": "stream",
          "text": [
            "     New_cases  day_index\n",
            "0            0          1\n",
            "1            0          2\n",
            "2            0          3\n",
            "3            0          4\n",
            "4            0          5\n",
            "..         ...        ...\n",
            "566       1086        567\n",
            "567       2309        568\n",
            "568       5624        569\n",
            "569       5359        570\n",
            "570          0        571\n",
            "\n",
            "[571 rows x 2 columns]\n"
          ],
          "name": "stdout"
        }
      ]
    },
    {
      "cell_type": "code",
      "metadata": {
        "id": "XT9daSjXGBCs",
        "colab": {
          "base_uri": "https://localhost:8080/",
          "height": 297
        },
        "outputId": "8e188c78-b24f-4c41-80fa-4f4440e690a4"
      },
      "source": [
        "#Getting a description of 'dft_nc'.\n",
        "dft_nc.describe()"
      ],
      "execution_count": 1256,
      "outputs": [
        {
          "output_type": "execute_result",
          "data": {
            "text/html": [
              "<div>\n",
              "<style scoped>\n",
              "    .dataframe tbody tr th:only-of-type {\n",
              "        vertical-align: middle;\n",
              "    }\n",
              "\n",
              "    .dataframe tbody tr th {\n",
              "        vertical-align: top;\n",
              "    }\n",
              "\n",
              "    .dataframe thead th {\n",
              "        text-align: right;\n",
              "    }\n",
              "</style>\n",
              "<table border=\"1\" class=\"dataframe\">\n",
              "  <thead>\n",
              "    <tr style=\"text-align: right;\">\n",
              "      <th></th>\n",
              "      <th>New_cases</th>\n",
              "      <th>day_index</th>\n",
              "    </tr>\n",
              "  </thead>\n",
              "  <tbody>\n",
              "    <tr>\n",
              "      <th>count</th>\n",
              "      <td>571.000000</td>\n",
              "      <td>571.000000</td>\n",
              "    </tr>\n",
              "    <tr>\n",
              "      <th>mean</th>\n",
              "      <td>997.003503</td>\n",
              "      <td>286.000000</td>\n",
              "    </tr>\n",
              "    <tr>\n",
              "      <th>std</th>\n",
              "      <td>1513.738729</td>\n",
              "      <td>164.977776</td>\n",
              "    </tr>\n",
              "    <tr>\n",
              "      <th>min</th>\n",
              "      <td>-5.000000</td>\n",
              "      <td>1.000000</td>\n",
              "    </tr>\n",
              "    <tr>\n",
              "      <th>25%</th>\n",
              "      <td>4.000000</td>\n",
              "      <td>143.500000</td>\n",
              "    </tr>\n",
              "    <tr>\n",
              "      <th>50%</th>\n",
              "      <td>496.000000</td>\n",
              "      <td>286.000000</td>\n",
              "    </tr>\n",
              "    <tr>\n",
              "      <th>75%</th>\n",
              "      <td>1435.500000</td>\n",
              "      <td>428.500000</td>\n",
              "    </tr>\n",
              "    <tr>\n",
              "      <th>max</th>\n",
              "      <td>9823.000000</td>\n",
              "      <td>571.000000</td>\n",
              "    </tr>\n",
              "  </tbody>\n",
              "</table>\n",
              "</div>"
            ],
            "text/plain": [
              "         New_cases   day_index\n",
              "count   571.000000  571.000000\n",
              "mean    997.003503  286.000000\n",
              "std    1513.738729  164.977776\n",
              "min      -5.000000    1.000000\n",
              "25%       4.000000  143.500000\n",
              "50%     496.000000  286.000000\n",
              "75%    1435.500000  428.500000\n",
              "max    9823.000000  571.000000"
            ]
          },
          "metadata": {
            "tags": []
          },
          "execution_count": 1256
        }
      ]
    },
    {
      "cell_type": "code",
      "metadata": {
        "id": "fEkyRN9uIrf9"
      },
      "source": [
        "#creating a data frame called 'dft_cc' to store Cumulative_cases feature evolution in Tunisia.\n",
        "dft_cc=dft.iloc[:,[5,8]]"
      ],
      "execution_count": 1257,
      "outputs": []
    },
    {
      "cell_type": "code",
      "metadata": {
        "id": "wXUruFvOIuIY",
        "colab": {
          "base_uri": "https://localhost:8080/"
        },
        "outputId": "29f78bb0-7398-41a4-a1d3-b32271f5daca"
      },
      "source": [
        "print(dft_cc)"
      ],
      "execution_count": 1258,
      "outputs": [
        {
          "output_type": "stream",
          "text": [
            "     Cumulative_cases  day_index\n",
            "0                   0          1\n",
            "1                   0          2\n",
            "2                   0          3\n",
            "3                   0          4\n",
            "4                   0          5\n",
            "..                ...        ...\n",
            "566            555997        567\n",
            "567            558306        568\n",
            "568            563930        569\n",
            "569            569289        570\n",
            "570            569289        571\n",
            "\n",
            "[571 rows x 2 columns]\n"
          ],
          "name": "stdout"
        }
      ]
    },
    {
      "cell_type": "code",
      "metadata": {
        "id": "GuUgF2EeIzKj",
        "colab": {
          "base_uri": "https://localhost:8080/",
          "height": 297
        },
        "outputId": "b0c6cb2b-f0cc-4a6e-f734-76798ef80633"
      },
      "source": [
        "#Getting a description of 'dft_cc'.\n",
        "dft_cc.describe()"
      ],
      "execution_count": 1259,
      "outputs": [
        {
          "output_type": "execute_result",
          "data": {
            "text/html": [
              "<div>\n",
              "<style scoped>\n",
              "    .dataframe tbody tr th:only-of-type {\n",
              "        vertical-align: middle;\n",
              "    }\n",
              "\n",
              "    .dataframe tbody tr th {\n",
              "        vertical-align: top;\n",
              "    }\n",
              "\n",
              "    .dataframe thead th {\n",
              "        text-align: right;\n",
              "    }\n",
              "</style>\n",
              "<table border=\"1\" class=\"dataframe\">\n",
              "  <thead>\n",
              "    <tr style=\"text-align: right;\">\n",
              "      <th></th>\n",
              "      <th>Cumulative_cases</th>\n",
              "      <th>day_index</th>\n",
              "    </tr>\n",
              "  </thead>\n",
              "  <tbody>\n",
              "    <tr>\n",
              "      <th>count</th>\n",
              "      <td>571.000000</td>\n",
              "      <td>571.000000</td>\n",
              "    </tr>\n",
              "    <tr>\n",
              "      <th>mean</th>\n",
              "      <td>121749.197898</td>\n",
              "      <td>286.000000</td>\n",
              "    </tr>\n",
              "    <tr>\n",
              "      <th>std</th>\n",
              "      <td>150130.814738</td>\n",
              "      <td>164.977776</td>\n",
              "    </tr>\n",
              "    <tr>\n",
              "      <th>min</th>\n",
              "      <td>0.000000</td>\n",
              "      <td>1.000000</td>\n",
              "    </tr>\n",
              "    <tr>\n",
              "      <th>25%</th>\n",
              "      <td>1049.500000</td>\n",
              "      <td>143.500000</td>\n",
              "    </tr>\n",
              "    <tr>\n",
              "      <th>50%</th>\n",
              "      <td>34790.000000</td>\n",
              "      <td>286.000000</td>\n",
              "    </tr>\n",
              "    <tr>\n",
              "      <th>75%</th>\n",
              "      <td>235999.500000</td>\n",
              "      <td>428.500000</td>\n",
              "    </tr>\n",
              "    <tr>\n",
              "      <th>max</th>\n",
              "      <td>569289.000000</td>\n",
              "      <td>571.000000</td>\n",
              "    </tr>\n",
              "  </tbody>\n",
              "</table>\n",
              "</div>"
            ],
            "text/plain": [
              "       Cumulative_cases   day_index\n",
              "count        571.000000  571.000000\n",
              "mean      121749.197898  286.000000\n",
              "std       150130.814738  164.977776\n",
              "min            0.000000    1.000000\n",
              "25%         1049.500000  143.500000\n",
              "50%        34790.000000  286.000000\n",
              "75%       235999.500000  428.500000\n",
              "max       569289.000000  571.000000"
            ]
          },
          "metadata": {
            "tags": []
          },
          "execution_count": 1259
        }
      ]
    },
    {
      "cell_type": "code",
      "metadata": {
        "id": "qfQYdr2NI3_3"
      },
      "source": [
        "#creating a data frame called 'dft_nd' to store New_deaths feature evolution in Tunisia.\n",
        "dft_nd=dft.iloc[:,[6,8]]"
      ],
      "execution_count": 1260,
      "outputs": []
    },
    {
      "cell_type": "code",
      "metadata": {
        "id": "K3HnCC-qJF_U",
        "colab": {
          "base_uri": "https://localhost:8080/"
        },
        "outputId": "31f5828e-3af0-4548-f616-a3e3eb33ec9d"
      },
      "source": [
        "print(dft_nd)"
      ],
      "execution_count": 1261,
      "outputs": [
        {
          "output_type": "stream",
          "text": [
            "     New_deaths  day_index\n",
            "0             0          1\n",
            "1             0          2\n",
            "2             0          3\n",
            "3             0          4\n",
            "4             0          5\n",
            "..          ...        ...\n",
            "566          92        567\n",
            "567         139        568\n",
            "568         317        569\n",
            "569         231        570\n",
            "570           0        571\n",
            "\n",
            "[571 rows x 2 columns]\n"
          ],
          "name": "stdout"
        }
      ]
    },
    {
      "cell_type": "code",
      "metadata": {
        "id": "tPWVm8-7JKA0",
        "colab": {
          "base_uri": "https://localhost:8080/",
          "height": 297
        },
        "outputId": "46cd0cfb-36a0-4df8-d43b-d4b6e349d4ce"
      },
      "source": [
        "#Getting a description of 'dft_nd'.\n",
        "dft_nd.describe()"
      ],
      "execution_count": 1262,
      "outputs": [
        {
          "output_type": "execute_result",
          "data": {
            "text/html": [
              "<div>\n",
              "<style scoped>\n",
              "    .dataframe tbody tr th:only-of-type {\n",
              "        vertical-align: middle;\n",
              "    }\n",
              "\n",
              "    .dataframe tbody tr th {\n",
              "        vertical-align: top;\n",
              "    }\n",
              "\n",
              "    .dataframe thead th {\n",
              "        text-align: right;\n",
              "    }\n",
              "</style>\n",
              "<table border=\"1\" class=\"dataframe\">\n",
              "  <thead>\n",
              "    <tr style=\"text-align: right;\">\n",
              "      <th></th>\n",
              "      <th>New_deaths</th>\n",
              "      <th>day_index</th>\n",
              "    </tr>\n",
              "  </thead>\n",
              "  <tbody>\n",
              "    <tr>\n",
              "      <th>count</th>\n",
              "      <td>571.000000</td>\n",
              "      <td>571.000000</td>\n",
              "    </tr>\n",
              "    <tr>\n",
              "      <th>mean</th>\n",
              "      <td>32.574431</td>\n",
              "      <td>286.000000</td>\n",
              "    </tr>\n",
              "    <tr>\n",
              "      <th>std</th>\n",
              "      <td>41.937037</td>\n",
              "      <td>164.977776</td>\n",
              "    </tr>\n",
              "    <tr>\n",
              "      <th>min</th>\n",
              "      <td>0.000000</td>\n",
              "      <td>1.000000</td>\n",
              "    </tr>\n",
              "    <tr>\n",
              "      <th>25%</th>\n",
              "      <td>0.000000</td>\n",
              "      <td>143.500000</td>\n",
              "    </tr>\n",
              "    <tr>\n",
              "      <th>50%</th>\n",
              "      <td>16.000000</td>\n",
              "      <td>286.000000</td>\n",
              "    </tr>\n",
              "    <tr>\n",
              "      <th>75%</th>\n",
              "      <td>56.000000</td>\n",
              "      <td>428.500000</td>\n",
              "    </tr>\n",
              "    <tr>\n",
              "      <th>max</th>\n",
              "      <td>317.000000</td>\n",
              "      <td>571.000000</td>\n",
              "    </tr>\n",
              "  </tbody>\n",
              "</table>\n",
              "</div>"
            ],
            "text/plain": [
              "       New_deaths   day_index\n",
              "count  571.000000  571.000000\n",
              "mean    32.574431  286.000000\n",
              "std     41.937037  164.977776\n",
              "min      0.000000    1.000000\n",
              "25%      0.000000  143.500000\n",
              "50%     16.000000  286.000000\n",
              "75%     56.000000  428.500000\n",
              "max    317.000000  571.000000"
            ]
          },
          "metadata": {
            "tags": []
          },
          "execution_count": 1262
        }
      ]
    },
    {
      "cell_type": "code",
      "metadata": {
        "id": "gLN-3wqSJP4G"
      },
      "source": [
        "#creating a data frame called 'dft_cd' to store Cumulative_deaths feature evolution in Tunisia.\n",
        "dft_cd=dft.iloc[:,[7,8]]"
      ],
      "execution_count": 1263,
      "outputs": []
    },
    {
      "cell_type": "code",
      "metadata": {
        "id": "Y0f1lVgoJSg7",
        "colab": {
          "base_uri": "https://localhost:8080/"
        },
        "outputId": "b4110251-da61-4705-b377-7db908742408"
      },
      "source": [
        "print(dft_cd)"
      ],
      "execution_count": 1264,
      "outputs": [
        {
          "output_type": "stream",
          "text": [
            "     Cumulative_deaths  day_index\n",
            "0                    0          1\n",
            "1                    0          2\n",
            "2                    0          3\n",
            "3                    0          4\n",
            "4                    0          5\n",
            "..                 ...        ...\n",
            "566              17913        567\n",
            "567              18052        568\n",
            "568              18369        569\n",
            "569              18600        570\n",
            "570              18600        571\n",
            "\n",
            "[571 rows x 2 columns]\n"
          ],
          "name": "stdout"
        }
      ]
    },
    {
      "cell_type": "code",
      "metadata": {
        "id": "xxrnrX88JWim",
        "colab": {
          "base_uri": "https://localhost:8080/",
          "height": 297
        },
        "outputId": "4c9e1f6f-54e4-4538-d606-04183388e902"
      },
      "source": [
        "#Getting a description of 'dft_cd'.\n",
        "dft_cd.describe()"
      ],
      "execution_count": 1265,
      "outputs": [
        {
          "output_type": "execute_result",
          "data": {
            "text/html": [
              "<div>\n",
              "<style scoped>\n",
              "    .dataframe tbody tr th:only-of-type {\n",
              "        vertical-align: middle;\n",
              "    }\n",
              "\n",
              "    .dataframe tbody tr th {\n",
              "        vertical-align: top;\n",
              "    }\n",
              "\n",
              "    .dataframe thead th {\n",
              "        text-align: right;\n",
              "    }\n",
              "</style>\n",
              "<table border=\"1\" class=\"dataframe\">\n",
              "  <thead>\n",
              "    <tr style=\"text-align: right;\">\n",
              "      <th></th>\n",
              "      <th>Cumulative_deaths</th>\n",
              "      <th>day_index</th>\n",
              "    </tr>\n",
              "  </thead>\n",
              "  <tbody>\n",
              "    <tr>\n",
              "      <th>count</th>\n",
              "      <td>571.000000</td>\n",
              "      <td>571.000000</td>\n",
              "    </tr>\n",
              "    <tr>\n",
              "      <th>mean</th>\n",
              "      <td>4135.711033</td>\n",
              "      <td>286.000000</td>\n",
              "    </tr>\n",
              "    <tr>\n",
              "      <th>std</th>\n",
              "      <td>5226.416334</td>\n",
              "      <td>164.977776</td>\n",
              "    </tr>\n",
              "    <tr>\n",
              "      <th>min</th>\n",
              "      <td>0.000000</td>\n",
              "      <td>1.000000</td>\n",
              "    </tr>\n",
              "    <tr>\n",
              "      <th>25%</th>\n",
              "      <td>48.000000</td>\n",
              "      <td>143.500000</td>\n",
              "    </tr>\n",
              "    <tr>\n",
              "      <th>50%</th>\n",
              "      <td>512.000000</td>\n",
              "      <td>286.000000</td>\n",
              "    </tr>\n",
              "    <tr>\n",
              "      <th>75%</th>\n",
              "      <td>8118.000000</td>\n",
              "      <td>428.500000</td>\n",
              "    </tr>\n",
              "    <tr>\n",
              "      <th>max</th>\n",
              "      <td>18600.000000</td>\n",
              "      <td>571.000000</td>\n",
              "    </tr>\n",
              "  </tbody>\n",
              "</table>\n",
              "</div>"
            ],
            "text/plain": [
              "       Cumulative_deaths   day_index\n",
              "count         571.000000  571.000000\n",
              "mean         4135.711033  286.000000\n",
              "std          5226.416334  164.977776\n",
              "min             0.000000    1.000000\n",
              "25%            48.000000  143.500000\n",
              "50%           512.000000  286.000000\n",
              "75%          8118.000000  428.500000\n",
              "max         18600.000000  571.000000"
            ]
          },
          "metadata": {
            "tags": []
          },
          "execution_count": 1265
        }
      ]
    },
    {
      "cell_type": "code",
      "metadata": {
        "id": "P-QIPTQ4KMeB",
        "colab": {
          "base_uri": "https://localhost:8080/",
          "height": 437
        },
        "outputId": "08bf9693-c058-4e3f-d842-5427c2dfdf8f"
      },
      "source": [
        "#Plotting New_cases and New_deaths\n",
        "fig7=plt.figure()\n",
        "ax5=fig7.add_axes([0,0,1,1])\n",
        "ax6=fig7.add_axes([0,0,1,1])\n",
        "ax5.plot(dft_nc['day_index'],dft_nc.iloc[:,0],label='new cases')\n",
        "ax6.plot(dft_nd['day_index'],dft_nd.iloc[:,0],label='new deaths')\n",
        "plt.title('New cases and new deaths (Tunisia)')\n",
        "plt.xlabel('Days after first case')\n",
        "plt.ylabel('Case/Death')\n",
        "ax5.legend()\n",
        "ax6.legend()"
      ],
      "execution_count": 1266,
      "outputs": [
        {
          "output_type": "stream",
          "text": [
            "/usr/local/lib/python3.7/dist-packages/ipykernel_launcher.py:4: MatplotlibDeprecationWarning: Adding an axes using the same arguments as a previous axes currently reuses the earlier instance.  In a future version, a new instance will always be created and returned.  Meanwhile, this warning can be suppressed, and the future behavior ensured, by passing a unique label to each axes instance.\n",
            "  after removing the cwd from sys.path.\n"
          ],
          "name": "stderr"
        },
        {
          "output_type": "execute_result",
          "data": {
            "text/plain": [
              "<matplotlib.legend.Legend at 0x7f170c798710>"
            ]
          },
          "metadata": {
            "tags": []
          },
          "execution_count": 1266
        },
        {
          "output_type": "display_data",
          "data": {
            "image/png": "[encoded data removed]",
            "text/plain": [
              "<Figure size 432x288 with 1 Axes>"
            ]
          },
          "metadata": {
            "tags": [],
            "needs_background": "light"
          }
        }
      ]
    },
    {
      "cell_type": "code",
      "metadata": {
        "id": "pNwuGg3ZLAxE",
        "colab": {
          "base_uri": "https://localhost:8080/",
          "height": 437
        },
        "outputId": "7f8ff1e6-91ae-4942-f703-12c9813a2ba0"
      },
      "source": [
        "#Plotting Cumulative_cases and Cumulative_deaths\n",
        "fig8=plt.figure()\n",
        "ax7=fig8.add_axes([0,0,1,1])\n",
        "ax8=fig8.add_axes([0,0,1,1])\n",
        "ax7.plot(dft_cc['day_index'],dft_cc.iloc[:,0],label='cumulative cases')\n",
        "ax8.plot(dft_cd['day_index'],dft_cd.iloc[:,0],label='cumulative deaths')\n",
        "plt.title('Cumalative cases and cumulative deaths (Tunisia)')\n",
        "plt.xlabel('Days after first case')\n",
        "plt.ylabel('Case/Death')\n",
        "ax7.legend()\n",
        "ax8.legend()"
      ],
      "execution_count": 1267,
      "outputs": [
        {
          "output_type": "stream",
          "text": [
            "/usr/local/lib/python3.7/dist-packages/ipykernel_launcher.py:4: MatplotlibDeprecationWarning: Adding an axes using the same arguments as a previous axes currently reuses the earlier instance.  In a future version, a new instance will always be created and returned.  Meanwhile, this warning can be suppressed, and the future behavior ensured, by passing a unique label to each axes instance.\n",
            "  after removing the cwd from sys.path.\n"
          ],
          "name": "stderr"
        },
        {
          "output_type": "execute_result",
          "data": {
            "text/plain": [
              "<matplotlib.legend.Legend at 0x7f170c71e390>"
            ]
          },
          "metadata": {
            "tags": []
          },
          "execution_count": 1267
        },
        {
          "output_type": "display_data",
          "data": {
            "image/png": "[encoded data removed]",
            "text/plain": [
              "<Figure size 432x288 with 1 Axes>"
            ]
          },
          "metadata": {
            "tags": [],
            "needs_background": "light"
          }
        }
      ]
    },
    {
      "cell_type": "markdown",
      "metadata": {
        "id": "_yVDYKuFLhRy"
      },
      "source": [
        "**Choosing the right algorithm:**\n",
        "According to the graphs, there is a polynomial relationship between day_index feature and the targets: New_cases, New_deaths, Cumulative_cases and Cumulative_deaths."
      ]
    },
    {
      "cell_type": "markdown",
      "metadata": {
        "id": "SxIne02CLj0X"
      },
      "source": [
        "**Modeling**"
      ]
    },
    {
      "cell_type": "markdown",
      "metadata": {
        "id": "V1NuzxfTLn1J"
      },
      "source": [
        "*new cases*"
      ]
    },
    {
      "cell_type": "code",
      "metadata": {
        "id": "_VYCijlTLsA6"
      },
      "source": [
        "#choosing the target and the feature\n",
        "xt_nc=dft_nc.iloc[:,[1]].values\n",
        "yt_nc=dft_nc.iloc[:,[0]].values"
      ],
      "execution_count": 1268,
      "outputs": []
    },
    {
      "cell_type": "code",
      "metadata": {
        "id": "nWwusx9nMoOc"
      },
      "source": [
        "#splitting the data\n",
        "xt_train_nc,xt_test_nc,yt_train_nc,yt_test_nc=train_test_split(xt_nc,yt_nc,test_size=0.30,random_state=40)"
      ],
      "execution_count": 1269,
      "outputs": []
    },
    {
      "cell_type": "code",
      "metadata": {
        "id": "QQYOTkPlM30o"
      },
      "source": [
        "#fitting the feature\n",
        "polyt_nc=PolynomialFeatures(degree=4)\n",
        "\n",
        "xt_train_nc_fit=polyt_nc.fit_transform(xt_train_nc)\n",
        "xt_test_nc_fit=polyt_nc.fit_transform(xt_test_nc)"
      ],
      "execution_count": 1270,
      "outputs": []
    },
    {
      "cell_type": "code",
      "metadata": {
        "id": "Or_qMjrtNHGs",
        "colab": {
          "base_uri": "https://localhost:8080/"
        },
        "outputId": "559dc28b-ea32-44ff-8d2e-f302243abd1f"
      },
      "source": [
        "#creating the regression model\n",
        "modelt_nc=LinearRegression()\n",
        "modelt_nc.fit(xt_train_nc_fit, yt_train_nc)\n",
        "\n",
        "print('score:')\n",
        "modelt_nc.score(xt_test_nc_fit, yt_test_nc)"
      ],
      "execution_count": 1271,
      "outputs": [
        {
          "output_type": "stream",
          "text": [
            "score:\n"
          ],
          "name": "stdout"
        },
        {
          "output_type": "execute_result",
          "data": {
            "text/plain": [
              "0.6503410356264918"
            ]
          },
          "metadata": {
            "tags": []
          },
          "execution_count": 1271
        }
      ]
    },
    {
      "cell_type": "code",
      "metadata": {
        "id": "Aq3ms0mZNrN2",
        "colab": {
          "base_uri": "https://localhost:8080/"
        },
        "outputId": "bcdef2d1-4d3c-4a3c-ef64-161ded2f802c"
      },
      "source": [
        "#calculating metrics\n",
        "predt_nc=modelt_nc.predict(xt_test_nc_fit)\n",
        "print(\"MSE:\", mean_squared_error(yt_test_nc,predt_nc))\n",
        "print(\"R2:\", r2_score(yt_test_nc,predt_nc))"
      ],
      "execution_count": 1272,
      "outputs": [
        {
          "output_type": "stream",
          "text": [
            "MSE: 684565.9962545004\n",
            "R2: 0.6503410356264918\n"
          ],
          "name": "stdout"
        }
      ]
    },
    {
      "cell_type": "code",
      "metadata": {
        "id": "OJZXruqIOC4N",
        "colab": {
          "base_uri": "https://localhost:8080/",
          "height": 312
        },
        "outputId": "e0020c21-545f-43aa-f2dc-227d469fde8f"
      },
      "source": [
        "#plotting the model\n",
        "fig9=plt.figure()\n",
        "plt.scatter(xt_nc,yt_nc)\n",
        "plt.title(\"Actual and predicted new cases (Tunisia)\")\n",
        "plt.xlabel(\"Day after first observation\")\n",
        "plt.ylabel(\"New case\")\n",
        "plt.plot(xt_nc, modelt_nc.predict(polyt_nc.fit_transform(xt_nc)), color=\"r\")"
      ],
      "execution_count": 1273,
      "outputs": [
        {
          "output_type": "execute_result",
          "data": {
            "text/plain": [
              "[<matplotlib.lines.Line2D at 0x7f170c64c250>]"
            ]
          },
          "metadata": {
            "tags": []
          },
          "execution_count": 1273
        },
        {
          "output_type": "display_data",
          "data": {
            "image/png": "[encoded data removed]",
            "text/plain": [
              "<Figure size 432x288 with 1 Axes>"
            ]
          },
          "metadata": {
            "tags": [],
            "needs_background": "light"
          }
        }
      ]
    },
    {
      "cell_type": "markdown",
      "metadata": {
        "id": "QckeB7ohOmoX"
      },
      "source": [
        "*cumulative cases*"
      ]
    },
    {
      "cell_type": "code",
      "metadata": {
        "id": "i6h1J1G7Olwd"
      },
      "source": [
        "#choosing the target and the feature\n",
        "xt_cc=dft_cc.iloc[:,[1]].values\n",
        "yt_cc=dft_cc.iloc[:,[0]].values"
      ],
      "execution_count": 1274,
      "outputs": []
    },
    {
      "cell_type": "code",
      "metadata": {
        "id": "jSnfUboBOp2r"
      },
      "source": [
        "#splitting the data\n",
        "xt_train_cc,xt_test_cc,yt_train_cc,yt_test_cc=train_test_split(xt_cc,yt_cc,test_size=0.30,random_state=40)"
      ],
      "execution_count": 1275,
      "outputs": []
    },
    {
      "cell_type": "code",
      "metadata": {
        "id": "IZzOPGjdOp-S"
      },
      "source": [
        "#fitting the feature\n",
        "polyt_cc=PolynomialFeatures(degree=2)\n",
        "\n",
        "xt_train_cc_fit=polyt_cc.fit_transform(xt_train_cc)\n",
        "xt_test_cc_fit=polyt_cc.fit_transform(xt_test_cc)"
      ],
      "execution_count": 1276,
      "outputs": []
    },
    {
      "cell_type": "code",
      "metadata": {
        "id": "jgGGhquWOqF7",
        "colab": {
          "base_uri": "https://localhost:8080/"
        },
        "outputId": "3019b7a7-38ab-4ce0-c7bb-58d61df61792"
      },
      "source": [
        "#creating the regression model\n",
        "modelt_cc=LinearRegression()\n",
        "modelt_cc.fit(xt_train_cc_fit, yt_train_cc)\n",
        "\n",
        "print('score:')\n",
        "modelt_cc.score(xt_test_cc_fit, yt_test_cc)"
      ],
      "execution_count": 1277,
      "outputs": [
        {
          "output_type": "stream",
          "text": [
            "score:\n"
          ],
          "name": "stdout"
        },
        {
          "output_type": "execute_result",
          "data": {
            "text/plain": [
              "0.9840172348644103"
            ]
          },
          "metadata": {
            "tags": []
          },
          "execution_count": 1277
        }
      ]
    },
    {
      "cell_type": "code",
      "metadata": {
        "id": "yaTOK4jGOqN-",
        "colab": {
          "base_uri": "https://localhost:8080/"
        },
        "outputId": "3f57a484-48c7-4e84-8350-32f287bc535b"
      },
      "source": [
        "#calculating metrics\n",
        "predt_cc=modelt_cc.predict(xt_test_cc_fit)\n",
        "print(\"MSE:\", mean_squared_error(yt_test_cc,predt_cc))\n",
        "print(\"R2:\", r2_score(yt_test_cc,predt_cc))"
      ],
      "execution_count": 1278,
      "outputs": [
        {
          "output_type": "stream",
          "text": [
            "MSE: 350949595.47945124\n",
            "R2: 0.9840172348644103\n"
          ],
          "name": "stdout"
        }
      ]
    },
    {
      "cell_type": "code",
      "metadata": {
        "id": "K0kNNvD5OqTN",
        "colab": {
          "base_uri": "https://localhost:8080/",
          "height": 312
        },
        "outputId": "5c000b80-aef0-483d-fa5b-88479be1950f"
      },
      "source": [
        "#plotting the model\n",
        "fig10=plt.figure()\n",
        "plt.scatter(xt_cc,yt_cc, c='yellow')\n",
        "plt.title(\"Actual and predicted cumulative cases (Tunisia)\")\n",
        "plt.xlabel(\"Day after first observation\")\n",
        "plt.ylabel(\"Cumulative case\")\n",
        "plt.plot(xt_cc, modelt_cc.predict(polyt_cc.fit_transform(xt_cc)), color=\"r\")"
      ],
      "execution_count": 1279,
      "outputs": [
        {
          "output_type": "execute_result",
          "data": {
            "text/plain": [
              "[<matplotlib.lines.Line2D at 0x7f170c63a090>]"
            ]
          },
          "metadata": {
            "tags": []
          },
          "execution_count": 1279
        },
        {
          "output_type": "display_data",
          "data": {
            "image/png": "[encoded data removed]",
            "text/plain": [
              "<Figure size 432x288 with 1 Axes>"
            ]
          },
          "metadata": {
            "tags": [],
            "needs_background": "light"
          }
        }
      ]
    },
    {
      "cell_type": "markdown",
      "metadata": {
        "id": "n06zqH-aOql5"
      },
      "source": [
        "*new deaths*"
      ]
    },
    {
      "cell_type": "code",
      "metadata": {
        "id": "ecmW0pdAOvX5"
      },
      "source": [
        "#choosing the target and the feature\n",
        "xt_nd=dft_nd.iloc[:,[1]].values\n",
        "yt_nd=dft_nd.iloc[:,[0]].values"
      ],
      "execution_count": 1280,
      "outputs": []
    },
    {
      "cell_type": "code",
      "metadata": {
        "id": "J_CpsPh0OvgT"
      },
      "source": [
        "#splitting the data\n",
        "xt_train_nd,xt_test_nd,yt_train_nd,yt_test_nd=train_test_split(xt_nd,yt_nd,test_size=0.30,random_state=40)"
      ],
      "execution_count": 1281,
      "outputs": []
    },
    {
      "cell_type": "code",
      "metadata": {
        "id": "y_F_2yGrOvnN"
      },
      "source": [
        "#fitting the feature\n",
        "polyt_nd=PolynomialFeatures(degree=4)\n",
        "\n",
        "xt_train_nd_fit=polyt_nd.fit_transform(xt_train_nd)\n",
        "xt_test_nd_fit=polyt_nd.fit_transform(xt_test_nd)"
      ],
      "execution_count": 1282,
      "outputs": []
    },
    {
      "cell_type": "code",
      "metadata": {
        "id": "5j30QP5TOvtk",
        "colab": {
          "base_uri": "https://localhost:8080/"
        },
        "outputId": "f8816fc9-f55a-4f5e-829e-052cae9b6a62"
      },
      "source": [
        "#creating the regression model\n",
        "modelt_nd=LinearRegression()\n",
        "modelt_nd.fit(xt_train_nd_fit, yt_train_nd)\n",
        "\n",
        "print('score:')\n",
        "modelt_nd.score(xt_test_nd_fit, yt_test_nd)"
      ],
      "execution_count": 1283,
      "outputs": [
        {
          "output_type": "stream",
          "text": [
            "score:\n"
          ],
          "name": "stdout"
        },
        {
          "output_type": "execute_result",
          "data": {
            "text/plain": [
              "0.7202453158999396"
            ]
          },
          "metadata": {
            "tags": []
          },
          "execution_count": 1283
        }
      ]
    },
    {
      "cell_type": "code",
      "metadata": {
        "id": "UeuJAXYWOv1h",
        "colab": {
          "base_uri": "https://localhost:8080/"
        },
        "outputId": "3ca9e131-0adf-42a4-a247-ebf730188fc6"
      },
      "source": [
        "#calculating metrics\n",
        "predt_nd=modelt_nd.predict(xt_test_nd_fit)\n",
        "print(\"MSE:\", mean_squared_error(yt_test_nd,predt_nd))\n",
        "print(\"R2:\", r2_score(yt_test_nd,predt_nd))"
      ],
      "execution_count": 1284,
      "outputs": [
        {
          "output_type": "stream",
          "text": [
            "MSE: 423.43250639413515\n",
            "R2: 0.7202453158999396\n"
          ],
          "name": "stdout"
        }
      ]
    },
    {
      "cell_type": "code",
      "metadata": {
        "id": "biKU-aCfOwKw",
        "colab": {
          "base_uri": "https://localhost:8080/",
          "height": 312
        },
        "outputId": "41b703bc-ef96-4039-9885-8a795ba68ec4"
      },
      "source": [
        "#plotting the model\n",
        "fig11=plt.figure()\n",
        "plt.scatter(xt_nd,yt_nd, c='yellow')\n",
        "plt.title(\"Actual and predicted new deaths (Tunisia)\")\n",
        "plt.xlabel(\"Day after first observation\")\n",
        "plt.ylabel(\"new death\")\n",
        "plt.plot(xt_nd, modelt_nd.predict(polyt_nd.fit_transform(xt_nd)), color=\"purple\")"
      ],
      "execution_count": 1285,
      "outputs": [
        {
          "output_type": "execute_result",
          "data": {
            "text/plain": [
              "[<matplotlib.lines.Line2D at 0x7f170c5a2e50>]"
            ]
          },
          "metadata": {
            "tags": []
          },
          "execution_count": 1285
        },
        {
          "output_type": "display_data",
          "data": {
            "image/png": "[encoded data removed]",
            "text/plain": [
              "<Figure size 432x288 with 1 Axes>"
            ]
          },
          "metadata": {
            "tags": [],
            "needs_background": "light"
          }
        }
      ]
    },
    {
      "cell_type": "markdown",
      "metadata": {
        "id": "U8nCZiZFOwyy"
      },
      "source": [
        "*cumulative deaths*"
      ]
    },
    {
      "cell_type": "code",
      "metadata": {
        "id": "hFjaesOEO1P-"
      },
      "source": [
        "#choosing the target and the feature\n",
        "xt_cd=dft_cd.iloc[:,[1]].values\n",
        "yt_cd=dft_cd.iloc[:,[0]].values"
      ],
      "execution_count": 1286,
      "outputs": []
    },
    {
      "cell_type": "code",
      "metadata": {
        "id": "WQRg5GsfO1Yk"
      },
      "source": [
        "#splitting the data\n",
        "xt_train_cd,xt_test_cd,yt_train_cd,yt_test_cd=train_test_split(xt_cd,yt_cd,test_size=0.30,random_state=40)"
      ],
      "execution_count": 1287,
      "outputs": []
    },
    {
      "cell_type": "code",
      "metadata": {
        "id": "7lX4JzrZO1ge"
      },
      "source": [
        "#fitting the feature\n",
        "polyt_cd=PolynomialFeatures(degree=2)\n",
        "\n",
        "xt_train_cd_fit=polyt_cd.fit_transform(xt_train_cd)\n",
        "xt_test_cd_fit=polyt_cd.fit_transform(xt_test_cd)"
      ],
      "execution_count": 1288,
      "outputs": []
    },
    {
      "cell_type": "code",
      "metadata": {
        "id": "cCuVmNG6O1pT",
        "colab": {
          "base_uri": "https://localhost:8080/"
        },
        "outputId": "535cd0e3-02a7-466b-9e94-419518bbb172"
      },
      "source": [
        "#creating the regression model\n",
        "modelt_cd=LinearRegression()\n",
        "modelt_cd.fit(xt_train_cd_fit, yt_train_cd)\n",
        "\n",
        "print('score:')\n",
        "modelt_cd.score(xt_test_cd_fit, yt_test_cd)"
      ],
      "execution_count": 1289,
      "outputs": [
        {
          "output_type": "stream",
          "text": [
            "score:\n"
          ],
          "name": "stdout"
        },
        {
          "output_type": "execute_result",
          "data": {
            "text/plain": [
              "0.9892509435594702"
            ]
          },
          "metadata": {
            "tags": []
          },
          "execution_count": 1289
        }
      ]
    },
    {
      "cell_type": "code",
      "metadata": {
        "id": "GuVUiM4vO1xJ",
        "colab": {
          "base_uri": "https://localhost:8080/"
        },
        "outputId": "89ebcf79-ab6d-4dcc-d8f2-6730a28f24a2"
      },
      "source": [
        "#calculating metrics\n",
        "predt_cd=modelt_cd.predict(xt_test_cd_fit)\n",
        "print(\"MSE:\", mean_squared_error(yt_test_cd,predt_cd))\n",
        "print(\"R2:\", r2_score(yt_test_cd,predt_cd))"
      ],
      "execution_count": 1290,
      "outputs": [
        {
          "output_type": "stream",
          "text": [
            "MSE: 286801.3764223027\n",
            "R2: 0.9892509435594702\n"
          ],
          "name": "stdout"
        }
      ]
    },
    {
      "cell_type": "code",
      "metadata": {
        "id": "-QtCJHa5O15I",
        "colab": {
          "base_uri": "https://localhost:8080/",
          "height": 312
        },
        "outputId": "b229e0cb-b34b-452a-a528-bda80da202ee"
      },
      "source": [
        "#plotting the model\n",
        "fig12=plt.figure()\n",
        "plt.scatter(xt_cd,yt_cd, c='lime')\n",
        "plt.title(\"Actual and predicted cumulative deaths (Tunisia)\")\n",
        "plt.xlabel(\"Day after first observation\")\n",
        "plt.ylabel(\"Cumulative death\")\n",
        "plt.plot(xt_cd, modelt_cd.predict(polyt_cd.fit_transform(xt_cd)), color=\"purple\")"
      ],
      "execution_count": 1291,
      "outputs": [
        {
          "output_type": "execute_result",
          "data": {
            "text/plain": [
              "[<matplotlib.lines.Line2D at 0x7f170c51c150>]"
            ]
          },
          "metadata": {
            "tags": []
          },
          "execution_count": 1291
        },
        {
          "output_type": "display_data",
          "data": {
            "image/png": "[encoded data removed]",
            "text/plain": [
              "<Figure size 432x288 with 1 Axes>"
            ]
          },
          "metadata": {
            "tags": [],
            "needs_background": "light"
          }
        }
      ]
    },
    {
      "cell_type": "markdown",
      "metadata": {
        "id": "2ipnxUmtzrLQ"
      },
      "source": [
        "# **Experimentation**"
      ]
    },
    {
      "cell_type": "code",
      "metadata": {
        "id": "xdd4AGAbzsIT",
        "colab": {
          "base_uri": "https://localhost:8080/"
        },
        "outputId": "564411fd-9de6-4af3-fde4-840799f04aec"
      },
      "source": [
        "print(90*'-')\n",
        "print('COVID-19 Propagation predictor'.center(85))\n",
        "print(90*'-', end='\\n\\n\\n')\n",
        "\n",
        "print(38*'-', 'DESCRIPTION', 39*'-', end='\\n\\n')\n",
        "print(\"\"\"Given a choice between global (g) and Tunisia (t) and an integer n,\n",
        "the predictor uses a set of regression models in order to:\n",
        ">>Predict new cases n days after the day when the last observation was made.\n",
        ">>Predict Cumulative cases n days after the day when the last observation was made.\n",
        ">>Predict new deaths n days after the day when the last observation was made.\n",
        ">>Predict cumulative deaths n days after the day when the last observation was made.\n",
        "\n",
        "NOTE: Download and use the latest dataset using the link:'https://covid19.who.int/WHO-COVID-19-global-data.csv' \n",
        "NOTE: In order to get the most precise prediction, n should be between 1 and 30 inclusive.\n",
        "\"\"\", end='\\n\\n')\n",
        "print(39*'-', 'PREDICTION', 39*'-', end='\\n\\n')\n",
        "date = df.iloc[-1, 0]\n",
        "print('Last observation was made on: {0}.'.format(date), end='\\n\\n')\n",
        "\n",
        "decision=0\n",
        "while True:\n",
        "  area=input(\"Enter g for global Covid-19 prediction, or t for local Covid-19 prediction in Tunisia: \")\n",
        "  if area in 'gG':\n",
        "    decision=1\n",
        "    break\n",
        "  elif area in 'tT':\n",
        "    decision=2\n",
        "    break\n",
        "  else:\n",
        "    print('Please, enter a valid character.')\n",
        "    continue\n",
        "\n",
        "while True:\n",
        "  try:\n",
        "    n=int(input(\"Enter an integer n where n = number of days after last observation day: \"))\n",
        "    break\n",
        "  except:\n",
        "    print('Please, enter a valid integer.')\n",
        "    continue\n",
        "\n",
        "if n<1 or n>30:\n",
        "  print(\"WARNING: The integer n should be between 1 and 30 inclusive.\")\n",
        "print('\\n\\n')\n",
        "\n",
        "if decision==1:\n",
        "  print('GLOBAL COVID-19 PREDICTION:')\n",
        "  print('New cases after {0} days from last observation: {1}'.format(n, int(model_nc.predict(poly_nc.fit_transform([[obs+n]])))))\n",
        "  print('New deaths after {0} days from last observation: {1}'.format(n, int(model_nd.predict(poly_nd.fit_transform([[obs+n]])))))\n",
        "  print('Cumulative cases after {0} days from last observation: {1} Millions'.format(n, round(int(model_cc.predict(poly_cc.fit_transform([[obs+n]])))/1000000,2)))\n",
        "  print('Cumulative deaths after {0} days from last observation: {1}K'.format(n, round(int(model_cd.predict(poly_cd.fit_transform([[obs+n]])))/1000,2)))\n",
        "else:\n",
        "  print('LOCAL COVID-19 PREDICTION (TUNISIA):')\n",
        "  print('New cases after {0} days from last observation: {1}'.format(n, int(modelt_nc.predict(polyt_nc.fit_transform([[obs+n]])))))\n",
        "  print('New deaths after {0} days from last observation: {1}'.format(n, int(modelt_nd.predict(polyt_nd.fit_transform([[obs+n]])))))\n",
        "  print('Cumulative cases after {0} days from last observation: {1}'.format(n, int(modelt_cc.predict(polyt_cc.fit_transform([[obs+n]])))))\n",
        "  print('Cumulative deaths after {0} days from last observation: {1}'.format(n, int(modelt_cd.predict(polyt_cd.fit_transform([[obs+n]])))))"
      ],
      "execution_count": 1292,
      "outputs": [
        {
          "output_type": "stream",
          "text": [
            "------------------------------------------------------------------------------------------\n",
            "                            COVID-19 Propagation predictor                           \n",
            "------------------------------------------------------------------------------------------\n",
            "\n",
            "\n",
            "-------------------------------------- DESCRIPTION ---------------------------------------\n",
            "\n",
            "Given a choice between global (g) and Tunisia (t) and an integer n,\n",
            "the predictor uses a set of regression models in order to:\n",
            ">>Predict new cases n days after the day when the last observation was made.\n",
            ">>Predict Cumulative cases n days after the day when the last observation was made.\n",
            ">>Predict new deaths n days after the day when the last observation was made.\n",
            ">>Predict cumulative deaths n days after the day when the last observation was made.\n",
            "\n",
            "NOTE: Download and use the latest dataset using the link:'https://covid19.who.int/WHO-COVID-19-global-data.csv' \n",
            "NOTE: In order to get the most precise prediction, n should be between 1 and 30 inclusive.\n",
            "\n",
            "\n",
            "--------------------------------------- PREDICTION ---------------------------------------\n",
            "\n",
            "Last observation was made on: 2021-07-26.\n",
            "\n",
            "Enter g for global Covid-19 prediction, or t for local Covid-19 prediction in Tunisia: t\n",
            "Enter an integer n where n = number of days after last observation day: 15\n",
            "\n",
            "\n",
            "\n",
            "LOCAL COVID-19 PREDICTION (TUNISIA):\n",
            "New cases after 15 days from last observation: 6742\n",
            "New deaths after 15 days from last observation: 167\n",
            "Cumulative cases after 15 days from last observation: 530405\n",
            "Cumulative deaths after 15 days from last observation: 18525\n"
          ],
          "name": "stdout"
        }
      ]
    }
  ]
}